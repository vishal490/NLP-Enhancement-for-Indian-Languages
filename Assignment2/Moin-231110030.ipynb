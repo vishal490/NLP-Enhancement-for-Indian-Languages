{
  "cells": [
    {
      "cell_type": "markdown",
      "metadata": {
        "id": "v3lByD4-5PdZ"
      },
      "source": [
        "#Answer 2"
      ]
    },
    {
      "cell_type": "code",
      "execution_count": 3,
      "metadata": {
        "colab": {
          "base_uri": "https://localhost:8080/"
        },
        "id": "Em7Xa4-3Ldxg",
        "outputId": "7c96ff74-aaef-47fb-b1bf-950dcfb89d92"
      },
      "outputs": [
        {
          "output_type": "stream",
          "name": "stdout",
          "text": [
            "Mounted at /content/drive\n"
          ]
        }
      ],
      "source": [
        "from google.colab import drive\n",
        "\n",
        "# Mount Google Drive\n",
        "drive.mount('/content/drive')\n"
      ]
    },
    {
      "cell_type": "markdown",
      "source": [
        "**install required module (will take 45 second)**"
      ],
      "metadata": {
        "id": "QTSajMv00_Td"
      }
    },
    {
      "cell_type": "code",
      "execution_count": 4,
      "metadata": {
        "id": "uCOLc2AmjqRp",
        "colab": {
          "base_uri": "https://localhost:8080/"
        },
        "outputId": "5679fee4-6e47-46d1-e3b8-cee92778112d"
      },
      "outputs": [
        {
          "output_type": "stream",
          "name": "stdout",
          "text": [
            "Requirement already satisfied: transformers in /usr/local/lib/python3.10/dist-packages (4.38.2)\n",
            "Requirement already satisfied: filelock in /usr/local/lib/python3.10/dist-packages (from transformers) (3.13.1)\n",
            "Requirement already satisfied: huggingface-hub<1.0,>=0.19.3 in /usr/local/lib/python3.10/dist-packages (from transformers) (0.20.3)\n",
            "Requirement already satisfied: numpy>=1.17 in /usr/local/lib/python3.10/dist-packages (from transformers) (1.25.2)\n",
            "Requirement already satisfied: packaging>=20.0 in /usr/local/lib/python3.10/dist-packages (from transformers) (23.2)\n",
            "Requirement already satisfied: pyyaml>=5.1 in /usr/local/lib/python3.10/dist-packages (from transformers) (6.0.1)\n",
            "Requirement already satisfied: regex!=2019.12.17 in /usr/local/lib/python3.10/dist-packages (from transformers) (2023.12.25)\n",
            "Requirement already satisfied: requests in /usr/local/lib/python3.10/dist-packages (from transformers) (2.31.0)\n",
            "Requirement already satisfied: tokenizers<0.19,>=0.14 in /usr/local/lib/python3.10/dist-packages (from transformers) (0.15.2)\n",
            "Requirement already satisfied: safetensors>=0.4.1 in /usr/local/lib/python3.10/dist-packages (from transformers) (0.4.2)\n",
            "Requirement already satisfied: tqdm>=4.27 in /usr/local/lib/python3.10/dist-packages (from transformers) (4.66.2)\n",
            "Requirement already satisfied: fsspec>=2023.5.0 in /usr/local/lib/python3.10/dist-packages (from huggingface-hub<1.0,>=0.19.3->transformers) (2023.6.0)\n",
            "Requirement already satisfied: typing-extensions>=3.7.4.3 in /usr/local/lib/python3.10/dist-packages (from huggingface-hub<1.0,>=0.19.3->transformers) (4.10.0)\n",
            "Requirement already satisfied: charset-normalizer<4,>=2 in /usr/local/lib/python3.10/dist-packages (from requests->transformers) (3.3.2)\n",
            "Requirement already satisfied: idna<4,>=2.5 in /usr/local/lib/python3.10/dist-packages (from requests->transformers) (3.6)\n",
            "Requirement already satisfied: urllib3<3,>=1.21.1 in /usr/local/lib/python3.10/dist-packages (from requests->transformers) (2.0.7)\n",
            "Requirement already satisfied: certifi>=2017.4.17 in /usr/local/lib/python3.10/dist-packages (from requests->transformers) (2024.2.2)\n",
            "Collecting datasets\n",
            "  Downloading datasets-2.18.0-py3-none-any.whl (510 kB)\n",
            "\u001b[2K     \u001b[90m━━━━━━━━━━━━━━━━━━━━━━━━━━━━━━━━━━━━━━━━\u001b[0m \u001b[32m510.5/510.5 kB\u001b[0m \u001b[31m5.7 MB/s\u001b[0m eta \u001b[36m0:00:00\u001b[0m\n",
            "\u001b[?25hRequirement already satisfied: filelock in /usr/local/lib/python3.10/dist-packages (from datasets) (3.13.1)\n",
            "Requirement already satisfied: numpy>=1.17 in /usr/local/lib/python3.10/dist-packages (from datasets) (1.25.2)\n",
            "Requirement already satisfied: pyarrow>=12.0.0 in /usr/local/lib/python3.10/dist-packages (from datasets) (14.0.2)\n",
            "Requirement already satisfied: pyarrow-hotfix in /usr/local/lib/python3.10/dist-packages (from datasets) (0.6)\n",
            "Collecting dill<0.3.9,>=0.3.0 (from datasets)\n",
            "  Downloading dill-0.3.8-py3-none-any.whl (116 kB)\n",
            "\u001b[2K     \u001b[90m━━━━━━━━━━━━━━━━━━━━━━━━━━━━━━━━━━━━━━━━\u001b[0m \u001b[32m116.3/116.3 kB\u001b[0m \u001b[31m11.0 MB/s\u001b[0m eta \u001b[36m0:00:00\u001b[0m\n",
            "\u001b[?25hRequirement already satisfied: pandas in /usr/local/lib/python3.10/dist-packages (from datasets) (1.5.3)\n",
            "Requirement already satisfied: requests>=2.19.0 in /usr/local/lib/python3.10/dist-packages (from datasets) (2.31.0)\n",
            "Requirement already satisfied: tqdm>=4.62.1 in /usr/local/lib/python3.10/dist-packages (from datasets) (4.66.2)\n",
            "Collecting xxhash (from datasets)\n",
            "  Downloading xxhash-3.4.1-cp310-cp310-manylinux_2_17_x86_64.manylinux2014_x86_64.whl (194 kB)\n",
            "\u001b[2K     \u001b[90m━━━━━━━━━━━━━━━━━━━━━━━━━━━━━━━━━━━━━━━━\u001b[0m \u001b[32m194.1/194.1 kB\u001b[0m \u001b[31m15.4 MB/s\u001b[0m eta \u001b[36m0:00:00\u001b[0m\n",
            "\u001b[?25hCollecting multiprocess (from datasets)\n",
            "  Downloading multiprocess-0.70.16-py310-none-any.whl (134 kB)\n",
            "\u001b[2K     \u001b[90m━━━━━━━━━━━━━━━━━━━━━━━━━━━━━━━━━━━━━━━━\u001b[0m \u001b[32m134.8/134.8 kB\u001b[0m \u001b[31m12.8 MB/s\u001b[0m eta \u001b[36m0:00:00\u001b[0m\n",
            "\u001b[?25hRequirement already satisfied: fsspec[http]<=2024.2.0,>=2023.1.0 in /usr/local/lib/python3.10/dist-packages (from datasets) (2023.6.0)\n",
            "Requirement already satisfied: aiohttp in /usr/local/lib/python3.10/dist-packages (from datasets) (3.9.3)\n",
            "Requirement already satisfied: huggingface-hub>=0.19.4 in /usr/local/lib/python3.10/dist-packages (from datasets) (0.20.3)\n",
            "Requirement already satisfied: packaging in /usr/local/lib/python3.10/dist-packages (from datasets) (23.2)\n",
            "Requirement already satisfied: pyyaml>=5.1 in /usr/local/lib/python3.10/dist-packages (from datasets) (6.0.1)\n",
            "Requirement already satisfied: aiosignal>=1.1.2 in /usr/local/lib/python3.10/dist-packages (from aiohttp->datasets) (1.3.1)\n",
            "Requirement already satisfied: attrs>=17.3.0 in /usr/local/lib/python3.10/dist-packages (from aiohttp->datasets) (23.2.0)\n",
            "Requirement already satisfied: frozenlist>=1.1.1 in /usr/local/lib/python3.10/dist-packages (from aiohttp->datasets) (1.4.1)\n",
            "Requirement already satisfied: multidict<7.0,>=4.5 in /usr/local/lib/python3.10/dist-packages (from aiohttp->datasets) (6.0.5)\n",
            "Requirement already satisfied: yarl<2.0,>=1.0 in /usr/local/lib/python3.10/dist-packages (from aiohttp->datasets) (1.9.4)\n",
            "Requirement already satisfied: async-timeout<5.0,>=4.0 in /usr/local/lib/python3.10/dist-packages (from aiohttp->datasets) (4.0.3)\n",
            "Requirement already satisfied: typing-extensions>=3.7.4.3 in /usr/local/lib/python3.10/dist-packages (from huggingface-hub>=0.19.4->datasets) (4.10.0)\n",
            "Requirement already satisfied: charset-normalizer<4,>=2 in /usr/local/lib/python3.10/dist-packages (from requests>=2.19.0->datasets) (3.3.2)\n",
            "Requirement already satisfied: idna<4,>=2.5 in /usr/local/lib/python3.10/dist-packages (from requests>=2.19.0->datasets) (3.6)\n",
            "Requirement already satisfied: urllib3<3,>=1.21.1 in /usr/local/lib/python3.10/dist-packages (from requests>=2.19.0->datasets) (2.0.7)\n",
            "Requirement already satisfied: certifi>=2017.4.17 in /usr/local/lib/python3.10/dist-packages (from requests>=2.19.0->datasets) (2024.2.2)\n",
            "Requirement already satisfied: python-dateutil>=2.8.1 in /usr/local/lib/python3.10/dist-packages (from pandas->datasets) (2.8.2)\n",
            "Requirement already satisfied: pytz>=2020.1 in /usr/local/lib/python3.10/dist-packages (from pandas->datasets) (2023.4)\n",
            "Requirement already satisfied: six>=1.5 in /usr/local/lib/python3.10/dist-packages (from python-dateutil>=2.8.1->pandas->datasets) (1.16.0)\n",
            "Installing collected packages: xxhash, dill, multiprocess, datasets\n",
            "Successfully installed datasets-2.18.0 dill-0.3.8 multiprocess-0.70.16 xxhash-3.4.1\n",
            "Requirement already satisfied: sentencepiece in /usr/local/lib/python3.10/dist-packages (0.1.99)\n",
            "Collecting seqeval\n",
            "  Downloading seqeval-1.2.2.tar.gz (43 kB)\n",
            "\u001b[2K     \u001b[90m━━━━━━━━━━━━━━━━━━━━━━━━━━━━━━━━━━━━━━━━\u001b[0m \u001b[32m43.6/43.6 kB\u001b[0m \u001b[31m1.2 MB/s\u001b[0m eta \u001b[36m0:00:00\u001b[0m\n",
            "\u001b[?25h  Preparing metadata (setup.py) ... \u001b[?25l\u001b[?25hdone\n",
            "Requirement already satisfied: numpy>=1.14.0 in /usr/local/lib/python3.10/dist-packages (from seqeval) (1.25.2)\n",
            "Requirement already satisfied: scikit-learn>=0.21.3 in /usr/local/lib/python3.10/dist-packages (from seqeval) (1.2.2)\n",
            "Requirement already satisfied: scipy>=1.3.2 in /usr/local/lib/python3.10/dist-packages (from scikit-learn>=0.21.3->seqeval) (1.11.4)\n",
            "Requirement already satisfied: joblib>=1.1.1 in /usr/local/lib/python3.10/dist-packages (from scikit-learn>=0.21.3->seqeval) (1.3.2)\n",
            "Requirement already satisfied: threadpoolctl>=2.0.0 in /usr/local/lib/python3.10/dist-packages (from scikit-learn>=0.21.3->seqeval) (3.3.0)\n",
            "Building wheels for collected packages: seqeval\n",
            "  Building wheel for seqeval (setup.py) ... \u001b[?25l\u001b[?25hdone\n",
            "  Created wheel for seqeval: filename=seqeval-1.2.2-py3-none-any.whl size=16162 sha256=c7dd6b26b9b319d1f49f56062b6ad06893f3570145418bac57d09fd29b51f766\n",
            "  Stored in directory: /root/.cache/pip/wheels/1a/67/4a/ad4082dd7dfc30f2abfe4d80a2ed5926a506eb8a972b4767fa\n",
            "Successfully built seqeval\n",
            "Installing collected packages: seqeval\n",
            "Successfully installed seqeval-1.2.2\n",
            "Collecting accelerate\n",
            "  Downloading accelerate-0.28.0-py3-none-any.whl (290 kB)\n",
            "\u001b[2K     \u001b[90m━━━━━━━━━━━━━━━━━━━━━━━━━━━━━━━━━━━━━━━━\u001b[0m \u001b[32m290.1/290.1 kB\u001b[0m \u001b[31m3.6 MB/s\u001b[0m eta \u001b[36m0:00:00\u001b[0m\n",
            "\u001b[?25hRequirement already satisfied: numpy>=1.17 in /usr/local/lib/python3.10/dist-packages (from accelerate) (1.25.2)\n",
            "Requirement already satisfied: packaging>=20.0 in /usr/local/lib/python3.10/dist-packages (from accelerate) (23.2)\n",
            "Requirement already satisfied: psutil in /usr/local/lib/python3.10/dist-packages (from accelerate) (5.9.5)\n",
            "Requirement already satisfied: pyyaml in /usr/local/lib/python3.10/dist-packages (from accelerate) (6.0.1)\n",
            "Requirement already satisfied: torch>=1.10.0 in /usr/local/lib/python3.10/dist-packages (from accelerate) (2.1.0+cu121)\n",
            "Requirement already satisfied: huggingface-hub in /usr/local/lib/python3.10/dist-packages (from accelerate) (0.20.3)\n",
            "Requirement already satisfied: safetensors>=0.3.1 in /usr/local/lib/python3.10/dist-packages (from accelerate) (0.4.2)\n",
            "Requirement already satisfied: filelock in /usr/local/lib/python3.10/dist-packages (from torch>=1.10.0->accelerate) (3.13.1)\n",
            "Requirement already satisfied: typing-extensions in /usr/local/lib/python3.10/dist-packages (from torch>=1.10.0->accelerate) (4.10.0)\n",
            "Requirement already satisfied: sympy in /usr/local/lib/python3.10/dist-packages (from torch>=1.10.0->accelerate) (1.12)\n",
            "Requirement already satisfied: networkx in /usr/local/lib/python3.10/dist-packages (from torch>=1.10.0->accelerate) (3.2.1)\n",
            "Requirement already satisfied: jinja2 in /usr/local/lib/python3.10/dist-packages (from torch>=1.10.0->accelerate) (3.1.3)\n",
            "Requirement already satisfied: fsspec in /usr/local/lib/python3.10/dist-packages (from torch>=1.10.0->accelerate) (2023.6.0)\n",
            "Requirement already satisfied: triton==2.1.0 in /usr/local/lib/python3.10/dist-packages (from torch>=1.10.0->accelerate) (2.1.0)\n",
            "Requirement already satisfied: requests in /usr/local/lib/python3.10/dist-packages (from huggingface-hub->accelerate) (2.31.0)\n",
            "Requirement already satisfied: tqdm>=4.42.1 in /usr/local/lib/python3.10/dist-packages (from huggingface-hub->accelerate) (4.66.2)\n",
            "Requirement already satisfied: MarkupSafe>=2.0 in /usr/local/lib/python3.10/dist-packages (from jinja2->torch>=1.10.0->accelerate) (2.1.5)\n",
            "Requirement already satisfied: charset-normalizer<4,>=2 in /usr/local/lib/python3.10/dist-packages (from requests->huggingface-hub->accelerate) (3.3.2)\n",
            "Requirement already satisfied: idna<4,>=2.5 in /usr/local/lib/python3.10/dist-packages (from requests->huggingface-hub->accelerate) (3.6)\n",
            "Requirement already satisfied: urllib3<3,>=1.21.1 in /usr/local/lib/python3.10/dist-packages (from requests->huggingface-hub->accelerate) (2.0.7)\n",
            "Requirement already satisfied: certifi>=2017.4.17 in /usr/local/lib/python3.10/dist-packages (from requests->huggingface-hub->accelerate) (2024.2.2)\n",
            "Requirement already satisfied: mpmath>=0.19 in /usr/local/lib/python3.10/dist-packages (from sympy->torch>=1.10.0->accelerate) (1.3.0)\n",
            "Installing collected packages: accelerate\n",
            "Successfully installed accelerate-0.28.0\n"
          ]
        }
      ],
      "source": [
        "!pip3 install transformers\n",
        "!pip3 install datasets\n",
        "!pip3 install sentencepiece\n",
        "!pip3 install seqeval\n",
        "!pip install accelerate"
      ]
    },
    {
      "cell_type": "markdown",
      "metadata": {
        "id": "G9PMc3MzBa0R"
      },
      "source": [
        "#Naampadam Dataset Loading"
      ]
    },
    {
      "cell_type": "markdown",
      "metadata": {
        "id": "UtIyB97198C7"
      },
      "source": [
        "The _Naampadam_ Dataset is a large dataset for Named Entity Recognition in 11 Indian languages.  _Naampadam_ means \"named entity\" in Sanskrit."
      ]
    },
    {
      "cell_type": "markdown",
      "source": [
        "**will take approx 15 second**"
      ],
      "metadata": {
        "id": "ZnPTdotibWmP"
      }
    },
    {
      "cell_type": "code",
      "execution_count": 32,
      "metadata": {
        "colab": {
          "base_uri": "https://localhost:8080/",
          "height": 365,
          "referenced_widgets": [
            "d1a1bdc37ce9478bbb530889cf7fc033",
            "b8d2939efaa245a8924892fb5f83f113",
            "cf0782d1cd6144d2936452f2e1cdc4f0",
            "c47dc02031704c57b98164def3debd87",
            "dd2cd1cb908a4a7c8a23f2b4a29c8d2c",
            "1ec5e94ba59f40049534cac6e70a702b",
            "84010e0a2579488ea421a51064b4f2c3",
            "03065a692fa342a9a3afce53081ff485",
            "7aa86f5f68d646e49a6859d701a83e63",
            "bb38a2c17e194a3fab4d468257b473b4",
            "ba3bab378e5f4fc5902bab839fd21bcd",
            "d8d6bb0c0b344954bdaeffdbc66ce868",
            "d1d6d6ad5d10471a9755af708f696eaa",
            "385bf76fd8734984b7157e2843a93488",
            "76559967882444a09b517a998be3c84f",
            "2947d615f8cb4322b69682b31e7bfbd7",
            "2e8cb0ba05b94f388e1f5cf86362146f",
            "7d841f4369954eaebcb2ac5d931fbf5d",
            "b1d3c2c2b8ba4f95bb9cb30e4024d1eb",
            "69b6641d66844e53b7dbc6452c405158",
            "0bffa3487fa8445fa8e399833aadd610",
            "e2c77237c4314495af18bc89d5ee5fcb",
            "e4578f4e79e3488489e16272dde0c555",
            "69f4dba72a294621bd2fff6a2860162d",
            "49ba618eede248bb9772aad845886544",
            "21aa50bf06aa4ea7b00142e37e0eb6e1",
            "83edc50b17c6412c9474c62e2fc45979",
            "540760db74094fb08f2621f5c415af4a",
            "09b41b949233413d894db79fdd5341ec",
            "9e7ba59d846c4ff4a4cf39deea077de5",
            "9af1a8f100a949579b0af239363a47bd",
            "a995a3592f834935ab59a525529c10e8",
            "6f698ba8a8a141ae87c919252be252d3",
            "92f06d8c005a4b3aa3977b3964e24ea9",
            "418b84e2629d43579a12134ebf320e7c",
            "78008b9b38f0441796b98f21d1db1ed4",
            "3a0bf0f8a9b04360b65e5a70399a014e",
            "13d43f4779d1441f9d13b28fe453511f",
            "e673c33f95fc4fedbcb509c1d04f027c",
            "0c2907f3208245e49848ea30367eec63",
            "b3bbbef68ec646458add54d54b5b71b5",
            "0d7bac05485a44b9a1a6b083b82264a5",
            "0db3a9918b91445b954ec915a712ea36",
            "8d400dab1b5446219502811cad6c316d",
            "433aefd5bdf74380b7eecf0e5204d0cf",
            "805f98b3a9f343bcb6eaf139e2360d6d",
            "f6da03c5ad9a4934a540baf0f205c603",
            "387e544ec25641d98b7dca960a485847",
            "37ea754b616e4523831342eea9ad9f5b",
            "b53d504d9e7f4532b30da692cca60ac0",
            "9f7ee10e353143a98dac3f89df4ddcd4",
            "0301f6af07154110b2c27794bd316bb3",
            "0a570489ed324b8fba8fc89687ba2ccf",
            "a4eaa86d877e4c24b498c7d8b29621f6",
            "2d8eb2584a8543c5a132c4fd2aa0614a",
            "cd4b6e5124d447a58f414fd7932f57e1",
            "7789e03bcf8f4cd8a9dd7ade1f373b7f",
            "e4f913657b8c49b0999ff2bfda5271f1",
            "39c0e1d8e31840f29df2826c7ec14689",
            "25905e470cb941d886d6ab7709244eca",
            "122ba8e566f14bf18132df6042490ffd",
            "0604d6f533a646619676f59c40967821",
            "7565341b0ff0438ab3e040ec6fd08750",
            "4785f0d439604fafb255d6a4087e6455",
            "c0548c1845794ab49b46e3f4decb1084",
            "e92c9457f25b41d29ed6812809952d23",
            "55c4cc85035b43938de62994ec87f529",
            "c8b99a46d1364f659fd0625adf41211a",
            "6484a38ef486423e8c43f9bc7df38d27",
            "a20e7f81dbeb41628f4a0fc1c24e1da4",
            "4740bf0076654d259ffd7dbd7823fb06",
            "e807b90f408c4e38a530876198ea8876",
            "a5fadf90b6864801b50a33a433e63203",
            "f8d65d8c71b446b6b47968e76136f3fb",
            "7e6c65e219034a7cb8bdbb5a80455858",
            "bae807a5cc6049a482d09d335a6bcab9",
            "d2ae70228c3f4d458edc0ec88887c6f2"
          ]
        },
        "id": "65L_S_b_ygVq",
        "outputId": "f41795e0-f565-4aba-db69-25a410038b38"
      },
      "outputs": [
        {
          "output_type": "stream",
          "name": "stderr",
          "text": [
            "/usr/local/lib/python3.10/dist-packages/huggingface_hub/utils/_token.py:88: UserWarning: \n",
            "The secret `HF_TOKEN` does not exist in your Colab secrets.\n",
            "To authenticate with the Hugging Face Hub, create a token in your settings tab (https://huggingface.co/settings/tokens), set it as secret in your Google Colab and restart your session.\n",
            "You will be able to reuse this secret in all of your notebooks.\n",
            "Please note that authentication is recommended but still optional to access public models or datasets.\n",
            "  warnings.warn(\n"
          ]
        },
        {
          "output_type": "display_data",
          "data": {
            "text/plain": [
              "Downloading data:   0%|          | 0.00/93.3M [00:00<?, ?B/s]"
            ],
            "application/vnd.jupyter.widget-view+json": {
              "version_major": 2,
              "version_minor": 0,
              "model_id": "d1a1bdc37ce9478bbb530889cf7fc033"
            }
          },
          "metadata": {}
        },
        {
          "output_type": "display_data",
          "data": {
            "text/plain": [
              "Downloading data:   0%|          | 0.00/5.48M [00:00<?, ?B/s]"
            ],
            "application/vnd.jupyter.widget-view+json": {
              "version_major": 2,
              "version_minor": 0,
              "model_id": "d8d6bb0c0b344954bdaeffdbc66ce868"
            }
          },
          "metadata": {}
        },
        {
          "output_type": "display_data",
          "data": {
            "text/plain": [
              "Downloading data:   0%|          | 0.00/93.5k [00:00<?, ?B/s]"
            ],
            "application/vnd.jupyter.widget-view+json": {
              "version_major": 2,
              "version_minor": 0,
              "model_id": "e4578f4e79e3488489e16272dde0c555"
            }
          },
          "metadata": {}
        },
        {
          "output_type": "display_data",
          "data": {
            "text/plain": [
              "Downloading data:   0%|          | 0.00/1.37M [00:00<?, ?B/s]"
            ],
            "application/vnd.jupyter.widget-view+json": {
              "version_major": 2,
              "version_minor": 0,
              "model_id": "92f06d8c005a4b3aa3977b3964e24ea9"
            }
          },
          "metadata": {}
        },
        {
          "output_type": "display_data",
          "data": {
            "text/plain": [
              "Generating train split:   0%|          | 0/985787 [00:00<?, ? examples/s]"
            ],
            "application/vnd.jupyter.widget-view+json": {
              "version_major": 2,
              "version_minor": 0,
              "model_id": "433aefd5bdf74380b7eecf0e5204d0cf"
            }
          },
          "metadata": {}
        },
        {
          "output_type": "display_data",
          "data": {
            "text/plain": [
              "Generating test split:   0%|          | 0/867 [00:00<?, ? examples/s]"
            ],
            "application/vnd.jupyter.widget-view+json": {
              "version_major": 2,
              "version_minor": 0,
              "model_id": "cd4b6e5124d447a58f414fd7932f57e1"
            }
          },
          "metadata": {}
        },
        {
          "output_type": "display_data",
          "data": {
            "text/plain": [
              "Generating validation split:   0%|          | 0/13460 [00:00<?, ? examples/s]"
            ],
            "application/vnd.jupyter.widget-view+json": {
              "version_major": 2,
              "version_minor": 0,
              "model_id": "55c4cc85035b43938de62994ec87f529"
            }
          },
          "metadata": {}
        }
      ],
      "source": [
        "# download the Naampadam (Indic NER) hindi dataset\n",
        "from datasets import ClassLabel, load_dataset, load_metric, DownloadMode\n",
        "\n",
        "lang='hi'\n",
        "\n",
        "raw_datasets = load_dataset('ai4bharat/naamapadam', lang)"
      ]
    },
    {
      "cell_type": "code",
      "execution_count": 4,
      "metadata": {
        "id": "w5fXacqLIx49",
        "colab": {
          "base_uri": "https://localhost:8080/"
        },
        "outputId": "9d8b84be-cd8a-4227-d0ab-652edfdd158f"
      },
      "outputs": [
        {
          "output_type": "execute_result",
          "data": {
            "text/plain": [
              "Dataset({\n",
              "    features: ['tokens', 'ner_tags'],\n",
              "    num_rows: 985787\n",
              "})"
            ]
          },
          "metadata": {},
          "execution_count": 4
        }
      ],
      "source": [
        "# print how the Dataset looks like\n",
        "raw_datasets['train']"
      ]
    },
    {
      "cell_type": "code",
      "source": [
        "data = raw_datasets['train']\n",
        "data"
      ],
      "metadata": {
        "colab": {
          "base_uri": "https://localhost:8080/"
        },
        "id": "dPxniLHsCXAh",
        "outputId": "b8f18eb7-52bf-44ff-ea03-88e45c3e593e"
      },
      "execution_count": null,
      "outputs": [
        {
          "output_type": "execute_result",
          "data": {
            "text/plain": [
              "Dataset({\n",
              "    features: ['tokens', 'ner_tags'],\n",
              "    num_rows: 985787\n",
              "})"
            ]
          },
          "metadata": {},
          "execution_count": 6
        }
      ]
    },
    {
      "cell_type": "markdown",
      "source": [
        "**make pandas dataframe (will take approx 2 minute)**"
      ],
      "metadata": {
        "id": "ig7tf_V81vWR"
      }
    },
    {
      "cell_type": "code",
      "source": [
        "# import pandas as pd\n",
        "# df = pd.DataFrame(data)"
      ],
      "metadata": {
        "id": "Rb4EvM24DQ3M"
      },
      "execution_count": null,
      "outputs": []
    },
    {
      "cell_type": "code",
      "source": [
        "# print(df.head())"
      ],
      "metadata": {
        "id": "Pr8nvbmrGh7X"
      },
      "execution_count": null,
      "outputs": []
    },
    {
      "cell_type": "markdown",
      "source": [
        "**Filter test Sentences for training(will take approx 30 sec)**"
      ],
      "metadata": {
        "id": "oTXmh8k7eVV5"
      }
    },
    {
      "cell_type": "code",
      "source": [
        "# from collections import Counter\n",
        "# percentage = 0.75\n",
        "# filtered_df = df[df.apply(lambda row: Counter(row['ner_tags']).most_common()[0][1] * percentage <= sum(x[1] for x in Counter(row['ner_tags']).most_common() if x[0] != 0), axis=1)]\n",
        "\n",
        "\n",
        "# filtered_df\n",
        "\n"
      ],
      "metadata": {
        "id": "1VI-AuMLF0P9"
      },
      "execution_count": null,
      "outputs": []
    },
    {
      "cell_type": "code",
      "source": [
        "from datasets import Dataset\n",
        "filtered_raw_data = Dataset.from_pandas(filtered_df)\n"
      ],
      "metadata": {
        "id": "hpcGA-vogGxc"
      },
      "execution_count": null,
      "outputs": []
    },
    {
      "cell_type": "code",
      "source": [
        "filtered_raw_data = filtered_raw_data.remove_columns('__index_level_0__')"
      ],
      "metadata": {
        "id": "xgXu9-XUiOqN"
      },
      "execution_count": null,
      "outputs": []
    },
    {
      "cell_type": "code",
      "source": [
        "filtered_raw_data"
      ],
      "metadata": {
        "colab": {
          "base_uri": "https://localhost:8080/"
        },
        "id": "x4roHlxcjpUO",
        "outputId": "96ab001f-f5e9-4c8c-888b-27c7d754be21"
      },
      "execution_count": null,
      "outputs": [
        {
          "output_type": "execute_result",
          "data": {
            "text/plain": [
              "Dataset({\n",
              "    features: ['tokens', 'ner_tags'],\n",
              "    num_rows: 84497\n",
              "})"
            ]
          },
          "metadata": {},
          "execution_count": 10
        }
      ]
    },
    {
      "cell_type": "code",
      "source": [
        "raw_datasets[\"train\"]"
      ],
      "metadata": {
        "id": "LXNS95oTcJkQ",
        "colab": {
          "base_uri": "https://localhost:8080/"
        },
        "outputId": "3c048d69-c00a-471a-89b9-dbb5cdff27e0"
      },
      "execution_count": null,
      "outputs": [
        {
          "output_type": "execute_result",
          "data": {
            "text/plain": [
              "Dataset({\n",
              "    features: ['tokens', 'ner_tags'],\n",
              "    num_rows: 985787\n",
              "})"
            ]
          },
          "metadata": {},
          "execution_count": 10
        }
      ]
    },
    {
      "cell_type": "code",
      "execution_count": null,
      "metadata": {
        "id": "eYBUl7qNULZP"
      },
      "outputs": [],
      "source": [
        "text_column_name = \"tokens\"\n",
        "label_column_name = \"ner_tags\""
      ]
    },
    {
      "cell_type": "markdown",
      "metadata": {
        "id": "YQFDtTDJI0-p"
      },
      "source": [
        "# Training an IndicNER Model with the dataset"
      ]
    },
    {
      "cell_type": "markdown",
      "metadata": {
        "id": "mo2VdmqHRXwZ"
      },
      "source": [
        "download a pre-trained model and fine-tune it for the task of NER. I have have to use the `AutoModelForTokenClassification` class to fine-tune the model"
      ]
    },
    {
      "cell_type": "markdown",
      "source": [
        "**Load Pre-trained Model**"
      ],
      "metadata": {
        "id": "DspV280GBIGo"
      }
    },
    {
      "cell_type": "code",
      "source": [
        "\n",
        "check_output_dir = \"/content/drive/My Drive/IndicNER_3epoch_batch8\"\n"
      ],
      "metadata": {
        "id": "UZu5Dh0JRwic"
      },
      "execution_count": null,
      "outputs": []
    },
    {
      "cell_type": "code",
      "source": [
        "\n",
        "# Load model directly\n",
        "from transformers import AutoTokenizer, AutoModelForTokenClassification\n",
        "\n",
        "tokenizer = AutoTokenizer.from_pretrained(\"ai4bharat/IndicNER\")\n",
        "model = AutoModelForTokenClassification.from_pretrained(\"ai4bharat/IndicNER\")\n"
      ],
      "metadata": {
        "id": "IgE-g5tjP-r7"
      },
      "execution_count": null,
      "outputs": []
    },
    {
      "cell_type": "code",
      "source": [
        "# **Run the next cell  to use a GPU**\n",
        "\n",
        "model=model.to(\"cuda\")"
      ],
      "metadata": {
        "id": "4JfWQIxBHmK7"
      },
      "execution_count": null,
      "outputs": []
    },
    {
      "cell_type": "markdown",
      "metadata": {
        "id": "S8Xu8os_BUNZ"
      },
      "source": [
        "**Tokenize all texts and align the labels with them**"
      ]
    },
    {
      "cell_type": "code",
      "execution_count": null,
      "metadata": {
        "id": "YIX5JTsnHmK7"
      },
      "outputs": [],
      "source": [
        "# Tokenize all texts and align the labels with them.\n",
        "padding = \"max_length\"\n",
        "def tokenize_and_align_labels(examples):\n",
        "    tokenized_inputs = tokenizer(\n",
        "        examples[text_column_name],\n",
        "        padding=padding,\n",
        "        truncation=True,\n",
        "        max_length=128,\n",
        "        # We use this argument because the texts in our dataset are lists of words (with a label for each word).\n",
        "        is_split_into_words=True,\n",
        "    )\n",
        "    labels = []\n",
        "    for i, label in enumerate(examples[label_column_name]):\n",
        "        # print('=====')\n",
        "        # print('{} {}'.format(i,label)) #ak\n",
        "        word_ids = tokenized_inputs.word_ids(batch_index=i)\n",
        "\n",
        "        previous_word_idx = None\n",
        "        label_ids = []\n",
        "        for word_idx in word_ids:\n",
        "            # Special tokens have a word id that is None. We set the label to -100 so they are automatically\n",
        "            # ignored in the loss function.\n",
        "            if word_idx is None:\n",
        "                label_ids.append(-100)\n",
        "            # We set the label for the first token of each word.\n",
        "            elif word_idx != previous_word_idx:\n",
        "                label_ids.append(label[word_idx])\n",
        "            # For the other tokens in a word, we set the label to either the current label or -100, depending on\n",
        "            # the label_all_tokens flag.\n",
        "            else:\n",
        "                label_ids.append(-100)\n",
        "            previous_word_idx = word_idx\n",
        "\n",
        "        labels.append(label_ids)\n",
        "    tokenized_inputs[\"labels\"] = labels\n",
        "    return tokenized_inputs"
      ]
    },
    {
      "cell_type": "markdown",
      "source": [
        "**preparing train dataset**"
      ],
      "metadata": {
        "id": "CH-5-EyEDCWh"
      }
    },
    {
      "cell_type": "code",
      "source": [
        "\n",
        "from datasets import Dataset\n",
        "train_dataset = raw_datasets[\"train\"]\n",
        "# from train data sampling 1 lakhs sentences\n",
        "samples_train_data = train_dataset.shuffle(seed=42).select(range(20000))\n",
        "\n",
        "# samples_train_data = filtered_raw_data\n",
        "samples_train_data = samples_train_data.map(\n",
        "    tokenize_and_align_labels,\n",
        "    batched=True,\n",
        "    num_proc=4,\n",
        "    load_from_cache_file=True,\n",
        "    desc=\"Running tokenizer on train dataset\",\n",
        "\n",
        ")\n",
        "\n"
      ],
      "metadata": {
        "id": "kNoo8-rrHmK7"
      },
      "execution_count": null,
      "outputs": []
    },
    {
      "cell_type": "markdown",
      "source": [
        "**preparing validation data**"
      ],
      "metadata": {
        "id": "pTPdf9RAJOvt"
      }
    },
    {
      "cell_type": "code",
      "source": [
        "eval_dataset = raw_datasets[\"validation\"]\n",
        "eval_dataset = eval_dataset.map(\n",
        "      tokenize_and_align_labels,\n",
        "      batched=True,\n",
        "      num_proc=4,\n",
        "      load_from_cache_file=True,\n",
        "      desc=\"Running tokenizer on Validation dataset\",\n",
        ")\n"
      ],
      "metadata": {
        "id": "v4k2egiyHmK8"
      },
      "execution_count": null,
      "outputs": []
    },
    {
      "cell_type": "markdown",
      "metadata": {
        "id": "B4fQl8c1B1CO"
      },
      "source": [
        "**Set Training Arguments**"
      ]
    },
    {
      "cell_type": "code",
      "source": [
        "from transformers import TrainingArguments ,Trainer\n",
        "\n",
        "args=TrainingArguments(\n",
        "    output_dir=check_output_dir,\n",
        "    per_device_train_batch_size=8,\n",
        "    per_device_eval_batch_size=8,\n",
        "    num_train_epochs=3,\n",
        "    save_steps=4000,\n",
        "    )\n"
      ],
      "metadata": {
        "id": "6VqwJ7ugRD7X"
      },
      "execution_count": null,
      "outputs": []
    },
    {
      "cell_type": "code",
      "source": [
        "\n",
        "trainer = Trainer(\n",
        "    model=model,\n",
        "    train_dataset=samples_train_data,\n",
        "    eval_dataset=eval_dataset,\n",
        "    tokenizer=tokenizer,\n",
        "    args=args,\n",
        ")\n"
      ],
      "metadata": {
        "id": "vBz8ZFYGfakw"
      },
      "execution_count": null,
      "outputs": []
    },
    {
      "cell_type": "markdown",
      "metadata": {
        "id": "Qn30_OWzCFTM"
      },
      "source": [
        "\n",
        "##Training"
      ]
    },
    {
      "cell_type": "markdown",
      "source": [
        "```\n",
        "trainer.args\n",
        "```"
      ],
      "metadata": {
        "id": "KvoHHBqaVbQk"
      }
    },
    {
      "cell_type": "code",
      "source": [
        "\n",
        "train_result = trainer.train()\n",
        "\n"
      ],
      "metadata": {
        "id": "JxeugXOWfzIG",
        "colab": {
          "base_uri": "https://localhost:8080/",
          "height": 545
        },
        "outputId": "dd371387-ad10-437d-db1a-4a72a98391e7"
      },
      "execution_count": null,
      "outputs": [
        {
          "output_type": "display_data",
          "data": {
            "text/plain": [
              "<IPython.core.display.HTML object>"
            ],
            "text/html": [
              "\n",
              "    <div>\n",
              "      \n",
              "      <progress value='7500' max='7500' style='width:300px; height:20px; vertical-align: middle;'></progress>\n",
              "      [7500/7500 28:12, Epoch 3/3]\n",
              "    </div>\n",
              "    <table border=\"1\" class=\"dataframe\">\n",
              "  <thead>\n",
              " <tr style=\"text-align: left;\">\n",
              "      <th>Step</th>\n",
              "      <th>Training Loss</th>\n",
              "    </tr>\n",
              "  </thead>\n",
              "  <tbody>\n",
              "    <tr>\n",
              "      <td>500</td>\n",
              "      <td>0.371400</td>\n",
              "    </tr>\n",
              "    <tr>\n",
              "      <td>1000</td>\n",
              "      <td>0.174000</td>\n",
              "    </tr>\n",
              "    <tr>\n",
              "      <td>1500</td>\n",
              "      <td>0.177200</td>\n",
              "    </tr>\n",
              "    <tr>\n",
              "      <td>2000</td>\n",
              "      <td>0.181500</td>\n",
              "    </tr>\n",
              "    <tr>\n",
              "      <td>2500</td>\n",
              "      <td>0.170900</td>\n",
              "    </tr>\n",
              "    <tr>\n",
              "      <td>3000</td>\n",
              "      <td>0.127400</td>\n",
              "    </tr>\n",
              "    <tr>\n",
              "      <td>3500</td>\n",
              "      <td>0.117500</td>\n",
              "    </tr>\n",
              "    <tr>\n",
              "      <td>4000</td>\n",
              "      <td>0.115300</td>\n",
              "    </tr>\n",
              "    <tr>\n",
              "      <td>4500</td>\n",
              "      <td>0.118900</td>\n",
              "    </tr>\n",
              "    <tr>\n",
              "      <td>5000</td>\n",
              "      <td>0.129700</td>\n",
              "    </tr>\n",
              "    <tr>\n",
              "      <td>5500</td>\n",
              "      <td>0.075500</td>\n",
              "    </tr>\n",
              "    <tr>\n",
              "      <td>6000</td>\n",
              "      <td>0.080900</td>\n",
              "    </tr>\n",
              "    <tr>\n",
              "      <td>6500</td>\n",
              "      <td>0.082200</td>\n",
              "    </tr>\n",
              "    <tr>\n",
              "      <td>7000</td>\n",
              "      <td>0.077600</td>\n",
              "    </tr>\n",
              "    <tr>\n",
              "      <td>7500</td>\n",
              "      <td>0.082700</td>\n",
              "    </tr>\n",
              "  </tbody>\n",
              "</table><p>"
            ]
          },
          "metadata": {}
        }
      ]
    },
    {
      "cell_type": "markdown",
      "metadata": {
        "id": "3YwzWnONBn2K"
      },
      "source": [
        "**Saving finetuned model on drive**"
      ]
    },
    {
      "cell_type": "code",
      "source": [
        "\n",
        "try:\n",
        "    trainer.save_model(\"/content/drive/My Drive/Indic_Ner_3epoch_batch8\")\n",
        "    print(\"Model saved successfully.\")\n",
        "except Exception as e:\n",
        "    print(\"Error:\", e)\n",
        "\n"
      ],
      "metadata": {
        "id": "ZktHY2D5ugP7",
        "colab": {
          "base_uri": "https://localhost:8080/"
        },
        "outputId": "b56be7d4-c05d-4ff3-92a0-f77abc3ae9d0"
      },
      "execution_count": null,
      "outputs": [
        {
          "output_type": "stream",
          "name": "stdout",
          "text": [
            "Model saved successfully.\n"
          ]
        }
      ]
    },
    {
      "cell_type": "code",
      "source": [
        "print(\"moin\")"
      ],
      "metadata": {
        "id": "zumPcgHkUPZ2"
      },
      "execution_count": null,
      "outputs": []
    },
    {
      "cell_type": "markdown",
      "metadata": {
        "id": "-cYCz6bWjGKj"
      },
      "source": [
        "##Fine-Tuning IndicBERT"
      ]
    },
    {
      "cell_type": "markdown",
      "metadata": {
        "id": "BbBM5dA056bZ"
      },
      "source": [
        "### Let us now load the Pre-trained model"
      ]
    },
    {
      "cell_type": "code",
      "source": [
        "\n",
        "# Define the output directory in your Google Drive\n",
        "check_output_dir = \"/content/drive/My Drive/checkpoint_Bert_batch8\"\n"
      ],
      "metadata": {
        "id": "2vaOk-HPMpDa"
      },
      "execution_count": null,
      "outputs": []
    },
    {
      "cell_type": "code",
      "source": [
        "\n",
        "from transformers import AutoModelForTokenClassification, AutoConfig, AutoTokenizer, TrainingArguments, Trainer, DataCollatorForTokenClassification\n",
        "import numpy as np\n",
        "\n",
        "config = AutoConfig.from_pretrained('ai4bharat/indic-bert', num_labels=7, finetuning_task='ner')\n",
        "tokenizer = AutoTokenizer.from_pretrained(\"ai4bharat/indic-bert\")\n",
        "model = AutoModelForTokenClassification.from_pretrained('ai4bharat/indic-bert', num_labels=7 )\n"
      ],
      "metadata": {
        "id": "WLV_JKC_5-F7",
        "colab": {
          "base_uri": "https://localhost:8080/"
        },
        "outputId": "cc752efa-abc2-4a8e-8a18-276b4c9da74d"
      },
      "execution_count": null,
      "outputs": [
        {
          "output_type": "stream",
          "name": "stderr",
          "text": [
            "Some weights of AlbertForTokenClassification were not initialized from the model checkpoint at ai4bharat/indic-bert and are newly initialized: ['classifier.bias', 'classifier.weight']\n",
            "You should probably TRAIN this model on a down-stream task to be able to use it for predictions and inference.\n"
          ]
        }
      ]
    },
    {
      "cell_type": "code",
      "source": [
        "\n",
        "model=model.to(\"cuda\")\n"
      ],
      "metadata": {
        "id": "JVCzWXHQ6jrY"
      },
      "execution_count": null,
      "outputs": []
    },
    {
      "cell_type": "markdown",
      "source": [
        "**Tokenize all texts and align the labels with them**"
      ],
      "metadata": {
        "id": "d7redAafC4mj"
      }
    },
    {
      "cell_type": "code",
      "source": [
        "padding = \"max_length\"\n",
        "def tokenize_and_align_labels(examples):\n",
        "    tokenized_inputs = tokenizer(\n",
        "        examples[text_column_name],\n",
        "        padding=padding,\n",
        "        truncation=True,\n",
        "        max_length=128,\n",
        "        # We use this argument because the texts in our dataset are lists of words (with a label for each word).\n",
        "        is_split_into_words=True,\n",
        "    )\n",
        "    labels = []\n",
        "    for i, label in enumerate(examples[label_column_name]):\n",
        "        # print('=====')\n",
        "        # print('{} {}'.format(i,label)) #ak\n",
        "        word_ids = tokenized_inputs.word_ids(batch_index=i)\n",
        "\n",
        "        previous_word_idx = None\n",
        "        label_ids = []\n",
        "        for word_idx in word_ids:\n",
        "            # Special tokens have a word id that is None. We set the label to -100 so they are automatically\n",
        "            # ignored in the loss function.\n",
        "            if word_idx is None:\n",
        "                label_ids.append(-100)\n",
        "            # We set the label for the first token of each word.\n",
        "            elif word_idx != previous_word_idx:\n",
        "                label_ids.append(label[word_idx])\n",
        "            # For the other tokens in a word, we set the label to either the current label or -100, depending on\n",
        "            # the label_all_tokens flag.\n",
        "            else:\n",
        "                label_ids.append(-100)\n",
        "            previous_word_idx = word_idx\n",
        "\n",
        "        labels.append(label_ids)\n",
        "    tokenized_inputs[\"labels\"] = labels\n",
        "    return tokenized_inputs\n"
      ],
      "metadata": {
        "id": "jWN7Sm-GJ1hD"
      },
      "execution_count": null,
      "outputs": []
    },
    {
      "cell_type": "markdown",
      "source": [
        "**prepare training data**"
      ],
      "metadata": {
        "id": "6Va8uEK0a7-K"
      }
    },
    {
      "cell_type": "markdown",
      "source": [
        "```\n",
        "from datasets import Dataset\n",
        "train_dataset = raw_datasets[\"train\"]\n",
        "\n",
        "# from train data sampling 1 lakhs sentences\n",
        "# samples_train_data = train_dataset.shuffle(seed=42).select(range(100000))\n",
        "samples_train_data = filtered_raw_data\n",
        "samples_train_data = samples_train_data.map(\n",
        "    tokenize_and_align_labels,\n",
        "    batched=True,\n",
        "    num_proc=4,\n",
        "    load_from_cache_file=True,\n",
        "    desc=\"Running tokenizer on train dataset\",\n",
        ")\n",
        "```"
      ],
      "metadata": {
        "id": "xdP0wxT_J1hE"
      }
    },
    {
      "cell_type": "markdown",
      "source": [
        "**prepare validation data**"
      ],
      "metadata": {
        "id": "Q1_AkVu4bFa2"
      }
    },
    {
      "cell_type": "markdown",
      "source": [
        "```\n",
        "eval_dataset = raw_datasets[\"validation\"]\n",
        "eval_dataset = eval_dataset.map(\n",
        "    tokenize_and_align_labels,\n",
        "    batched=True,\n",
        "    num_proc=4,\n",
        "    load_from_cache_file=True,\n",
        "    desc=\"Running tokenizer on Validation dataset\",\n",
        ")\n",
        "```"
      ],
      "metadata": {
        "id": "TEiYBSumJ1hE"
      }
    },
    {
      "cell_type": "markdown",
      "metadata": {
        "id": "3_pRghkHOCQZ"
      },
      "source": [
        "## Set Training Arguments"
      ]
    },
    {
      "cell_type": "code",
      "source": [
        "\n",
        "args=TrainingArguments(\n",
        "    output_dir=check_output_dir,\n",
        "    per_device_train_batch_size=8,\n",
        "    per_device_eval_batch_size=8,\n",
        "    num_train_epochs=3,\n",
        "     save_steps=4000 ,)\n"
      ],
      "metadata": {
        "id": "_VNOLB9LOJdF"
      },
      "execution_count": null,
      "outputs": []
    },
    {
      "cell_type": "code",
      "source": [
        "\n",
        "# Initialize the trainer\n",
        "trainer = Trainer(\n",
        "    model=model,\n",
        "    train_dataset=samples_train_data,\n",
        "    eval_dataset=eval_dataset,\n",
        "    tokenizer=tokenizer,\n",
        "    args=args,\n",
        ")\n"
      ],
      "metadata": {
        "id": "Nx23T5FXOKOo"
      },
      "execution_count": null,
      "outputs": []
    },
    {
      "cell_type": "markdown",
      "metadata": {
        "id": "IjXhxwEqICiX"
      },
      "source": [
        "## Train the model"
      ]
    },
    {
      "cell_type": "code",
      "source": [
        "\n",
        "train_result = trainer.train()\n"
      ],
      "metadata": {
        "id": "kp8BdnmWOQIU",
        "colab": {
          "base_uri": "https://localhost:8080/",
          "height": 1000
        },
        "outputId": "e7a633d6-b55c-467c-beec-97a6233cad52"
      },
      "execution_count": null,
      "outputs": [
        {
          "data": {
            "text/html": [
              "\n",
              "    <div>\n",
              "      \n",
              "      <progress value='7087' max='7500' style='width:300px; height:20px; vertical-align: middle;'></progress>\n",
              "      [7087/7500 20:36 < 01:12, 5.73 it/s, Epoch 2.83/3]\n",
              "    </div>\n",
              "    <table border=\"1\" class=\"dataframe\">\n",
              "  <thead>\n",
              " <tr style=\"text-align: left;\">\n",
              "      <th>Step</th>\n",
              "      <th>Training Loss</th>\n",
              "    </tr>\n",
              "  </thead>\n",
              "  <tbody>\n",
              "    <tr>\n",
              "      <td>500</td>\n",
              "      <td>0.671700</td>\n",
              "    </tr>\n",
              "    <tr>\n",
              "      <td>1000</td>\n",
              "      <td>0.504700</td>\n",
              "    </tr>\n",
              "    <tr>\n",
              "      <td>1500</td>\n",
              "      <td>0.454400</td>\n",
              "    </tr>\n",
              "    <tr>\n",
              "      <td>2000</td>\n",
              "      <td>0.422600</td>\n",
              "    </tr>\n",
              "    <tr>\n",
              "      <td>2500</td>\n",
              "      <td>0.387700</td>\n",
              "    </tr>\n",
              "    <tr>\n",
              "      <td>3000</td>\n",
              "      <td>0.339300</td>\n",
              "    </tr>\n",
              "    <tr>\n",
              "      <td>3500</td>\n",
              "      <td>0.318500</td>\n",
              "    </tr>\n",
              "    <tr>\n",
              "      <td>4000</td>\n",
              "      <td>0.307900</td>\n",
              "    </tr>\n",
              "    <tr>\n",
              "      <td>4500</td>\n",
              "      <td>0.309700</td>\n",
              "    </tr>\n",
              "    <tr>\n",
              "      <td>5000</td>\n",
              "      <td>0.316700</td>\n",
              "    </tr>\n",
              "    <tr>\n",
              "      <td>5500</td>\n",
              "      <td>0.245400</td>\n",
              "    </tr>\n",
              "    <tr>\n",
              "      <td>6000</td>\n",
              "      <td>0.259900</td>\n",
              "    </tr>\n",
              "    <tr>\n",
              "      <td>6500</td>\n",
              "      <td>0.248500</td>\n",
              "    </tr>\n",
              "    <tr>\n",
              "      <td>7000</td>\n",
              "      <td>0.245000</td>\n",
              "    </tr>\n",
              "  </tbody>\n",
              "</table><p>"
            ],
            "text/plain": [
              "<IPython.core.display.HTML object>"
            ]
          },
          "metadata": {},
          "output_type": "display_data"
        },
        {
          "output_type": "display_data",
          "data": {
            "text/plain": [
              "<IPython.core.display.HTML object>"
            ],
            "text/html": [
              "\n",
              "    <div>\n",
              "      \n",
              "      <progress value='7500' max='7500' style='width:300px; height:20px; vertical-align: middle;'></progress>\n",
              "      [7500/7500 21:48, Epoch 3/3]\n",
              "    </div>\n",
              "    <table border=\"1\" class=\"dataframe\">\n",
              "  <thead>\n",
              " <tr style=\"text-align: left;\">\n",
              "      <th>Step</th>\n",
              "      <th>Training Loss</th>\n",
              "    </tr>\n",
              "  </thead>\n",
              "  <tbody>\n",
              "    <tr>\n",
              "      <td>500</td>\n",
              "      <td>0.671700</td>\n",
              "    </tr>\n",
              "    <tr>\n",
              "      <td>1000</td>\n",
              "      <td>0.504700</td>\n",
              "    </tr>\n",
              "    <tr>\n",
              "      <td>1500</td>\n",
              "      <td>0.454400</td>\n",
              "    </tr>\n",
              "    <tr>\n",
              "      <td>2000</td>\n",
              "      <td>0.422600</td>\n",
              "    </tr>\n",
              "    <tr>\n",
              "      <td>2500</td>\n",
              "      <td>0.387700</td>\n",
              "    </tr>\n",
              "    <tr>\n",
              "      <td>3000</td>\n",
              "      <td>0.339300</td>\n",
              "    </tr>\n",
              "    <tr>\n",
              "      <td>3500</td>\n",
              "      <td>0.318500</td>\n",
              "    </tr>\n",
              "    <tr>\n",
              "      <td>4000</td>\n",
              "      <td>0.307900</td>\n",
              "    </tr>\n",
              "    <tr>\n",
              "      <td>4500</td>\n",
              "      <td>0.309700</td>\n",
              "    </tr>\n",
              "    <tr>\n",
              "      <td>5000</td>\n",
              "      <td>0.316700</td>\n",
              "    </tr>\n",
              "    <tr>\n",
              "      <td>5500</td>\n",
              "      <td>0.245400</td>\n",
              "    </tr>\n",
              "    <tr>\n",
              "      <td>6000</td>\n",
              "      <td>0.259900</td>\n",
              "    </tr>\n",
              "    <tr>\n",
              "      <td>6500</td>\n",
              "      <td>0.248500</td>\n",
              "    </tr>\n",
              "    <tr>\n",
              "      <td>7000</td>\n",
              "      <td>0.245000</td>\n",
              "    </tr>\n",
              "    <tr>\n",
              "      <td>7500</td>\n",
              "      <td>0.241100</td>\n",
              "    </tr>\n",
              "  </tbody>\n",
              "</table><p>"
            ]
          },
          "metadata": {}
        }
      ]
    },
    {
      "cell_type": "markdown",
      "source": [
        "**saving model**"
      ],
      "metadata": {
        "id": "C5dL0ta_bVPr"
      }
    },
    {
      "cell_type": "code",
      "source": [
        "try:\n",
        "    # Save the trained model to your Google Drive\n",
        "    trainer.save_model(\"/content/drive/My Drive/IndicBERT-3epoch_batch8\")\n",
        "    print(\"Model saved successfully.\")\n",
        "except Exception as e:\n",
        "    print(\"Error:\", e)\n",
        "\n"
      ],
      "metadata": {
        "colab": {
          "base_uri": "https://localhost:8080/"
        },
        "id": "Y6nEYn11FmSG",
        "outputId": "39d87f64-213f-4a96-c3ca-f40c890034a0"
      },
      "execution_count": null,
      "outputs": [
        {
          "output_type": "stream",
          "name": "stdout",
          "text": [
            "Model saved successfully.\n"
          ]
        }
      ]
    },
    {
      "cell_type": "markdown",
      "metadata": {
        "id": "J4cFc5rCkPmE"
      },
      "source": [
        "# Testing & Prediction"
      ]
    },
    {
      "cell_type": "markdown",
      "source": [
        "**Storing true tags**"
      ],
      "metadata": {
        "id": "16MOHRYIjhyO"
      }
    },
    {
      "cell_type": "markdown",
      "metadata": {
        "id": "33wBtKzRBwl2"
      },
      "source": [
        "**function to make prediction**"
      ]
    },
    {
      "cell_type": "code",
      "execution_count": 20,
      "metadata": {
        "id": "4T7PnVXjkhN8"
      },
      "outputs": [],
      "source": [
        "def get_predictions( sentence, tokenizer, model ):\n",
        "  # Let us first tokenize the sentence - split words into subwords\n",
        "  tok_sentence = tokenizer(sentence, return_tensors='pt',padding=True,truncation=True,max_length=128)\n",
        "\n",
        "  with torch.no_grad():\n",
        "    # we will send the tokenized sentence to the model to get predictions\n",
        "    logits = model(**tok_sentence).logits.argmax(-1)\n",
        "\n",
        "    # We will map the maximum predicted class id with the class label\n",
        "    predicted_tokens_classes = [model.config.id2label[t.item()] for t in logits[0]]\n",
        "\n",
        "    predicted_labels = []\n",
        "\n",
        "    previous_token_id = 0\n",
        "    # we need to assign the named entity label to the head word and not the following sub-words\n",
        "    word_ids = tok_sentence.word_ids()\n",
        "    for word_index in range(len(word_ids)):\n",
        "        if word_ids[word_index] == None:\n",
        "            previous_token_id = word_ids[word_index]\n",
        "        elif word_ids[word_index] == previous_token_id:\n",
        "            previous_token_id = word_ids[word_index]\n",
        "        else:\n",
        "            predicted_labels.append( predicted_tokens_classes[ word_index ] )\n",
        "            previous_token_id = word_ids[word_index]\n",
        "\n",
        "    return predicted_labels"
      ]
    },
    {
      "cell_type": "markdown",
      "source": [
        "**function to remove tag having imbalance length**"
      ],
      "metadata": {
        "id": "KWbOBQvKYRtI"
      }
    },
    {
      "cell_type": "code",
      "source": [
        "def remove_imbalance_sentences(true_tags,predicted_tags):\n",
        "      true_balance_tags = []\n",
        "      predicted_balance_tags = []\n",
        "      print(type(predicted_tags), type(true_tags))\n",
        "      for i in range(len(true_tags)):\n",
        "          if(len(true_tags[i])==len(predicted_tags[i])):\n",
        "                true_balance_tags.append(true_tags[i])\n",
        "                predicted_balance_tags.append(predicted_tags[i])\n",
        "      return true_balance_tags,predicted_balance_tags\n",
        "\n",
        "\n"
      ],
      "metadata": {
        "id": "14QzMAv4VLqo"
      },
      "execution_count": 21,
      "outputs": []
    },
    {
      "cell_type": "markdown",
      "source": [
        "**function for calculating various measures**"
      ],
      "metadata": {
        "id": "1wSr-_wmYXoY"
      }
    },
    {
      "cell_type": "code",
      "execution_count": 22,
      "metadata": {
        "id": "klEYPPxCzUF_"
      },
      "outputs": [],
      "source": [
        "import numpy as np\n",
        "from sklearn.metrics import precision_score, recall_score, f1_score\n",
        "\n",
        "def calculate_scores(true_tags, predicted_tags):\n",
        "    # remove tags having  different length\n",
        "    true_tags,predicted_tags = remove_imbalance_sentences(true_tags,predicted_tags)\n",
        "\n",
        "    true_tags_flat = np.concatenate(true_tags)\n",
        "    predicted_tags_flat = np.concatenate(predicted_tags)\n",
        "\n",
        "    # Find unique classes\n",
        "    classes = np.unique(true_tags_flat)\n",
        "\n",
        "    # Initialize lists to store precision, recall, and F1 scores for each class\n",
        "    precisions = []\n",
        "    recalls = []\n",
        "    f1_scores = []\n",
        "\n",
        "    # Calculate precision, recall, and F1 score for each class\n",
        "    for class_id in classes:\n",
        "        true_class = np.array(true_tags_flat) == class_id\n",
        "        pred_class = np.array(predicted_tags_flat) == class_id\n",
        "\n",
        "        precision = precision_score(true_class, pred_class, zero_division=1)\n",
        "        recall = recall_score(true_class, pred_class, zero_division=1)\n",
        "        f1 = f1_score(true_class, pred_class, zero_division=1)\n",
        "\n",
        "        # Append scores to respective lists\n",
        "        precisions.append(precision)\n",
        "        recalls.append(recall)\n",
        "        f1_scores.append(f1)\n",
        "\n",
        "        print(f\"Class {label_to_tags[int_id_to_label[class_id]]}:\")\n",
        "        print(f\"  Precision: {precision}\")\n",
        "        print(f\"  Recall: {recall}\")\n",
        "        print(f\"  F1 Score: {f1}\")\n",
        "\n",
        "    # Calculate macro F1 score\n",
        "    macro_f1 = sum(f1_scores) / len(f1_scores)\n",
        "\n",
        "    print(\"----------------------------\")\n",
        "    print(f\"Macro F1 Score: {macro_f1}\")"
      ]
    },
    {
      "cell_type": "code",
      "source": [
        "# print(raw_datasets['test']['tokens'])"
      ],
      "metadata": {
        "id": "_3GfS5GGeocy"
      },
      "execution_count": null,
      "outputs": []
    },
    {
      "cell_type": "markdown",
      "source": [
        "**prediction funtion for whole dataset**"
      ],
      "metadata": {
        "id": "WHVzPSlQYdys"
      }
    },
    {
      "cell_type": "code",
      "source": [
        "data=raw_datasets['test']['tokens']"
      ],
      "metadata": {
        "id": "9vVQhQ5KNBeS"
      },
      "execution_count": 42,
      "outputs": []
    },
    {
      "cell_type": "code",
      "execution_count": 85,
      "metadata": {
        "id": "C4Ur4AF1yTBv"
      },
      "outputs": [],
      "source": [
        "import torch\n",
        "def  prediction_test(path,data=raw_datasets['test']['tokens'],flag=0):\n",
        "      model,tokenizer  =  load_model(path)\n",
        "      predicted_tags = []\n",
        "      for input_text in data:\n",
        "          if flag == 0:\n",
        "             sentence = \" \".join(input_text)\n",
        "          else:\n",
        "            sentence = input_text\n",
        "          prediction = get_predictions(sentence=sentence,\n",
        "                                    tokenizer=tokenizer,\n",
        "                                    model=model\n",
        "                                    )\n",
        "          last_part = path.split('/')[-1]\n",
        "          if last_part != \"Indic_Ner_3epoch_batch_8\" and last_part!= \"Indic_Ner_3epoch_batch_16\" and last_part!=\"filtrered_Indic_NEr_1lakh\":\n",
        "              predicted_tags.append([label_to_int_id[tag] for tag in prediction])\n",
        "          else:\n",
        "              new_prediction = []\n",
        "              for x in prediction:\n",
        "                  new_prediction.append(x)\n",
        "\n",
        "\n",
        "              predicted_tags.append(list(label_to_int_id[label_to_tags_swapped[tag]] for tag in new_prediction))\n",
        "\n",
        "      return predicted_tags"
      ]
    },
    {
      "cell_type": "markdown",
      "metadata": {
        "id": "bjnFx02Q9whh"
      },
      "source": [
        "**defining some important dictionary**"
      ]
    },
    {
      "cell_type": "code",
      "execution_count": 35,
      "metadata": {
        "id": "kU3zLS4H3i1a"
      },
      "outputs": [],
      "source": [
        "label_to_tags = {'LABEL_0':'O', 'LABEL_1':'B-PER', 'LABEL_2':'I-PER', 'LABEL_3':'B-ORG', 'LABEL_4':'I-ORG', 'LABEL_5':'B-LOC', 'LABEL_6':'I-LOC','LABEL_7':'B-MISC','LABEL_8':'I-MISC'}\n",
        "label_to_int_id = {'LABEL_0':0, 'LABEL_1':1, 'LABEL_2':2, 'LABEL_3':3, 'LABEL_4':4, 'LABEL_5':5, 'LABEL_6':6}\n",
        "int_id_to_label = {0: 'LABEL_0', 1: 'LABEL_1', 2: 'LABEL_2', 3: 'LABEL_3', 4: 'LABEL_4', 5: 'LABEL_5', 6: 'LABEL_6',7:'LABEL_7',8:'LABEL_8'}\n",
        "label_to_tags_swapped = {value: key for key, value in label_to_tags.items()}\n",
        "# label_to_tags_swapped\n"
      ]
    },
    {
      "cell_type": "markdown",
      "source": [
        "**setting paths for saved model**"
      ],
      "metadata": {
        "id": "soyPuxt3s-zX"
      }
    },
    {
      "cell_type": "code",
      "source": [
        "Indic_Ner_3epoch_batch_8 = \"/content/drive/My Drive/Indic_Ner_3epoch_batch_8\"\n",
        "Indic_BERT_3epoch_batch_8 = \"/content/drive/My Drive/IndicBERT-3epoch_batch_16\"\n",
        "Indic_Ner_3epoch_batch_16 = \"/content/drive/My Drive/Indic_Ner_3epoch_batch_16\"\n",
        "Indic_BERT_3epoch_batch_16 = \"/content/drive/My Drive/Indic_BERT_3epoch_batch_8\"\n",
        "Indic_BERT_1lakh = \"/content/drive/My Drive/Indic_BERT_1lakh\"\n",
        "Indic_BERT_50k =\"/content/drive/My Drive/Indic_BERT_50k\"\n",
        "filtered_Indic_BERT = \"/content/drive/My Drive/filtered_Indic_BERT_1lakh\"\n",
        "filtrered_Indic_NEr = \"/content/drive/My Drive/filtrered_Indic_NEr_1lakh\"\n",
        "\n",
        "all_models_path = {\n",
        "    0: Indic_Ner_3epoch_batch_8,\n",
        "    1: Indic_BERT_3epoch_batch_8,\n",
        "    2: Indic_Ner_3epoch_batch_16,\n",
        "    3: Indic_BERT_3epoch_batch_16,\n",
        "    4: Indic_BERT_1lakh,\n",
        "    5: Indic_BERT_50k,\n",
        "    6: filtered_Indic_BERT,\n",
        "    7: filtrered_Indic_NEr\n",
        "}\n",
        "\n",
        "all_models_names = {\n",
        "    0: \"Indic_Ner_3epoch_batch_8\",\n",
        "    1: \"Indic_BERT_3epoch_batch_8\",\n",
        "    2: \"Indic_Ner_3epoch_batch_16\",\n",
        "    3: \"Indic_BERT_3epoch_batch_16\",\n",
        "    4: \"Indic_BERT_1lakh\",\n",
        "    5: \"Indic_BERT_50k\",\n",
        "    6: \"filtered_Indic_BERT\",\n",
        "    7: \"filtrered_Indic_NEr\"\n",
        "}\n"
      ],
      "metadata": {
        "id": "R7qh-9j2-sCB"
      },
      "execution_count": 29,
      "outputs": []
    },
    {
      "cell_type": "markdown",
      "source": [
        "**Load finetuned  Model**"
      ],
      "metadata": {
        "id": "KtNX4dsD8u59"
      }
    },
    {
      "cell_type": "code",
      "source": [
        "# load saved fine-tuned model\n",
        "import numpy as np\n",
        "from transformers import AutoModelForTokenClassification, AutoConfig, AutoTokenizer, TrainingArguments, Trainer, DataCollatorForTokenClassification, EarlyStoppingCallback, IntervalStrategy\n",
        "def load_model(path):\n",
        "    tokenizer = AutoTokenizer.from_pretrained(path)\n",
        "    model = AutoModelForTokenClassification.from_pretrained(path)\n",
        "    return model,tokenizer\n"
      ],
      "metadata": {
        "id": "waVo1BzZsmw5"
      },
      "execution_count": 24,
      "outputs": []
    },
    {
      "cell_type": "markdown",
      "metadata": {
        "id": "Aq8F0ojcuzds"
      },
      "source": [
        "**prediction for one sentence exapmle**"
      ]
    },
    {
      "cell_type": "code",
      "execution_count": 25,
      "metadata": {
        "id": "FJ4OSZMUuyoo"
      },
      "outputs": [],
      "source": [
        "def one_Sentence(path,sentence):\n",
        "      model,tokenizer = load_model(path)\n",
        "      prediction = get_predictions(sentence=sentence,\n",
        "                                    tokenizer=tokenizer,\n",
        "                                    model=model\n",
        "                                    )\n",
        "      last_part = path.split(\"/\")[-1]\n",
        "      if last_part != \"Indic_Ner_3epoch_batch_8\" and last_part!= \"Indic_Ner_3epoch_batch_16\" and last_part!=\"filtrered_Indic_NEr_1lakh\":\n",
        "          for index in range(len(sentence.split(' '))):\n",
        "              print( sentence.split(' ')[index] + '\\t' + label_to_tags[prediction[index]] )\n",
        "      else:\n",
        "          for index in range(len(sentence.split(' '))):\n",
        "              print( sentence.split(' ')[index] + '\\t' + prediction[index] )\n",
        "\n"
      ]
    },
    {
      "cell_type": "markdown",
      "source": [
        "## one sentence prediction of all model"
      ],
      "metadata": {
        "id": "_n1JN0kOUsrn"
      }
    },
    {
      "cell_type": "code",
      "source": [
        "sentence = \"विश्लेषकों की सिफारिश के मुताबिक, इंद्रप्रस्थ गैस और पीएनबी हाउसिंग फाइनैंस भी अच्छे विकल्प हो सकते हैं।\"\n",
        "for path in all_models_path.values():\n",
        "    last_part = path.split(\"/\")[-1]\n",
        "    print(f\"\\n\\nModel : {str(last_part)}\\n\")\n",
        "    one_Sentence(path,sentence)\n",
        "\n",
        "\n",
        "\n"
      ],
      "metadata": {
        "id": "wj50j2QJUz2A",
        "outputId": "5a4e0d29-b12b-4caa-8947-16f2024d6069",
        "colab": {
          "base_uri": "https://localhost:8080/"
        }
      },
      "execution_count": 15,
      "outputs": [
        {
          "output_type": "stream",
          "name": "stdout",
          "text": [
            "\n",
            "\n",
            "Model : Indic_Ner_3epoch_batch_8\n",
            "\n",
            "विश्लेषकों\tB-LOC\n",
            "की\tB-LOC\n",
            "सिफारिश\tB-LOC\n",
            "के\tB-LOC\n",
            "मुताबिक,\tB-LOC\n",
            "इंद्रप्रस्थ\tB-LOC\n",
            "गैस\tI-LOC\n",
            "और\tB-LOC\n",
            "पीएनबी\tB-LOC\n",
            "हाउसिंग\tI-LOC\n",
            "फाइनैंस\tB-LOC\n",
            "भी\tB-LOC\n",
            "अच्छे\tB-LOC\n",
            "विकल्प\tB-LOC\n",
            "हो\tB-LOC\n",
            "सकते\tB-LOC\n",
            "हैं।\tB-LOC\n",
            "\n",
            "\n",
            "Model : IndicBERT-3epoch_batch_16\n",
            "\n",
            "विश्लेषकों\tO\n",
            "की\tO\n",
            "सिफारिश\tO\n",
            "के\tO\n",
            "मुताबिक,\tO\n",
            "इंद्रप्रस्थ\tO\n",
            "गैस\tO\n",
            "और\tO\n",
            "पीएनबी\tO\n",
            "हाउसिंग\tO\n",
            "फाइनैंस\tO\n",
            "भी\tO\n",
            "अच्छे\tO\n",
            "विकल्प\tO\n",
            "हो\tO\n",
            "सकते\tO\n",
            "हैं।\tO\n",
            "\n",
            "\n",
            "Model : Indic_Ner_3epoch_batch_16\n",
            "\n",
            "विश्लेषकों\tB-LOC\n",
            "की\tB-LOC\n",
            "सिफारिश\tB-LOC\n",
            "के\tB-LOC\n",
            "मुताबिक,\tB-LOC\n",
            "इंद्रप्रस्थ\tB-LOC\n",
            "गैस\tI-LOC\n",
            "और\tB-LOC\n",
            "पीएनबी\tB-LOC\n",
            "हाउसिंग\tI-LOC\n",
            "फाइनैंस\tI-ORG\n",
            "भी\tB-LOC\n",
            "अच्छे\tB-LOC\n",
            "विकल्प\tB-LOC\n",
            "हो\tB-LOC\n",
            "सकते\tB-LOC\n",
            "हैं।\tB-LOC\n",
            "\n",
            "\n",
            "Model : Indic_BERT_3epoch_batch_8\n",
            "\n",
            "विश्लेषकों\tO\n",
            "की\tO\n",
            "सिफारिश\tO\n",
            "के\tO\n",
            "मुताबिक,\tO\n",
            "इंद्रप्रस्थ\tO\n",
            "गैस\tO\n",
            "और\tO\n",
            "पीएनबी\tO\n",
            "हाउसिंग\tO\n",
            "फाइनैंस\tO\n",
            "भी\tO\n",
            "अच्छे\tO\n",
            "विकल्प\tO\n",
            "हो\tO\n",
            "सकते\tO\n",
            "हैं।\tO\n",
            "\n",
            "\n",
            "Model : Indic_BERT_1lakh\n",
            "\n",
            "विश्लेषकों\tO\n",
            "की\tO\n",
            "सिफारिश\tO\n",
            "के\tO\n",
            "मुताबिक,\tO\n",
            "इंद्रप्रस्थ\tB-ORG\n",
            "गैस\tI-ORG\n",
            "और\tO\n",
            "पीएनबी\tB-ORG\n",
            "हाउसिंग\tO\n",
            "फाइनैंस\tO\n",
            "भी\tO\n",
            "अच्छे\tO\n",
            "विकल्प\tO\n",
            "हो\tO\n",
            "सकते\tO\n",
            "हैं।\tO\n",
            "\n",
            "\n",
            "Model : Indic_BERT_50k\n",
            "\n",
            "विश्लेषकों\tO\n",
            "की\tO\n",
            "सिफारिश\tO\n",
            "के\tO\n",
            "मुताबिक,\tO\n",
            "इंद्रप्रस्थ\tB-ORG\n",
            "गैस\tO\n",
            "और\tO\n",
            "पीएनबी\tB-ORG\n",
            "हाउसिंग\tO\n",
            "फाइनैंस\tO\n",
            "भी\tO\n",
            "अच्छे\tO\n",
            "विकल्प\tO\n",
            "हो\tO\n",
            "सकते\tO\n",
            "हैं।\tO\n",
            "\n",
            "\n",
            "Model : filtered_Indic_BERT_1lakh\n",
            "\n",
            "विश्लेषकों\tO\n",
            "की\tO\n",
            "सिफारिश\tI-ORG\n",
            "के\tI-ORG\n",
            "मुताबिक,\tI-ORG\n",
            "इंद्रप्रस्थ\tB-ORG\n",
            "गैस\tI-ORG\n",
            "और\tO\n",
            "पीएनबी\tB-ORG\n",
            "हाउसिंग\tI-ORG\n",
            "फाइनैंस\tI-ORG\n",
            "भी\tO\n",
            "अच्छे\tO\n",
            "विकल्प\tO\n",
            "हो\tO\n",
            "सकते\tO\n",
            "हैं।\tO\n",
            "\n",
            "\n",
            "Model : filtrered_Indic_NEr_1lakh\n",
            "\n",
            "विश्लेषकों\tB-LOC\n",
            "की\tI-LOC\n",
            "सिफारिश\tI-ORG\n",
            "के\tI-ORG\n",
            "मुताबिक,\tI-ORG\n",
            "इंद्रप्रस्थ\tB-LOC\n",
            "गैस\tI-LOC\n",
            "और\tI-ORG\n",
            "पीएनबी\tB-LOC\n",
            "हाउसिंग\tI-LOC\n",
            "फाइनैंस\tI-ORG\n",
            "भी\tI-ORG\n",
            "अच्छे\tB-LOC\n",
            "विकल्प\tB-LOC\n",
            "हो\tB-LOC\n",
            "सकते\tB-LOC\n",
            "हैं।\tB-LOC\n"
          ]
        }
      ]
    },
    {
      "cell_type": "markdown",
      "metadata": {
        "id": "zZsPxBHT-Wyr"
      },
      "source": [
        "**finding precision , recall, F1 score and Macro F1 score**"
      ]
    },
    {
      "cell_type": "markdown",
      "source": [
        "##On test data"
      ],
      "metadata": {
        "id": "q7GIP1xc06m-"
      }
    },
    {
      "cell_type": "code",
      "execution_count": 86,
      "metadata": {
        "id": "rUbuFyTh-0YA"
      },
      "outputs": [],
      "source": [
        "def each_model_score(data,true_tags,flag=0):\n",
        "    for path in all_models_path.values():\n",
        "        last_part = path.split(\"/\")[-1]\n",
        "        print(f\"\\n\\nModel : {str(last_part)}\\n\")\n",
        "        predicted_tags = prediction_test(path,data,flag)\n",
        "        if last_part!=\"my_model_filtrered_Indic_NEr\":\n",
        "            calculate_scores(true_tags,predicted_tags)"
      ]
    },
    {
      "cell_type": "code",
      "source": [
        "test_data = raw_datasets['test']['tokens']\n",
        "test_true_tags = raw_datasets['test']['ner_tags']\n",
        "len(test_data) , len(test_true_tags)"
      ],
      "metadata": {
        "colab": {
          "base_uri": "https://localhost:8080/"
        },
        "id": "l7_JnZVa2pV7",
        "outputId": "2aff12ff-3258-4576-fe1f-23b63cedcdad"
      },
      "execution_count": 17,
      "outputs": [
        {
          "output_type": "execute_result",
          "data": {
            "text/plain": [
              "(867, 867)"
            ]
          },
          "metadata": {},
          "execution_count": 17
        }
      ]
    },
    {
      "cell_type": "markdown",
      "source": [
        "#Test data predictions"
      ],
      "metadata": {
        "id": "MsGsHbwC6J3p"
      }
    },
    {
      "cell_type": "code",
      "source": [
        "each_model_score(test_data,test_true_tags)"
      ],
      "metadata": {
        "colab": {
          "base_uri": "https://localhost:8080/"
        },
        "id": "cmRY0Ixi32_4",
        "outputId": "21712fdf-475a-4f69-90bf-0d52d9f5a5e9"
      },
      "execution_count": null,
      "outputs": [
        {
          "output_type": "stream",
          "name": "stdout",
          "text": [
            "\n",
            "\n",
            "Model : filtrered_Indic_NEr_1lakh\n",
            "\n",
            "<class 'list'> <class 'list'>\n",
            "Class O:\n",
            "  Precision: 0.10666666666666667\n",
            "  Recall: 0.0010094000378525014\n",
            "  F1 Score: 0.001999875007812012\n",
            "Class B-PER:\n",
            "  Precision: 0.026722925457102673\n",
            "  Recall: 0.025991792065663474\n",
            "  F1 Score: 0.02635228848821082\n",
            "Class I-PER:\n",
            "  Precision: 0.0\n",
            "  Recall: 0.0\n",
            "  F1 Score: 0.0\n",
            "Class B-ORG:\n",
            "  Precision: 0.013054830287206266\n",
            "  Recall: 0.02032520325203252\n",
            "  F1 Score: 0.01589825119236884\n",
            "Class I-ORG:\n",
            "  Precision: 0.6823308270676691\n",
            "  Recall: 0.7756410256410257\n",
            "  F1 Score: 0.726\n",
            "Class B-LOC:\n",
            "  Precision: 0.0029249062122464553\n",
            "  Recall: 0.07718120805369127\n",
            "  F1 Score: 0.00563621883232249\n",
            "Class I-LOC:\n",
            "  Precision: 0.0\n",
            "  Recall: 0.0\n",
            "  F1 Score: 0.0\n",
            "----------------------------\n",
            "Macro F1 Score: 0.1108409476458163\n",
            "\n",
            "\n",
            "Model : filtrered_Indic_NEr_1lakh\n",
            "\n",
            "<class 'list'> <class 'list'>\n",
            "Class O:\n",
            "  Precision: 0.8310523348198268\n",
            "  Recall: 0.997907305964178\n",
            "  F1 Score: 0.9068687772681507\n",
            "Class B-PER:\n",
            "  Precision: 0.0\n",
            "  Recall: 0.0\n",
            "  F1 Score: 0.0\n",
            "Class I-PER:\n",
            "  Precision: 0.5\n",
            "  Recall: 0.0013440860215053765\n",
            "  F1 Score: 0.002680965147453083\n",
            "Class B-ORG:\n",
            "  Precision: 0.21428571428571427\n",
            "  Recall: 0.01195219123505976\n",
            "  F1 Score: 0.022641509433962266\n",
            "Class I-ORG:\n",
            "  Precision: 1.0\n",
            "  Recall: 0.0\n",
            "  F1 Score: 0.0\n",
            "Class B-LOC:\n",
            "  Precision: 0.07692307692307693\n",
            "  Recall: 0.0016420361247947454\n",
            "  F1 Score: 0.0032154340836012857\n",
            "Class I-LOC:\n",
            "  Precision: 1.0\n",
            "  Recall: 0.0\n",
            "  F1 Score: 0.0\n",
            "----------------------------\n",
            "Macro F1 Score: 0.13362952656188104\n",
            "\n",
            "\n",
            "Model : filtrered_Indic_NEr_1lakh\n",
            "\n",
            "<class 'list'> <class 'list'>\n",
            "Class O:\n",
            "  Precision: 0.08759124087591241\n",
            "  Recall: 0.000757050028389376\n",
            "  F1 Score: 0.0015011258443832875\n",
            "Class B-PER:\n",
            "  Precision: 0.036535859269282815\n",
            "  Recall: 0.036935704514363885\n",
            "  F1 Score: 0.036734693877551024\n",
            "Class I-PER:\n",
            "  Precision: 0.0\n",
            "  Recall: 0.0\n",
            "  F1 Score: 0.0\n",
            "Class B-ORG:\n",
            "  Precision: 0.013262599469496022\n",
            "  Recall: 0.02032520325203252\n",
            "  F1 Score: 0.016051364365971106\n",
            "Class I-ORG:\n",
            "  Precision: 0.6920152091254753\n",
            "  Recall: 0.7777777777777778\n",
            "  F1 Score: 0.7323943661971831\n",
            "Class B-LOC:\n",
            "  Precision: 0.0035607553888217713\n",
            "  Recall: 0.09395973154362416\n",
            "  F1 Score: 0.006861483795870857\n",
            "Class I-LOC:\n",
            "  Precision: 0.0017889087656529517\n",
            "  Recall: 0.005208333333333333\n",
            "  F1 Score: 0.0026631158455392807\n",
            "----------------------------\n",
            "Macro F1 Score: 0.11374373570378551\n",
            "\n",
            "\n",
            "Model : filtrered_Indic_NEr_1lakh\n",
            "\n",
            "<class 'list'> <class 'list'>\n",
            "Class O:\n",
            "  Precision: 0.8311448502256873\n",
            "  Recall: 0.997353357542931\n",
            "  F1 Score: 0.9066950172061662\n",
            "Class B-PER:\n",
            "  Precision: 0.07142857142857142\n",
            "  Recall: 0.0012738853503184713\n",
            "  F1 Score: 0.0025031289111389237\n",
            "Class I-PER:\n",
            "  Precision: 0.0\n",
            "  Recall: 0.0\n",
            "  F1 Score: 0.0\n",
            "Class B-ORG:\n",
            "  Precision: 0.047619047619047616\n",
            "  Recall: 0.00199203187250996\n",
            "  F1 Score: 0.003824091778202677\n",
            "Class I-ORG:\n",
            "  Precision: 1.0\n",
            "  Recall: 0.0\n",
            "  F1 Score: 0.0\n",
            "Class B-LOC:\n",
            "  Precision: 0.07142857142857142\n",
            "  Recall: 0.003284072249589491\n",
            "  F1 Score: 0.006279434850863423\n",
            "Class I-LOC:\n",
            "  Precision: 0.0\n",
            "  Recall: 0.0\n",
            "  F1 Score: 0.0\n",
            "----------------------------\n",
            "Macro F1 Score: 0.13132881039233874\n",
            "\n",
            "\n",
            "Model : filtrered_Indic_NEr_1lakh\n",
            "\n",
            "<class 'list'> <class 'list'>\n",
            "Class O:\n",
            "  Precision: 0.972668219144503\n",
            "  Recall: 0.9769188157813751\n",
            "  F1 Score: 0.9747888837709198\n",
            "Class B-PER:\n",
            "  Precision: 0.8435960591133005\n",
            "  Recall: 0.8726114649681529\n",
            "  F1 Score: 0.857858484658735\n",
            "Class I-PER:\n",
            "  Precision: 0.9171270718232044\n",
            "  Recall: 0.8924731182795699\n",
            "  F1 Score: 0.9046321525885558\n",
            "Class B-ORG:\n",
            "  Precision: 0.7567567567567568\n",
            "  Recall: 0.7808764940239044\n",
            "  F1 Score: 0.7686274509803921\n",
            "Class I-ORG:\n",
            "  Precision: 0.7624190064794817\n",
            "  Recall: 0.7384937238493724\n",
            "  F1 Score: 0.7502656748140276\n",
            "Class B-LOC:\n",
            "  Precision: 0.8372881355932204\n",
            "  Recall: 0.8111658456486043\n",
            "  F1 Score: 0.8240200166805671\n",
            "Class I-LOC:\n",
            "  Precision: 0.8129496402877698\n",
            "  Recall: 0.5678391959798995\n",
            "  F1 Score: 0.668639053254438\n",
            "----------------------------\n",
            "Macro F1 Score: 0.8212616738210908\n",
            "\n",
            "\n",
            "Model : filtrered_Indic_NEr_1lakh\n",
            "\n",
            "<class 'list'> <class 'list'>\n",
            "Class O:\n",
            "  Precision: 0.9693833812993693\n",
            "  Recall: 0.9743952729734721\n",
            "  F1 Score: 0.9718828657376144\n",
            "Class B-PER:\n",
            "  Precision: 0.8243412797992472\n",
            "  Recall: 0.8369426751592357\n",
            "  F1 Score: 0.8305941845764855\n",
            "Class I-PER:\n",
            "  Precision: 0.9104895104895104\n",
            "  Recall: 0.875\n",
            "  F1 Score: 0.8923920493488692\n",
            "Class B-ORG:\n",
            "  Precision: 0.7159533073929961\n",
            "  Recall: 0.7330677290836654\n",
            "  F1 Score: 0.7244094488188977\n",
            "Class I-ORG:\n",
            "  Precision: 0.7417218543046358\n",
            "  Recall: 0.702928870292887\n",
            "  F1 Score: 0.7218045112781956\n",
            "Class B-LOC:\n",
            "  Precision: 0.785\n",
            "  Recall: 0.7733990147783252\n",
            "  F1 Score: 0.7791563275434242\n",
            "Class I-LOC:\n",
            "  Precision: 0.7012987012987013\n",
            "  Recall: 0.542713567839196\n",
            "  F1 Score: 0.6118980169971671\n",
            "----------------------------\n",
            "Macro F1 Score: 0.790305343471522\n",
            "\n",
            "\n",
            "Model : filtrered_Indic_NEr_1lakh\n",
            "\n",
            "<class 'list'> <class 'list'>\n",
            "Class O:\n",
            "  Precision: 0.9882958801498127\n",
            "  Recall: 0.5197267187788515\n",
            "  F1 Score: 0.6812149570408617\n",
            "Class B-PER:\n",
            "  Precision: 0.6902313624678663\n",
            "  Recall: 0.6840764331210191\n",
            "  F1 Score: 0.6871401151631478\n",
            "Class I-PER:\n",
            "  Precision: 0.2539802880970432\n",
            "  Recall: 0.9005376344086021\n",
            "  F1 Score: 0.3962152572442342\n",
            "Class B-ORG:\n",
            "  Precision: 0.5104166666666666\n",
            "  Recall: 0.6832669322709163\n",
            "  F1 Score: 0.5843270868824532\n",
            "Class I-ORG:\n",
            "  Precision: 0.08572617561381607\n",
            "  Recall: 0.8619246861924686\n",
            "  F1 Score: 0.1559424678274035\n",
            "Class B-LOC:\n",
            "  Precision: 0.7022375215146299\n",
            "  Recall: 0.6699507389162561\n",
            "  F1 Score: 0.6857142857142856\n",
            "Class I-LOC:\n",
            "  Precision: 0.0964401294498382\n",
            "  Recall: 0.7487437185929648\n",
            "  F1 Score: 0.17087155963302755\n",
            "----------------------------\n",
            "Macro F1 Score: 0.4802036756436304\n",
            "\n",
            "\n",
            "Model : filtrered_Indic_NEr_1lakh\n",
            "\n",
            "<class 'list'> <class 'list'>\n",
            "Class O:\n",
            "  Precision: 0.8438147892190739\n",
            "  Recall: 0.07702984038861901\n",
            "  F1 Score: 0.14117238987166145\n",
            "Class B-PER:\n",
            "  Precision: 0.05060728744939271\n",
            "  Recall: 0.17099863201094392\n",
            "  F1 Score: 0.07810059356451109\n",
            "Class I-PER:\n",
            "  Precision: 0.0\n",
            "  Recall: 0.0\n",
            "  F1 Score: 0.0\n",
            "Class B-ORG:\n",
            "  Precision: 0.01721664275466284\n",
            "  Recall: 0.024390243902439025\n",
            "  F1 Score: 0.02018502943650126\n",
            "Class I-ORG:\n",
            "  Precision: 0.09808946877912395\n",
            "  Recall: 0.8995726495726496\n",
            "  F1 Score: 0.176890756302521\n",
            "Class B-LOC:\n",
            "  Precision: 0.0015714446065776182\n",
            "  Recall: 0.02348993288590604\n",
            "  F1 Score: 0.0029458179905312992\n",
            "Class I-LOC:\n",
            "  Precision: 0.0\n",
            "  Recall: 0.0\n",
            "  F1 Score: 0.0\n",
            "----------------------------\n",
            "Macro F1 Score: 0.059899226737960866\n"
          ]
        }
      ]
    },
    {
      "cell_type": "markdown",
      "source": [
        "## On Validartion data"
      ],
      "metadata": {
        "id": "oLMQhCDvkuho"
      }
    },
    {
      "cell_type": "code",
      "source": [
        "validation_data = raw_datasets['validation'].shuffle(seed=42).select(range(1000))['tokens'][:1000]\n",
        "validation_true_tags = raw_datasets['validation']['ner_tags'][:1000]"
      ],
      "metadata": {
        "id": "cKrjksee2ugF"
      },
      "execution_count": null,
      "outputs": []
    },
    {
      "cell_type": "code",
      "source": [
        "each_model_score(validation_data,validation_true_tags)"
      ],
      "metadata": {
        "colab": {
          "base_uri": "https://localhost:8080/"
        },
        "id": "MJJ3xShQ22TF",
        "outputId": "6c99a3b7-2e8d-4bc3-f2ac-32c2b8548a06"
      },
      "execution_count": null,
      "outputs": [
        {
          "output_type": "stream",
          "name": "stdout",
          "text": [
            "\n",
            "\n",
            "Model : Indic_Ner_3epoch_batch_8\n",
            "\n",
            "<class 'list'> <class 'list'>\n",
            "Class O:\n",
            "  Precision: 0.875\n",
            "  Recall: 0.017766497461928935\n",
            "  F1 Score: 0.03482587064676617\n",
            "Class B-PER:\n",
            "  Precision: 0.0\n",
            "  Recall: 0.0\n",
            "  F1 Score: 0.0\n",
            "Class I-PER:\n",
            "  Precision: 0.05263157894736842\n",
            "  Recall: 0.058823529411764705\n",
            "  F1 Score: 0.05555555555555555\n",
            "Class B-ORG:\n",
            "  Precision: 0.0\n",
            "  Recall: 0.0\n",
            "  F1 Score: 0.0\n",
            "Class I-ORG:\n",
            "  Precision: 0.0\n",
            "  Recall: 0.0\n",
            "  F1 Score: 0.0\n",
            "Class B-LOC:\n",
            "  Precision: 0.03768844221105527\n",
            "  Recall: 0.8333333333333334\n",
            "  F1 Score: 0.07211538461538461\n",
            "Class I-LOC:\n",
            "  Precision: 0.0\n",
            "  Recall: 0.0\n",
            "  F1 Score: 0.0\n",
            "----------------------------\n",
            "Macro F1 Score: 0.02321383011681519\n",
            "\n",
            "\n",
            "Model : IndicBERT-3epoch_batch_16\n",
            "\n",
            "<class 'list'> <class 'list'>\n",
            "Class O:\n",
            "  Precision: 0.8330341113105925\n",
            "  Recall: 0.9978494623655914\n",
            "  F1 Score: 0.908023483365949\n",
            "Class B-PER:\n",
            "  Precision: 1.0\n",
            "  Recall: 0.0\n",
            "  F1 Score: 0.0\n",
            "Class I-PER:\n",
            "  Precision: 1.0\n",
            "  Recall: 0.0\n",
            "  F1 Score: 0.0\n",
            "Class B-ORG:\n",
            "  Precision: 0.0\n",
            "  Recall: 0.0\n",
            "  F1 Score: 0.0\n",
            "Class I-ORG:\n",
            "  Precision: 1.0\n",
            "  Recall: 0.0\n",
            "  F1 Score: 0.0\n",
            "Class B-LOC:\n",
            "  Precision: 0.0\n",
            "  Recall: 0.0\n",
            "  F1 Score: 0.0\n",
            "Class I-LOC:\n",
            "  Precision: 1.0\n",
            "  Recall: 0.0\n",
            "  F1 Score: 0.0\n",
            "----------------------------\n",
            "Macro F1 Score: 0.12971764048084986\n",
            "\n",
            "\n",
            "Model : Indic_Ner_3epoch_batch_16\n",
            "\n",
            "<class 'list'> <class 'list'>\n",
            "Class O:\n",
            "  Precision: 0.875\n",
            "  Recall: 0.017766497461928935\n",
            "  F1 Score: 0.03482587064676617\n",
            "Class B-PER:\n",
            "  Precision: 0.0\n",
            "  Recall: 0.0\n",
            "  F1 Score: 0.0\n",
            "Class I-PER:\n",
            "  Precision: 0.05263157894736842\n",
            "  Recall: 0.058823529411764705\n",
            "  F1 Score: 0.05555555555555555\n",
            "Class B-ORG:\n",
            "  Precision: 0.0\n",
            "  Recall: 0.0\n",
            "  F1 Score: 0.0\n",
            "Class I-ORG:\n",
            "  Precision: 0.0\n",
            "  Recall: 0.0\n",
            "  F1 Score: 0.0\n",
            "Class B-LOC:\n",
            "  Precision: 0.04050632911392405\n",
            "  Recall: 0.8888888888888888\n",
            "  F1 Score: 0.0774818401937046\n",
            "Class I-LOC:\n",
            "  Precision: 0.0\n",
            "  Recall: 0.0\n",
            "  F1 Score: 0.0\n",
            "----------------------------\n",
            "Macro F1 Score: 0.023980466628003762\n",
            "\n",
            "\n",
            "Model : Indic_BERT_3epoch_batch_8\n",
            "\n",
            "<class 'list'> <class 'list'>\n",
            "Class O:\n",
            "  Precision: 0.8330341113105925\n",
            "  Recall: 0.9978494623655914\n",
            "  F1 Score: 0.908023483365949\n",
            "Class B-PER:\n",
            "  Precision: 1.0\n",
            "  Recall: 0.0\n",
            "  F1 Score: 0.0\n",
            "Class I-PER:\n",
            "  Precision: 1.0\n",
            "  Recall: 0.0\n",
            "  F1 Score: 0.0\n",
            "Class B-ORG:\n",
            "  Precision: 0.5\n",
            "  Recall: 0.08333333333333333\n",
            "  F1 Score: 0.14285714285714285\n",
            "Class I-ORG:\n",
            "  Precision: 1.0\n",
            "  Recall: 0.0\n",
            "  F1 Score: 0.0\n",
            "Class B-LOC:\n",
            "  Precision: 0.0\n",
            "  Recall: 0.0\n",
            "  F1 Score: 0.0\n",
            "Class I-LOC:\n",
            "  Precision: 1.0\n",
            "  Recall: 0.0\n",
            "  F1 Score: 0.0\n",
            "----------------------------\n",
            "Macro F1 Score: 0.15012580374615597\n",
            "\n",
            "\n",
            "Model : Indic_BERT_1lakh\n",
            "\n",
            "<class 'list'> <class 'list'>\n",
            "Class O:\n",
            "  Precision: 0.8319327731092437\n",
            "  Recall: 0.8516129032258064\n",
            "  F1 Score: 0.8416578108395323\n",
            "Class B-PER:\n",
            "  Precision: 0.0\n",
            "  Recall: 0.0\n",
            "  F1 Score: 0.0\n",
            "Class I-PER:\n",
            "  Precision: 0.0\n",
            "  Recall: 0.0\n",
            "  F1 Score: 0.0\n",
            "Class B-ORG:\n",
            "  Precision: 0.05263157894736842\n",
            "  Recall: 0.08333333333333333\n",
            "  F1 Score: 0.06451612903225808\n",
            "Class I-ORG:\n",
            "  Precision: 0.0\n",
            "  Recall: 0.0\n",
            "  F1 Score: 0.0\n",
            "Class B-LOC:\n",
            "  Precision: 0.0625\n",
            "  Recall: 0.05\n",
            "  F1 Score: 0.05555555555555556\n",
            "Class I-LOC:\n",
            "  Precision: 0.0\n",
            "  Recall: 0.0\n",
            "  F1 Score: 0.0\n",
            "----------------------------\n",
            "Macro F1 Score: 0.1373899279181923\n",
            "\n",
            "\n",
            "Model : Indic_BERT_50k\n",
            "\n",
            "<class 'list'> <class 'list'>\n",
            "Class O:\n",
            "  Precision: 0.8308977035490606\n",
            "  Recall: 0.8559139784946237\n",
            "  F1 Score: 0.8432203389830509\n",
            "Class B-PER:\n",
            "  Precision: 0.0\n",
            "  Recall: 0.0\n",
            "  F1 Score: 0.0\n",
            "Class I-PER:\n",
            "  Precision: 0.0\n",
            "  Recall: 0.0\n",
            "  F1 Score: 0.0\n",
            "Class B-ORG:\n",
            "  Precision: 0.047619047619047616\n",
            "  Recall: 0.08333333333333333\n",
            "  F1 Score: 0.060606060606060615\n",
            "Class I-ORG:\n",
            "  Precision: 0.0\n",
            "  Recall: 0.0\n",
            "  F1 Score: 0.0\n",
            "Class B-LOC:\n",
            "  Precision: 0.06666666666666667\n",
            "  Recall: 0.05\n",
            "  F1 Score: 0.05714285714285715\n",
            "Class I-LOC:\n",
            "  Precision: 0.0\n",
            "  Recall: 0.0\n",
            "  F1 Score: 0.0\n",
            "----------------------------\n",
            "Macro F1 Score: 0.13728132239028126\n",
            "\n",
            "\n",
            "Model : filtered_Indic_BERT_1lakh\n",
            "\n",
            "<class 'list'> <class 'list'>\n",
            "Class O:\n",
            "  Precision: 0.9033613445378151\n",
            "  Recall: 0.46236559139784944\n",
            "  F1 Score: 0.6116642958748222\n",
            "Class B-PER:\n",
            "  Precision: 0.047619047619047616\n",
            "  Recall: 0.03571428571428571\n",
            "  F1 Score: 0.04081632653061224\n",
            "Class I-PER:\n",
            "  Precision: 0.05\n",
            "  Recall: 0.09523809523809523\n",
            "  F1 Score: 0.0655737704918033\n",
            "Class B-ORG:\n",
            "  Precision: 0.11538461538461539\n",
            "  Recall: 0.25\n",
            "  F1 Score: 0.15789473684210525\n",
            "Class I-ORG:\n",
            "  Precision: 0.024242424242424242\n",
            "  Recall: 0.3333333333333333\n",
            "  F1 Score: 0.04519774011299436\n",
            "Class B-LOC:\n",
            "  Precision: 0.05555555555555555\n",
            "  Recall: 0.05\n",
            "  F1 Score: 0.052631578947368425\n",
            "Class I-LOC:\n",
            "  Precision: 0.0\n",
            "  Recall: 0.0\n",
            "  F1 Score: 0.0\n",
            "----------------------------\n",
            "Macro F1 Score: 0.13911120697138657\n",
            "\n",
            "\n",
            "Model : filtrered_Indic_NEr_1lakh\n",
            "\n",
            "<class 'list'> <class 'list'>\n",
            "Class O:\n",
            "  Precision: 0.9375\n",
            "  Recall: 0.15228426395939088\n",
            "  F1 Score: 0.26200873362445415\n",
            "Class B-PER:\n",
            "  Precision: 0.057692307692307696\n",
            "  Recall: 0.14285714285714285\n",
            "  F1 Score: 0.0821917808219178\n",
            "Class I-PER:\n",
            "  Precision: 0.0\n",
            "  Recall: 0.0\n",
            "  F1 Score: 0.0\n",
            "Class B-ORG:\n",
            "  Precision: 0.0\n",
            "  Recall: 0.0\n",
            "  F1 Score: 0.0\n",
            "Class I-ORG:\n",
            "  Precision: 0.02631578947368421\n",
            "  Recall: 0.2\n",
            "  F1 Score: 0.046511627906976744\n",
            "Class B-LOC:\n",
            "  Precision: 0.021834061135371178\n",
            "  Recall: 0.2777777777777778\n",
            "  F1 Score: 0.04048582995951417\n",
            "Class I-LOC:\n",
            "  Precision: 0.0\n",
            "  Recall: 0.0\n",
            "  F1 Score: 0.0\n",
            "----------------------------\n",
            "Macro F1 Score: 0.06159971033040899\n"
          ]
        }
      ]
    },
    {
      "cell_type": "markdown",
      "source": [
        "**on 20 percent test data**"
      ],
      "metadata": {
        "id": "ozuJI5SZ0-00"
      }
    },
    {
      "cell_type": "markdown",
      "source": [
        "## On Train data"
      ],
      "metadata": {
        "id": "kKUCYZNZk0bI"
      }
    },
    {
      "cell_type": "code",
      "source": [
        "train_dataset = raw_datasets['train']\n",
        "_20k_train_data = train_dataset.shuffle(seed=42).select(range(1000))\n",
        "len(_20k_train_data)\n",
        "train_data = _20k_train_data['tokens']\n",
        "train_tru_tags = _20k_train_data['ner_tags']"
      ],
      "metadata": {
        "id": "j6TF-nnk1hKH"
      },
      "execution_count": 18,
      "outputs": []
    },
    {
      "cell_type": "code",
      "source": [
        "each_model_score(_20k_train_data,train_tru_tags)"
      ],
      "metadata": {
        "id": "aqJOtn7w_bV2",
        "outputId": "123b8248-f922-4f6f-90c8-52b447a3f542",
        "colab": {
          "base_uri": "https://localhost:8080/"
        }
      },
      "execution_count": 19,
      "outputs": [
        {
          "output_type": "stream",
          "name": "stdout",
          "text": [
            "\n",
            "\n",
            "Model : Indic_Ner_3epoch_batch_8\n",
            "\n",
            "<class 'list'> <class 'list'>\n",
            "Class O:\n",
            "  Precision: 1.0\n",
            "  Recall: 0.0\n",
            "  F1 Score: 0.0\n",
            "Class B-PER:\n",
            "  Precision: 1.0\n",
            "  Recall: 0.0\n",
            "  F1 Score: 0.0\n",
            "Class I-PER:\n",
            "  Precision: 1.0\n",
            "  Recall: 0.0\n",
            "  F1 Score: 0.0\n",
            "Class B-ORG:\n",
            "  Precision: 1.0\n",
            "  Recall: 0.0\n",
            "  F1 Score: 0.0\n",
            "Class B-LOC:\n",
            "  Precision: 0.10714285714285714\n",
            "  Recall: 1.0\n",
            "  F1 Score: 0.19354838709677416\n",
            "----------------------------\n",
            "Macro F1 Score: 0.038709677419354833\n",
            "\n",
            "\n",
            "Model : IndicBERT-3epoch_batch_16\n",
            "\n",
            "<class 'list'> <class 'list'>\n",
            "Class O:\n",
            "  Precision: 0.55\n",
            "  Recall: 1.0\n",
            "  F1 Score: 0.7096774193548387\n",
            "Class B-PER:\n",
            "  Precision: 1.0\n",
            "  Recall: 0.0\n",
            "  F1 Score: 0.0\n",
            "Class I-PER:\n",
            "  Precision: 1.0\n",
            "  Recall: 0.0\n",
            "  F1 Score: 0.0\n",
            "Class B-ORG:\n",
            "  Precision: 1.0\n",
            "  Recall: 0.0\n",
            "  F1 Score: 0.0\n",
            "Class I-ORG:\n",
            "  Precision: 1.0\n",
            "  Recall: 0.0\n",
            "  F1 Score: 0.0\n",
            "Class B-LOC:\n",
            "  Precision: 1.0\n",
            "  Recall: 0.0\n",
            "  F1 Score: 0.0\n",
            "----------------------------\n",
            "Macro F1 Score: 0.11827956989247312\n",
            "\n",
            "\n",
            "Model : Indic_Ner_3epoch_batch_16\n",
            "\n",
            "<class 'list'> <class 'list'>\n",
            "Class O:\n",
            "  Precision: 1.0\n",
            "  Recall: 0.0\n",
            "  F1 Score: 0.0\n",
            "Class B-PER:\n",
            "  Precision: 1.0\n",
            "  Recall: 0.0\n",
            "  F1 Score: 0.0\n",
            "Class I-PER:\n",
            "  Precision: 1.0\n",
            "  Recall: 0.0\n",
            "  F1 Score: 0.0\n",
            "Class B-ORG:\n",
            "  Precision: 1.0\n",
            "  Recall: 0.0\n",
            "  F1 Score: 0.0\n",
            "Class B-LOC:\n",
            "  Precision: 0.10714285714285714\n",
            "  Recall: 1.0\n",
            "  F1 Score: 0.19354838709677416\n",
            "----------------------------\n",
            "Macro F1 Score: 0.038709677419354833\n",
            "\n",
            "\n",
            "Model : Indic_BERT_3epoch_batch_8\n",
            "\n",
            "<class 'list'> <class 'list'>\n",
            "Class O:\n",
            "  Precision: 0.55\n",
            "  Recall: 1.0\n",
            "  F1 Score: 0.7096774193548387\n",
            "Class B-PER:\n",
            "  Precision: 1.0\n",
            "  Recall: 0.0\n",
            "  F1 Score: 0.0\n",
            "Class I-PER:\n",
            "  Precision: 1.0\n",
            "  Recall: 0.0\n",
            "  F1 Score: 0.0\n",
            "Class B-ORG:\n",
            "  Precision: 1.0\n",
            "  Recall: 0.0\n",
            "  F1 Score: 0.0\n",
            "Class I-ORG:\n",
            "  Precision: 1.0\n",
            "  Recall: 0.0\n",
            "  F1 Score: 0.0\n",
            "Class B-LOC:\n",
            "  Precision: 1.0\n",
            "  Recall: 0.0\n",
            "  F1 Score: 0.0\n",
            "----------------------------\n",
            "Macro F1 Score: 0.11827956989247312\n",
            "\n",
            "\n",
            "Model : Indic_BERT_1lakh\n",
            "\n",
            "<class 'list'> <class 'list'>\n",
            "Class O:\n",
            "  Precision: 1.0\n",
            "  Recall: 0.0\n",
            "  F1 Score: 0.0\n",
            "Class B-PER:\n",
            "  Precision: 1.0\n",
            "  Recall: 0.0\n",
            "  F1 Score: 0.0\n",
            "Class I-PER:\n",
            "  Precision: 1.0\n",
            "  Recall: 0.0\n",
            "  F1 Score: 0.0\n",
            "Class B-ORG:\n",
            "  Precision: 0.3\n",
            "  Recall: 0.75\n",
            "  F1 Score: 0.4285714285714285\n",
            "Class I-ORG:\n",
            "  Precision: 0.2\n",
            "  Recall: 1.0\n",
            "  F1 Score: 0.33333333333333337\n",
            "Class B-LOC:\n",
            "  Precision: 1.0\n",
            "  Recall: 0.0\n",
            "  F1 Score: 0.0\n",
            "----------------------------\n",
            "Macro F1 Score: 0.12698412698412698\n",
            "\n",
            "\n",
            "Model : Indic_BERT_50k\n",
            "\n",
            "<class 'list'> <class 'list'>\n",
            "Class O:\n",
            "  Precision: 0.6\n",
            "  Recall: 0.5454545454545454\n",
            "  F1 Score: 0.5714285714285713\n",
            "Class B-PER:\n",
            "  Precision: 1.0\n",
            "  Recall: 0.0\n",
            "  F1 Score: 0.0\n",
            "Class I-PER:\n",
            "  Precision: 1.0\n",
            "  Recall: 0.0\n",
            "  F1 Score: 0.0\n",
            "Class B-ORG:\n",
            "  Precision: 0.3\n",
            "  Recall: 0.75\n",
            "  F1 Score: 0.4285714285714285\n",
            "Class I-ORG:\n",
            "  Precision: 1.0\n",
            "  Recall: 0.0\n",
            "  F1 Score: 0.0\n",
            "Class B-LOC:\n",
            "  Precision: 1.0\n",
            "  Recall: 0.0\n",
            "  F1 Score: 0.0\n",
            "----------------------------\n",
            "Macro F1 Score: 0.16666666666666663\n",
            "\n",
            "\n",
            "Model : filtered_Indic_BERT_1lakh\n",
            "\n",
            "<class 'list'> <class 'list'>\n",
            "Class O:\n",
            "  Precision: 1.0\n",
            "  Recall: 0.0\n",
            "  F1 Score: 0.0\n",
            "Class B-PER:\n",
            "  Precision: 1.0\n",
            "  Recall: 0.0\n",
            "  F1 Score: 0.0\n",
            "Class I-PER:\n",
            "  Precision: 1.0\n",
            "  Recall: 0.0\n",
            "  F1 Score: 0.0\n",
            "Class B-ORG:\n",
            "  Precision: 0.3\n",
            "  Recall: 0.75\n",
            "  F1 Score: 0.4285714285714285\n",
            "Class I-ORG:\n",
            "  Precision: 0.2\n",
            "  Recall: 1.0\n",
            "  F1 Score: 0.33333333333333337\n",
            "Class B-LOC:\n",
            "  Precision: 1.0\n",
            "  Recall: 0.0\n",
            "  F1 Score: 0.0\n",
            "----------------------------\n",
            "Macro F1 Score: 0.12698412698412698\n",
            "\n",
            "\n",
            "Model : filtrered_Indic_NEr_1lakh\n",
            "\n",
            "<class 'list'> <class 'list'>\n",
            "Class O:\n",
            "  Precision: 1.0\n",
            "  Recall: 0.0\n",
            "  F1 Score: 0.0\n",
            "Class B-PER:\n",
            "  Precision: 1.0\n",
            "  Recall: 0.0\n",
            "  F1 Score: 0.0\n",
            "Class I-PER:\n",
            "  Precision: 1.0\n",
            "  Recall: 0.0\n",
            "  F1 Score: 0.0\n",
            "Class B-ORG:\n",
            "  Precision: 1.0\n",
            "  Recall: 0.0\n",
            "  F1 Score: 0.0\n",
            "Class B-LOC:\n",
            "  Precision: 0.0\n",
            "  Recall: 0.0\n",
            "  F1 Score: 0.0\n",
            "----------------------------\n",
            "Macro F1 Score: 0.0\n"
          ]
        }
      ]
    },
    {
      "cell_type": "markdown",
      "source": [
        "**check for one selected model**"
      ],
      "metadata": {
        "id": "rAdg19TNcmZG"
      }
    },
    {
      "cell_type": "code",
      "source": [
        "model_name = int(input(\"select Model\\n0: Indic_Ner_3epoch_batch_8\\n1: Indic_BERT_3epoch_batch_8\\n2: Indic_Ner_3epoch_batch_16\\n3: Indic_BERT_3epoch_batch_16\\n4: Indic_BERT_1lakh\\n5: Indic_BERT_50k\\n6: filtered_Indic_BERT\\n7: filtrered_Indic_NEr\\n\"))\n",
        "print(f\"You select {all_models_names[model_name]}\")"
      ],
      "metadata": {
        "id": "kiNKNNPCS_O-",
        "outputId": "76d09d12-494e-45bc-87fe-cff5a0cb1770",
        "colab": {
          "base_uri": "https://localhost:8080/"
        }
      },
      "execution_count": null,
      "outputs": [
        {
          "output_type": "stream",
          "name": "stdout",
          "text": [
            "select Model\n",
            "0: Indic_Ner_3epoch_batch_8\n",
            "1: Indic_BERT_3epoch_batch_8\n",
            "2: Indic_Ner_3epoch_batch_16\n",
            "3: Indic_BERT_3epoch_batch_16\n",
            "4: Indic_BERT_1lakh\n",
            "5: Indic_BERT_50k\n",
            "6: filtered_Indic_BERT\n",
            "7: filtrered_Indic_NEr\n",
            "0\n",
            "You select Indic_Ner_3epoch_batch_8\n"
          ]
        }
      ]
    },
    {
      "cell_type": "code",
      "source": [
        "path = all_models_path[model_name]\n",
        "\n",
        "predicted_tags = prediction_test(path)\n"
      ],
      "metadata": {
        "id": "OQkPF8xOP-Ng"
      },
      "execution_count": null,
      "outputs": []
    },
    {
      "cell_type": "code",
      "source": [
        "true_tags = test_true_tags"
      ],
      "metadata": {
        "id": "ciA8GWfCIQZO"
      },
      "execution_count": null,
      "outputs": []
    },
    {
      "cell_type": "code",
      "source": [
        "type(predicted_tags[0]), type(true_tags)"
      ],
      "metadata": {
        "colab": {
          "base_uri": "https://localhost:8080/"
        },
        "id": "iTD22p-L8J5x",
        "outputId": "30347aae-c949-4963-f38f-749e55b67b8d"
      },
      "execution_count": null,
      "outputs": [
        {
          "output_type": "execute_result",
          "data": {
            "text/plain": [
              "(list, list)"
            ]
          },
          "metadata": {},
          "execution_count": 38
        }
      ]
    },
    {
      "cell_type": "code",
      "source": [
        "calculate_scores(true_tags,predicted_tags)"
      ],
      "metadata": {
        "colab": {
          "base_uri": "https://localhost:8080/"
        },
        "id": "bBge4ffInAxv",
        "outputId": "c890dcb1-870b-4e8b-f85a-c5112204c731"
      },
      "execution_count": null,
      "outputs": [
        {
          "output_type": "stream",
          "name": "stdout",
          "text": [
            "<class 'list'> <class 'list'>\n",
            "Class O:\n",
            "  Precision: 0.2702702702702703\n",
            "  Recall: 0.003154375118289067\n",
            "  F1 Score: 0.006235969069593414\n",
            "Class B-PER:\n",
            "  Precision: 0.040268456375838924\n",
            "  Recall: 0.04103967168262654\n",
            "  F1 Score: 0.04065040650406504\n",
            "Class I-PER:\n",
            "  Precision: 0.0\n",
            "  Recall: 0.0\n",
            "  F1 Score: 0.0\n",
            "Class B-ORG:\n",
            "  Precision: 0.01453104359313078\n",
            "  Recall: 0.022357723577235773\n",
            "  F1 Score: 0.017614091273018415\n",
            "Class I-ORG:\n",
            "  Precision: 0.6458333333333334\n",
            "  Recall: 0.7948717948717948\n",
            "  F1 Score: 0.7126436781609194\n",
            "Class B-LOC:\n",
            "  Precision: 0.003601054594559835\n",
            "  Recall: 0.09395973154362416\n",
            "  F1 Score: 0.006936272991887037\n",
            "Class I-LOC:\n",
            "  Precision: 0.0017482517482517483\n",
            "  Recall: 0.005208333333333333\n",
            "  F1 Score: 0.002617801047120419\n",
            "----------------------------\n",
            "Macro F1 Score: 0.11238545986380054\n"
          ]
        }
      ]
    },
    {
      "cell_type": "code",
      "source": [
        "sentence = \"विश्लेषकों की सिफारिश के मुताबिक, इंद्रप्रस्थ गैस और पीएनबी हाउसिंग फाइनैंस भी अच्छे विकल्प हो सकते हैं।\"\n",
        "one_Sentence(path,sentence)"
      ],
      "metadata": {
        "colab": {
          "base_uri": "https://localhost:8080/"
        },
        "id": "0Sr7QG5Jcxwk",
        "outputId": "11a112a3-321e-4297-bb59-e54c01be8988"
      },
      "execution_count": null,
      "outputs": [
        {
          "output_type": "stream",
          "name": "stdout",
          "text": [
            "विश्लेषकों\tB-LOC\n",
            "की\tB-LOC\n",
            "सिफारिश\tB-LOC\n",
            "के\tB-LOC\n",
            "मुताबिक,\tB-LOC\n",
            "इंद्रप्रस्थ\tB-LOC\n",
            "गैस\tI-LOC\n",
            "और\tB-LOC\n",
            "पीएनबी\tB-LOC\n",
            "हाउसिंग\tI-LOC\n",
            "फाइनैंस\tB-LOC\n",
            "भी\tB-LOC\n",
            "अच्छे\tB-LOC\n",
            "विकल्प\tB-LOC\n",
            "हो\tB-LOC\n",
            "सकते\tB-LOC\n",
            "हैं।\tB-LOC\n"
          ]
        }
      ]
    },
    {
      "cell_type": "markdown",
      "source": [
        "#Answer 4"
      ],
      "metadata": {
        "id": "Ao0dRzuyeGmI"
      }
    },
    {
      "cell_type": "code",
      "source": [
        "tags_to_int_label = {'O':0,'B-PER':1,'I-PER':2,'B-ORG':3,'I-ORG':4,'B-LOC':5,'I-LOC':6,'B-MISC':7,'I-MISC':8}"
      ],
      "metadata": {
        "id": "ZCsgSKXCTST2"
      },
      "execution_count": 7,
      "outputs": []
    },
    {
      "cell_type": "code",
      "source": [
        "import ast\n",
        "def extract_tags_from_file(path):\n",
        "    tags = []\n",
        "    with open(path, 'r', encoding='UTF-8') as file:\n",
        "        lines = file.readlines()\n",
        "\n",
        "        for i, line in enumerate(lines, start=1):\n",
        "            if i % 4 == 2:\n",
        "                tag = ast.literal_eval(line.strip())\n",
        "                tags.append([tags_to_int_label[ele] for ele in tag])\n",
        "    return tags\n",
        "\n",
        "\n",
        "\n",
        "\n",
        "def extract_Sentences(path):\n",
        "    sentences = []\n",
        "    with open(path, 'r', encoding='UTF-8') as file:\n",
        "        lines = file.readlines()\n",
        "\n",
        "        for i, line in enumerate(lines, start=0):\n",
        "            if i % 4 == 0:\n",
        "              sentences.append(line)\n",
        "\n",
        "\n",
        "    return sentences\n"
      ],
      "metadata": {
        "id": "dFDY6yNZTWWK"
      },
      "execution_count": 16,
      "outputs": []
    },
    {
      "cell_type": "code",
      "source": [
        "chatgpt_tags = extract_tags_from_file(\"/content/drive/MyDrive/NER_Tags/CS698_chatgpt_NEr_hi.txt\")\n",
        "manual_tags = extract_tags_from_file(\"/content/drive/MyDrive/NER_Tags/CS698_manual_NEr_hi.txt\")"
      ],
      "metadata": {
        "id": "C33-rKG8Tcz3"
      },
      "execution_count": 8,
      "outputs": []
    },
    {
      "cell_type": "markdown",
      "source": [
        "## Results on manual tag and chatgpt tags"
      ],
      "metadata": {
        "id": "FOxxpX-tk9YK"
      }
    },
    {
      "cell_type": "code",
      "source": [
        "calculate_scores(chatgpt_tags,manual_tags)"
      ],
      "metadata": {
        "id": "JN43ERfDTkSD",
        "colab": {
          "base_uri": "https://localhost:8080/"
        },
        "outputId": "3088fd00-ab8d-4336-90f9-1571f0b4b687"
      },
      "execution_count": null,
      "outputs": [
        {
          "output_type": "stream",
          "name": "stdout",
          "text": [
            "<class 'list'> <class 'list'>\n",
            "Class O:\n",
            "  Precision: 0.9922928709055877\n",
            "  Recall: 0.9346642468239564\n",
            "  F1 Score: 0.9626168224299065\n",
            "Class B-PER:\n",
            "  Precision: 0.55\n",
            "  Recall: 0.6111111111111112\n",
            "  F1 Score: 0.5789473684210527\n",
            "Class I-PER:\n",
            "  Precision: 0.4117647058823529\n",
            "  Recall: 0.7777777777777778\n",
            "  F1 Score: 0.5384615384615384\n",
            "Class B-ORG:\n",
            "  Precision: 0.3333333333333333\n",
            "  Recall: 0.75\n",
            "  F1 Score: 0.46153846153846156\n",
            "Class I-ORG:\n",
            "  Precision: 0.2857142857142857\n",
            "  Recall: 1.0\n",
            "  F1 Score: 0.4444444444444445\n",
            "Class B-LOC:\n",
            "  Precision: 0.14285714285714285\n",
            "  Recall: 0.5\n",
            "  F1 Score: 0.22222222222222224\n",
            "Class B-MISC:\n",
            "  Precision: 0.16666666666666666\n",
            "  Recall: 1.0\n",
            "  F1 Score: 0.2857142857142857\n",
            "Class I-MISC:\n",
            "  Precision: 0.3333333333333333\n",
            "  Recall: 1.0\n",
            "  F1 Score: 0.5\n",
            "----------------------------\n",
            "Macro F1 Score: 0.49924314290398897\n"
          ]
        }
      ]
    },
    {
      "cell_type": "code",
      "source": [
        "sentences = extract_Sentences(\"/content/drive/MyDrive/NER_Tags/CS698_manual_NEr_hi.txt\")"
      ],
      "metadata": {
        "id": "25xUaD2j8Ue6"
      },
      "execution_count": 17,
      "outputs": []
    },
    {
      "cell_type": "code",
      "source": [
        "## Remove numbering and newline characters from each sentence\n",
        "sentences_cleaned = [sentence.replace('\\n', '').split('. ')[1] for sentence in sentences]\n",
        "\n"
      ],
      "metadata": {
        "id": "RSRvCcYoKEsB"
      },
      "execution_count": 88,
      "outputs": []
    },
    {
      "cell_type": "code",
      "source": [
        "import re"
      ],
      "metadata": {
        "id": "r-mdGM22O-Vj"
      },
      "execution_count": 71,
      "outputs": []
    },
    {
      "cell_type": "code",
      "source": [
        "pattern = r'([.,?\\(\\)\\।\\‘’\\'\\\"])'"
      ],
      "metadata": {
        "id": "XttiCL0kPLvl"
      },
      "execution_count": 72,
      "outputs": []
    },
    {
      "cell_type": "code",
      "source": [
        "for i in range(len(sentences_cleaned)):\n",
        "  sentences_cleaned[i] = re.sub(pattern,r' \\1 ',sentences_cleaned[i])\n",
        "  sentences_cleaned[i] = re.sub('\\xa0', ' ',sentences_cleaned[i])\n",
        "  sentences_cleaned[i] = re.sub('…', ' . . . ',sentences_cleaned[i])\n",
        "  sentences_cleaned[i].strip()"
      ],
      "metadata": {
        "id": "n9oDg7H4O_Vk"
      },
      "execution_count": 73,
      "outputs": []
    },
    {
      "cell_type": "markdown",
      "source": [
        "## Calculations on 25 sentences"
      ],
      "metadata": {
        "id": "EqotqpZvlNDw"
      }
    },
    {
      "cell_type": "code",
      "source": [
        "each_model_score(sentences_cleaned,manual_tags,1)"
      ],
      "metadata": {
        "colab": {
          "base_uri": "https://localhost:8080/"
        },
        "id": "-aVp209jGloR",
        "outputId": "156329ed-2f49-4420-9a69-c1c7b673ba74"
      },
      "execution_count": 87,
      "outputs": [
        {
          "output_type": "stream",
          "name": "stdout",
          "text": [
            "\n",
            "\n",
            "Model : Indic_Ner_3epoch_batch_8\n",
            "\n",
            "<class 'list'> <class 'list'>\n",
            "Class O:\n",
            "  Precision: 1.0\n",
            "  Recall: 0.0\n",
            "  F1 Score: 0.0\n",
            "Class B-PER:\n",
            "  Precision: 0.0\n",
            "  Recall: 0.0\n",
            "  F1 Score: 0.0\n",
            "Class I-PER:\n",
            "  Precision: 0.0\n",
            "  Recall: 0.0\n",
            "  F1 Score: 0.0\n",
            "Class B-ORG:\n",
            "  Precision: 0.07142857142857142\n",
            "  Recall: 0.14285714285714285\n",
            "  F1 Score: 0.09523809523809523\n",
            "Class I-ORG:\n",
            "  Precision: 1.0\n",
            "  Recall: 0.5714285714285714\n",
            "  F1 Score: 0.7272727272727273\n",
            "Class B-LOC:\n",
            "  Precision: 0.0\n",
            "  Recall: 0.0\n",
            "  F1 Score: 0.0\n",
            "Class B-MISC:\n",
            "  Precision: 1.0\n",
            "  Recall: 0.0\n",
            "  F1 Score: 0.0\n",
            "Class I-MISC:\n",
            "  Precision: 1.0\n",
            "  Recall: 0.0\n",
            "  F1 Score: 0.0\n",
            "----------------------------\n",
            "Macro F1 Score: 0.10281385281385282\n",
            "\n",
            "\n",
            "Model : IndicBERT-3epoch_batch_16\n",
            "\n",
            "<class 'list'> <class 'list'>\n",
            "Class O:\n",
            "  Precision: 0.8863636363636364\n",
            "  Recall: 1.0\n",
            "  F1 Score: 0.9397590361445783\n",
            "Class B-PER:\n",
            "  Precision: 1.0\n",
            "  Recall: 0.0\n",
            "  F1 Score: 0.0\n",
            "Class I-PER:\n",
            "  Precision: 1.0\n",
            "  Recall: 0.0\n",
            "  F1 Score: 0.0\n",
            "Class B-ORG:\n",
            "  Precision: 1.0\n",
            "  Recall: 0.0\n",
            "  F1 Score: 0.0\n",
            "Class I-ORG:\n",
            "  Precision: 1.0\n",
            "  Recall: 0.0\n",
            "  F1 Score: 0.0\n",
            "----------------------------\n",
            "Macro F1 Score: 0.18795180722891566\n",
            "\n",
            "\n",
            "Model : Indic_Ner_3epoch_batch_16\n",
            "\n",
            "<class 'list'> <class 'list'>\n",
            "Class O:\n",
            "  Precision: 1.0\n",
            "  Recall: 0.0\n",
            "  F1 Score: 0.0\n",
            "Class B-PER:\n",
            "  Precision: 0.0\n",
            "  Recall: 0.0\n",
            "  F1 Score: 0.0\n",
            "Class I-PER:\n",
            "  Precision: 0.0\n",
            "  Recall: 0.0\n",
            "  F1 Score: 0.0\n",
            "Class B-ORG:\n",
            "  Precision: 0.07142857142857142\n",
            "  Recall: 0.14285714285714285\n",
            "  F1 Score: 0.09523809523809523\n",
            "Class I-ORG:\n",
            "  Precision: 1.0\n",
            "  Recall: 0.7142857142857143\n",
            "  F1 Score: 0.8333333333333333\n",
            "Class B-LOC:\n",
            "  Precision: 0.0\n",
            "  Recall: 0.0\n",
            "  F1 Score: 0.0\n",
            "Class B-MISC:\n",
            "  Precision: 1.0\n",
            "  Recall: 0.0\n",
            "  F1 Score: 0.0\n",
            "Class I-MISC:\n",
            "  Precision: 1.0\n",
            "  Recall: 0.0\n",
            "  F1 Score: 0.0\n",
            "----------------------------\n",
            "Macro F1 Score: 0.11607142857142856\n",
            "\n",
            "\n",
            "Model : Indic_BERT_3epoch_batch_8\n",
            "\n",
            "<class 'list'> <class 'list'>\n",
            "Class O:\n",
            "  Precision: 0.8863636363636364\n",
            "  Recall: 1.0\n",
            "  F1 Score: 0.9397590361445783\n",
            "Class B-PER:\n",
            "  Precision: 1.0\n",
            "  Recall: 0.0\n",
            "  F1 Score: 0.0\n",
            "Class I-PER:\n",
            "  Precision: 1.0\n",
            "  Recall: 0.0\n",
            "  F1 Score: 0.0\n",
            "Class B-ORG:\n",
            "  Precision: 1.0\n",
            "  Recall: 0.0\n",
            "  F1 Score: 0.0\n",
            "Class I-ORG:\n",
            "  Precision: 1.0\n",
            "  Recall: 0.0\n",
            "  F1 Score: 0.0\n",
            "----------------------------\n",
            "Macro F1 Score: 0.18795180722891566\n",
            "\n",
            "\n",
            "Model : Indic_BERT_1lakh\n",
            "\n",
            "<class 'list'> <class 'list'>\n",
            "Class O:\n",
            "  Precision: 1.0\n",
            "  Recall: 0.9487179487179487\n",
            "  F1 Score: 0.9736842105263158\n",
            "Class B-PER:\n",
            "  Precision: 0.25\n",
            "  Recall: 0.5\n",
            "  F1 Score: 0.3333333333333333\n",
            "Class I-PER:\n",
            "  Precision: 0.5\n",
            "  Recall: 0.5\n",
            "  F1 Score: 0.5\n",
            "Class B-ORG:\n",
            "  Precision: 0.6666666666666666\n",
            "  Recall: 1.0\n",
            "  F1 Score: 0.8\n",
            "Class I-ORG:\n",
            "  Precision: 0.8\n",
            "  Recall: 1.0\n",
            "  F1 Score: 0.888888888888889\n",
            "----------------------------\n",
            "Macro F1 Score: 0.6991812865497076\n",
            "\n",
            "\n",
            "Model : Indic_BERT_50k\n",
            "\n",
            "<class 'list'> <class 'list'>\n",
            "Class O:\n",
            "  Precision: 1.0\n",
            "  Recall: 0.9358974358974359\n",
            "  F1 Score: 0.9668874172185431\n",
            "Class B-PER:\n",
            "  Precision: 0.25\n",
            "  Recall: 0.5\n",
            "  F1 Score: 0.3333333333333333\n",
            "Class I-PER:\n",
            "  Precision: 0.5\n",
            "  Recall: 0.5\n",
            "  F1 Score: 0.5\n",
            "Class B-ORG:\n",
            "  Precision: 0.6666666666666666\n",
            "  Recall: 1.0\n",
            "  F1 Score: 0.8\n",
            "Class I-ORG:\n",
            "  Precision: 0.8\n",
            "  Recall: 1.0\n",
            "  F1 Score: 0.888888888888889\n",
            "----------------------------\n",
            "Macro F1 Score: 0.697821927888153\n",
            "\n",
            "\n",
            "Model : filtered_Indic_BERT_1lakh\n",
            "\n",
            "<class 'list'> <class 'list'>\n",
            "Class O:\n",
            "  Precision: 1.0\n",
            "  Recall: 0.4358974358974359\n",
            "  F1 Score: 0.6071428571428571\n",
            "Class B-PER:\n",
            "  Precision: 0.0\n",
            "  Recall: 0.0\n",
            "  F1 Score: 0.0\n",
            "Class I-PER:\n",
            "  Precision: 0.023255813953488372\n",
            "  Recall: 0.5\n",
            "  F1 Score: 0.04444444444444444\n",
            "Class B-ORG:\n",
            "  Precision: 0.5\n",
            "  Recall: 1.0\n",
            "  F1 Score: 0.6666666666666666\n",
            "Class I-ORG:\n",
            "  Precision: 0.8\n",
            "  Recall: 1.0\n",
            "  F1 Score: 0.888888888888889\n",
            "----------------------------\n",
            "Macro F1 Score: 0.4414285714285714\n",
            "\n",
            "\n",
            "Model : filtrered_Indic_NEr_1lakh\n",
            "\n",
            "<class 'list'> <class 'list'>\n",
            "Class O:\n",
            "  Precision: 0.84375\n",
            "  Recall: 0.07780979827089338\n",
            "  F1 Score: 0.1424802110817942\n",
            "Class B-PER:\n",
            "  Precision: 0.0\n",
            "  Recall: 0.0\n",
            "  F1 Score: 0.0\n",
            "Class I-PER:\n",
            "  Precision: 0.0\n",
            "  Recall: 0.0\n",
            "  F1 Score: 0.0\n",
            "Class B-ORG:\n",
            "  Precision: 0.0\n",
            "  Recall: 0.0\n",
            "  F1 Score: 0.0\n",
            "Class I-ORG:\n",
            "  Precision: 0.1320754716981132\n",
            "  Recall: 1.0\n",
            "  F1 Score: 0.23333333333333334\n",
            "Class B-LOC:\n",
            "  Precision: 0.0\n",
            "  Recall: 0.0\n",
            "  F1 Score: 0.0\n",
            "Class B-MISC:\n",
            "  Precision: 1.0\n",
            "  Recall: 0.0\n",
            "  F1 Score: 0.0\n",
            "Class I-MISC:\n",
            "  Precision: 1.0\n",
            "  Recall: 0.0\n",
            "  F1 Score: 0.0\n",
            "----------------------------\n",
            "Macro F1 Score: 0.04697669305189094\n"
          ]
        }
      ]
    },
    {
      "cell_type": "code",
      "source": [],
      "metadata": {
        "id": "rkpcAsebJJYN"
      },
      "execution_count": null,
      "outputs": []
    }
  ],
  "metadata": {
    "accelerator": "GPU",
    "colab": {
      "gpuType": "T4",
      "provenance": []
    },
    "kernelspec": {
      "display_name": "Python 3 (ipykernel)",
      "language": "python",
      "name": "python3"
    },
    "language_info": {
      "codemirror_mode": {
        "name": "ipython",
        "version": 3
      },
      "file_extension": ".py",
      "mimetype": "text/x-python",
      "name": "python",
      "nbconvert_exporter": "python",
      "pygments_lexer": "ipython3",
      "version": "3.8.17"
    },
    "widgets": {
      "application/vnd.jupyter.widget-state+json": {
        "d1a1bdc37ce9478bbb530889cf7fc033": {
          "model_module": "@jupyter-widgets/controls",
          "model_name": "HBoxModel",
          "model_module_version": "1.5.0",
          "state": {
            "_dom_classes": [],
            "_model_module": "@jupyter-widgets/controls",
            "_model_module_version": "1.5.0",
            "_model_name": "HBoxModel",
            "_view_count": null,
            "_view_module": "@jupyter-widgets/controls",
            "_view_module_version": "1.5.0",
            "_view_name": "HBoxView",
            "box_style": "",
            "children": [
              "IPY_MODEL_b8d2939efaa245a8924892fb5f83f113",
              "IPY_MODEL_cf0782d1cd6144d2936452f2e1cdc4f0",
              "IPY_MODEL_c47dc02031704c57b98164def3debd87"
            ],
            "layout": "IPY_MODEL_dd2cd1cb908a4a7c8a23f2b4a29c8d2c"
          }
        },
        "b8d2939efaa245a8924892fb5f83f113": {
          "model_module": "@jupyter-widgets/controls",
          "model_name": "HTMLModel",
          "model_module_version": "1.5.0",
          "state": {
            "_dom_classes": [],
            "_model_module": "@jupyter-widgets/controls",
            "_model_module_version": "1.5.0",
            "_model_name": "HTMLModel",
            "_view_count": null,
            "_view_module": "@jupyter-widgets/controls",
            "_view_module_version": "1.5.0",
            "_view_name": "HTMLView",
            "description": "",
            "description_tooltip": null,
            "layout": "IPY_MODEL_1ec5e94ba59f40049534cac6e70a702b",
            "placeholder": "​",
            "style": "IPY_MODEL_84010e0a2579488ea421a51064b4f2c3",
            "value": "Downloading data: 100%"
          }
        },
        "cf0782d1cd6144d2936452f2e1cdc4f0": {
          "model_module": "@jupyter-widgets/controls",
          "model_name": "FloatProgressModel",
          "model_module_version": "1.5.0",
          "state": {
            "_dom_classes": [],
            "_model_module": "@jupyter-widgets/controls",
            "_model_module_version": "1.5.0",
            "_model_name": "FloatProgressModel",
            "_view_count": null,
            "_view_module": "@jupyter-widgets/controls",
            "_view_module_version": "1.5.0",
            "_view_name": "ProgressView",
            "bar_style": "success",
            "description": "",
            "description_tooltip": null,
            "layout": "IPY_MODEL_03065a692fa342a9a3afce53081ff485",
            "max": 93264473,
            "min": 0,
            "orientation": "horizontal",
            "style": "IPY_MODEL_7aa86f5f68d646e49a6859d701a83e63",
            "value": 93264473
          }
        },
        "c47dc02031704c57b98164def3debd87": {
          "model_module": "@jupyter-widgets/controls",
          "model_name": "HTMLModel",
          "model_module_version": "1.5.0",
          "state": {
            "_dom_classes": [],
            "_model_module": "@jupyter-widgets/controls",
            "_model_module_version": "1.5.0",
            "_model_name": "HTMLModel",
            "_view_count": null,
            "_view_module": "@jupyter-widgets/controls",
            "_view_module_version": "1.5.0",
            "_view_name": "HTMLView",
            "description": "",
            "description_tooltip": null,
            "layout": "IPY_MODEL_bb38a2c17e194a3fab4d468257b473b4",
            "placeholder": "​",
            "style": "IPY_MODEL_ba3bab378e5f4fc5902bab839fd21bcd",
            "value": " 93.3M/93.3M [00:17&lt;00:00, 5.92MB/s]"
          }
        },
        "dd2cd1cb908a4a7c8a23f2b4a29c8d2c": {
          "model_module": "@jupyter-widgets/base",
          "model_name": "LayoutModel",
          "model_module_version": "1.2.0",
          "state": {
            "_model_module": "@jupyter-widgets/base",
            "_model_module_version": "1.2.0",
            "_model_name": "LayoutModel",
            "_view_count": null,
            "_view_module": "@jupyter-widgets/base",
            "_view_module_version": "1.2.0",
            "_view_name": "LayoutView",
            "align_content": null,
            "align_items": null,
            "align_self": null,
            "border": null,
            "bottom": null,
            "display": null,
            "flex": null,
            "flex_flow": null,
            "grid_area": null,
            "grid_auto_columns": null,
            "grid_auto_flow": null,
            "grid_auto_rows": null,
            "grid_column": null,
            "grid_gap": null,
            "grid_row": null,
            "grid_template_areas": null,
            "grid_template_columns": null,
            "grid_template_rows": null,
            "height": null,
            "justify_content": null,
            "justify_items": null,
            "left": null,
            "margin": null,
            "max_height": null,
            "max_width": null,
            "min_height": null,
            "min_width": null,
            "object_fit": null,
            "object_position": null,
            "order": null,
            "overflow": null,
            "overflow_x": null,
            "overflow_y": null,
            "padding": null,
            "right": null,
            "top": null,
            "visibility": null,
            "width": null
          }
        },
        "1ec5e94ba59f40049534cac6e70a702b": {
          "model_module": "@jupyter-widgets/base",
          "model_name": "LayoutModel",
          "model_module_version": "1.2.0",
          "state": {
            "_model_module": "@jupyter-widgets/base",
            "_model_module_version": "1.2.0",
            "_model_name": "LayoutModel",
            "_view_count": null,
            "_view_module": "@jupyter-widgets/base",
            "_view_module_version": "1.2.0",
            "_view_name": "LayoutView",
            "align_content": null,
            "align_items": null,
            "align_self": null,
            "border": null,
            "bottom": null,
            "display": null,
            "flex": null,
            "flex_flow": null,
            "grid_area": null,
            "grid_auto_columns": null,
            "grid_auto_flow": null,
            "grid_auto_rows": null,
            "grid_column": null,
            "grid_gap": null,
            "grid_row": null,
            "grid_template_areas": null,
            "grid_template_columns": null,
            "grid_template_rows": null,
            "height": null,
            "justify_content": null,
            "justify_items": null,
            "left": null,
            "margin": null,
            "max_height": null,
            "max_width": null,
            "min_height": null,
            "min_width": null,
            "object_fit": null,
            "object_position": null,
            "order": null,
            "overflow": null,
            "overflow_x": null,
            "overflow_y": null,
            "padding": null,
            "right": null,
            "top": null,
            "visibility": null,
            "width": null
          }
        },
        "84010e0a2579488ea421a51064b4f2c3": {
          "model_module": "@jupyter-widgets/controls",
          "model_name": "DescriptionStyleModel",
          "model_module_version": "1.5.0",
          "state": {
            "_model_module": "@jupyter-widgets/controls",
            "_model_module_version": "1.5.0",
            "_model_name": "DescriptionStyleModel",
            "_view_count": null,
            "_view_module": "@jupyter-widgets/base",
            "_view_module_version": "1.2.0",
            "_view_name": "StyleView",
            "description_width": ""
          }
        },
        "03065a692fa342a9a3afce53081ff485": {
          "model_module": "@jupyter-widgets/base",
          "model_name": "LayoutModel",
          "model_module_version": "1.2.0",
          "state": {
            "_model_module": "@jupyter-widgets/base",
            "_model_module_version": "1.2.0",
            "_model_name": "LayoutModel",
            "_view_count": null,
            "_view_module": "@jupyter-widgets/base",
            "_view_module_version": "1.2.0",
            "_view_name": "LayoutView",
            "align_content": null,
            "align_items": null,
            "align_self": null,
            "border": null,
            "bottom": null,
            "display": null,
            "flex": null,
            "flex_flow": null,
            "grid_area": null,
            "grid_auto_columns": null,
            "grid_auto_flow": null,
            "grid_auto_rows": null,
            "grid_column": null,
            "grid_gap": null,
            "grid_row": null,
            "grid_template_areas": null,
            "grid_template_columns": null,
            "grid_template_rows": null,
            "height": null,
            "justify_content": null,
            "justify_items": null,
            "left": null,
            "margin": null,
            "max_height": null,
            "max_width": null,
            "min_height": null,
            "min_width": null,
            "object_fit": null,
            "object_position": null,
            "order": null,
            "overflow": null,
            "overflow_x": null,
            "overflow_y": null,
            "padding": null,
            "right": null,
            "top": null,
            "visibility": null,
            "width": null
          }
        },
        "7aa86f5f68d646e49a6859d701a83e63": {
          "model_module": "@jupyter-widgets/controls",
          "model_name": "ProgressStyleModel",
          "model_module_version": "1.5.0",
          "state": {
            "_model_module": "@jupyter-widgets/controls",
            "_model_module_version": "1.5.0",
            "_model_name": "ProgressStyleModel",
            "_view_count": null,
            "_view_module": "@jupyter-widgets/base",
            "_view_module_version": "1.2.0",
            "_view_name": "StyleView",
            "bar_color": null,
            "description_width": ""
          }
        },
        "bb38a2c17e194a3fab4d468257b473b4": {
          "model_module": "@jupyter-widgets/base",
          "model_name": "LayoutModel",
          "model_module_version": "1.2.0",
          "state": {
            "_model_module": "@jupyter-widgets/base",
            "_model_module_version": "1.2.0",
            "_model_name": "LayoutModel",
            "_view_count": null,
            "_view_module": "@jupyter-widgets/base",
            "_view_module_version": "1.2.0",
            "_view_name": "LayoutView",
            "align_content": null,
            "align_items": null,
            "align_self": null,
            "border": null,
            "bottom": null,
            "display": null,
            "flex": null,
            "flex_flow": null,
            "grid_area": null,
            "grid_auto_columns": null,
            "grid_auto_flow": null,
            "grid_auto_rows": null,
            "grid_column": null,
            "grid_gap": null,
            "grid_row": null,
            "grid_template_areas": null,
            "grid_template_columns": null,
            "grid_template_rows": null,
            "height": null,
            "justify_content": null,
            "justify_items": null,
            "left": null,
            "margin": null,
            "max_height": null,
            "max_width": null,
            "min_height": null,
            "min_width": null,
            "object_fit": null,
            "object_position": null,
            "order": null,
            "overflow": null,
            "overflow_x": null,
            "overflow_y": null,
            "padding": null,
            "right": null,
            "top": null,
            "visibility": null,
            "width": null
          }
        },
        "ba3bab378e5f4fc5902bab839fd21bcd": {
          "model_module": "@jupyter-widgets/controls",
          "model_name": "DescriptionStyleModel",
          "model_module_version": "1.5.0",
          "state": {
            "_model_module": "@jupyter-widgets/controls",
            "_model_module_version": "1.5.0",
            "_model_name": "DescriptionStyleModel",
            "_view_count": null,
            "_view_module": "@jupyter-widgets/base",
            "_view_module_version": "1.2.0",
            "_view_name": "StyleView",
            "description_width": ""
          }
        },
        "d8d6bb0c0b344954bdaeffdbc66ce868": {
          "model_module": "@jupyter-widgets/controls",
          "model_name": "HBoxModel",
          "model_module_version": "1.5.0",
          "state": {
            "_dom_classes": [],
            "_model_module": "@jupyter-widgets/controls",
            "_model_module_version": "1.5.0",
            "_model_name": "HBoxModel",
            "_view_count": null,
            "_view_module": "@jupyter-widgets/controls",
            "_view_module_version": "1.5.0",
            "_view_name": "HBoxView",
            "box_style": "",
            "children": [
              "IPY_MODEL_d1d6d6ad5d10471a9755af708f696eaa",
              "IPY_MODEL_385bf76fd8734984b7157e2843a93488",
              "IPY_MODEL_76559967882444a09b517a998be3c84f"
            ],
            "layout": "IPY_MODEL_2947d615f8cb4322b69682b31e7bfbd7"
          }
        },
        "d1d6d6ad5d10471a9755af708f696eaa": {
          "model_module": "@jupyter-widgets/controls",
          "model_name": "HTMLModel",
          "model_module_version": "1.5.0",
          "state": {
            "_dom_classes": [],
            "_model_module": "@jupyter-widgets/controls",
            "_model_module_version": "1.5.0",
            "_model_name": "HTMLModel",
            "_view_count": null,
            "_view_module": "@jupyter-widgets/controls",
            "_view_module_version": "1.5.0",
            "_view_name": "HTMLView",
            "description": "",
            "description_tooltip": null,
            "layout": "IPY_MODEL_2e8cb0ba05b94f388e1f5cf86362146f",
            "placeholder": "​",
            "style": "IPY_MODEL_7d841f4369954eaebcb2ac5d931fbf5d",
            "value": "Downloading data: 100%"
          }
        },
        "385bf76fd8734984b7157e2843a93488": {
          "model_module": "@jupyter-widgets/controls",
          "model_name": "FloatProgressModel",
          "model_module_version": "1.5.0",
          "state": {
            "_dom_classes": [],
            "_model_module": "@jupyter-widgets/controls",
            "_model_module_version": "1.5.0",
            "_model_name": "FloatProgressModel",
            "_view_count": null,
            "_view_module": "@jupyter-widgets/controls",
            "_view_module_version": "1.5.0",
            "_view_name": "ProgressView",
            "bar_style": "success",
            "description": "",
            "description_tooltip": null,
            "layout": "IPY_MODEL_b1d3c2c2b8ba4f95bb9cb30e4024d1eb",
            "max": 5479401,
            "min": 0,
            "orientation": "horizontal",
            "style": "IPY_MODEL_69b6641d66844e53b7dbc6452c405158",
            "value": 5479401
          }
        },
        "76559967882444a09b517a998be3c84f": {
          "model_module": "@jupyter-widgets/controls",
          "model_name": "HTMLModel",
          "model_module_version": "1.5.0",
          "state": {
            "_dom_classes": [],
            "_model_module": "@jupyter-widgets/controls",
            "_model_module_version": "1.5.0",
            "_model_name": "HTMLModel",
            "_view_count": null,
            "_view_module": "@jupyter-widgets/controls",
            "_view_module_version": "1.5.0",
            "_view_name": "HTMLView",
            "description": "",
            "description_tooltip": null,
            "layout": "IPY_MODEL_0bffa3487fa8445fa8e399833aadd610",
            "placeholder": "​",
            "style": "IPY_MODEL_e2c77237c4314495af18bc89d5ee5fcb",
            "value": " 5.48M/5.48M [00:00&lt;00:00, 6.39MB/s]"
          }
        },
        "2947d615f8cb4322b69682b31e7bfbd7": {
          "model_module": "@jupyter-widgets/base",
          "model_name": "LayoutModel",
          "model_module_version": "1.2.0",
          "state": {
            "_model_module": "@jupyter-widgets/base",
            "_model_module_version": "1.2.0",
            "_model_name": "LayoutModel",
            "_view_count": null,
            "_view_module": "@jupyter-widgets/base",
            "_view_module_version": "1.2.0",
            "_view_name": "LayoutView",
            "align_content": null,
            "align_items": null,
            "align_self": null,
            "border": null,
            "bottom": null,
            "display": null,
            "flex": null,
            "flex_flow": null,
            "grid_area": null,
            "grid_auto_columns": null,
            "grid_auto_flow": null,
            "grid_auto_rows": null,
            "grid_column": null,
            "grid_gap": null,
            "grid_row": null,
            "grid_template_areas": null,
            "grid_template_columns": null,
            "grid_template_rows": null,
            "height": null,
            "justify_content": null,
            "justify_items": null,
            "left": null,
            "margin": null,
            "max_height": null,
            "max_width": null,
            "min_height": null,
            "min_width": null,
            "object_fit": null,
            "object_position": null,
            "order": null,
            "overflow": null,
            "overflow_x": null,
            "overflow_y": null,
            "padding": null,
            "right": null,
            "top": null,
            "visibility": null,
            "width": null
          }
        },
        "2e8cb0ba05b94f388e1f5cf86362146f": {
          "model_module": "@jupyter-widgets/base",
          "model_name": "LayoutModel",
          "model_module_version": "1.2.0",
          "state": {
            "_model_module": "@jupyter-widgets/base",
            "_model_module_version": "1.2.0",
            "_model_name": "LayoutModel",
            "_view_count": null,
            "_view_module": "@jupyter-widgets/base",
            "_view_module_version": "1.2.0",
            "_view_name": "LayoutView",
            "align_content": null,
            "align_items": null,
            "align_self": null,
            "border": null,
            "bottom": null,
            "display": null,
            "flex": null,
            "flex_flow": null,
            "grid_area": null,
            "grid_auto_columns": null,
            "grid_auto_flow": null,
            "grid_auto_rows": null,
            "grid_column": null,
            "grid_gap": null,
            "grid_row": null,
            "grid_template_areas": null,
            "grid_template_columns": null,
            "grid_template_rows": null,
            "height": null,
            "justify_content": null,
            "justify_items": null,
            "left": null,
            "margin": null,
            "max_height": null,
            "max_width": null,
            "min_height": null,
            "min_width": null,
            "object_fit": null,
            "object_position": null,
            "order": null,
            "overflow": null,
            "overflow_x": null,
            "overflow_y": null,
            "padding": null,
            "right": null,
            "top": null,
            "visibility": null,
            "width": null
          }
        },
        "7d841f4369954eaebcb2ac5d931fbf5d": {
          "model_module": "@jupyter-widgets/controls",
          "model_name": "DescriptionStyleModel",
          "model_module_version": "1.5.0",
          "state": {
            "_model_module": "@jupyter-widgets/controls",
            "_model_module_version": "1.5.0",
            "_model_name": "DescriptionStyleModel",
            "_view_count": null,
            "_view_module": "@jupyter-widgets/base",
            "_view_module_version": "1.2.0",
            "_view_name": "StyleView",
            "description_width": ""
          }
        },
        "b1d3c2c2b8ba4f95bb9cb30e4024d1eb": {
          "model_module": "@jupyter-widgets/base",
          "model_name": "LayoutModel",
          "model_module_version": "1.2.0",
          "state": {
            "_model_module": "@jupyter-widgets/base",
            "_model_module_version": "1.2.0",
            "_model_name": "LayoutModel",
            "_view_count": null,
            "_view_module": "@jupyter-widgets/base",
            "_view_module_version": "1.2.0",
            "_view_name": "LayoutView",
            "align_content": null,
            "align_items": null,
            "align_self": null,
            "border": null,
            "bottom": null,
            "display": null,
            "flex": null,
            "flex_flow": null,
            "grid_area": null,
            "grid_auto_columns": null,
            "grid_auto_flow": null,
            "grid_auto_rows": null,
            "grid_column": null,
            "grid_gap": null,
            "grid_row": null,
            "grid_template_areas": null,
            "grid_template_columns": null,
            "grid_template_rows": null,
            "height": null,
            "justify_content": null,
            "justify_items": null,
            "left": null,
            "margin": null,
            "max_height": null,
            "max_width": null,
            "min_height": null,
            "min_width": null,
            "object_fit": null,
            "object_position": null,
            "order": null,
            "overflow": null,
            "overflow_x": null,
            "overflow_y": null,
            "padding": null,
            "right": null,
            "top": null,
            "visibility": null,
            "width": null
          }
        },
        "69b6641d66844e53b7dbc6452c405158": {
          "model_module": "@jupyter-widgets/controls",
          "model_name": "ProgressStyleModel",
          "model_module_version": "1.5.0",
          "state": {
            "_model_module": "@jupyter-widgets/controls",
            "_model_module_version": "1.5.0",
            "_model_name": "ProgressStyleModel",
            "_view_count": null,
            "_view_module": "@jupyter-widgets/base",
            "_view_module_version": "1.2.0",
            "_view_name": "StyleView",
            "bar_color": null,
            "description_width": ""
          }
        },
        "0bffa3487fa8445fa8e399833aadd610": {
          "model_module": "@jupyter-widgets/base",
          "model_name": "LayoutModel",
          "model_module_version": "1.2.0",
          "state": {
            "_model_module": "@jupyter-widgets/base",
            "_model_module_version": "1.2.0",
            "_model_name": "LayoutModel",
            "_view_count": null,
            "_view_module": "@jupyter-widgets/base",
            "_view_module_version": "1.2.0",
            "_view_name": "LayoutView",
            "align_content": null,
            "align_items": null,
            "align_self": null,
            "border": null,
            "bottom": null,
            "display": null,
            "flex": null,
            "flex_flow": null,
            "grid_area": null,
            "grid_auto_columns": null,
            "grid_auto_flow": null,
            "grid_auto_rows": null,
            "grid_column": null,
            "grid_gap": null,
            "grid_row": null,
            "grid_template_areas": null,
            "grid_template_columns": null,
            "grid_template_rows": null,
            "height": null,
            "justify_content": null,
            "justify_items": null,
            "left": null,
            "margin": null,
            "max_height": null,
            "max_width": null,
            "min_height": null,
            "min_width": null,
            "object_fit": null,
            "object_position": null,
            "order": null,
            "overflow": null,
            "overflow_x": null,
            "overflow_y": null,
            "padding": null,
            "right": null,
            "top": null,
            "visibility": null,
            "width": null
          }
        },
        "e2c77237c4314495af18bc89d5ee5fcb": {
          "model_module": "@jupyter-widgets/controls",
          "model_name": "DescriptionStyleModel",
          "model_module_version": "1.5.0",
          "state": {
            "_model_module": "@jupyter-widgets/controls",
            "_model_module_version": "1.5.0",
            "_model_name": "DescriptionStyleModel",
            "_view_count": null,
            "_view_module": "@jupyter-widgets/base",
            "_view_module_version": "1.2.0",
            "_view_name": "StyleView",
            "description_width": ""
          }
        },
        "e4578f4e79e3488489e16272dde0c555": {
          "model_module": "@jupyter-widgets/controls",
          "model_name": "HBoxModel",
          "model_module_version": "1.5.0",
          "state": {
            "_dom_classes": [],
            "_model_module": "@jupyter-widgets/controls",
            "_model_module_version": "1.5.0",
            "_model_name": "HBoxModel",
            "_view_count": null,
            "_view_module": "@jupyter-widgets/controls",
            "_view_module_version": "1.5.0",
            "_view_name": "HBoxView",
            "box_style": "",
            "children": [
              "IPY_MODEL_69f4dba72a294621bd2fff6a2860162d",
              "IPY_MODEL_49ba618eede248bb9772aad845886544",
              "IPY_MODEL_21aa50bf06aa4ea7b00142e37e0eb6e1"
            ],
            "layout": "IPY_MODEL_83edc50b17c6412c9474c62e2fc45979"
          }
        },
        "69f4dba72a294621bd2fff6a2860162d": {
          "model_module": "@jupyter-widgets/controls",
          "model_name": "HTMLModel",
          "model_module_version": "1.5.0",
          "state": {
            "_dom_classes": [],
            "_model_module": "@jupyter-widgets/controls",
            "_model_module_version": "1.5.0",
            "_model_name": "HTMLModel",
            "_view_count": null,
            "_view_module": "@jupyter-widgets/controls",
            "_view_module_version": "1.5.0",
            "_view_name": "HTMLView",
            "description": "",
            "description_tooltip": null,
            "layout": "IPY_MODEL_540760db74094fb08f2621f5c415af4a",
            "placeholder": "​",
            "style": "IPY_MODEL_09b41b949233413d894db79fdd5341ec",
            "value": "Downloading data: 100%"
          }
        },
        "49ba618eede248bb9772aad845886544": {
          "model_module": "@jupyter-widgets/controls",
          "model_name": "FloatProgressModel",
          "model_module_version": "1.5.0",
          "state": {
            "_dom_classes": [],
            "_model_module": "@jupyter-widgets/controls",
            "_model_module_version": "1.5.0",
            "_model_name": "FloatProgressModel",
            "_view_count": null,
            "_view_module": "@jupyter-widgets/controls",
            "_view_module_version": "1.5.0",
            "_view_name": "ProgressView",
            "bar_style": "success",
            "description": "",
            "description_tooltip": null,
            "layout": "IPY_MODEL_9e7ba59d846c4ff4a4cf39deea077de5",
            "max": 93468,
            "min": 0,
            "orientation": "horizontal",
            "style": "IPY_MODEL_9af1a8f100a949579b0af239363a47bd",
            "value": 93468
          }
        },
        "21aa50bf06aa4ea7b00142e37e0eb6e1": {
          "model_module": "@jupyter-widgets/controls",
          "model_name": "HTMLModel",
          "model_module_version": "1.5.0",
          "state": {
            "_dom_classes": [],
            "_model_module": "@jupyter-widgets/controls",
            "_model_module_version": "1.5.0",
            "_model_name": "HTMLModel",
            "_view_count": null,
            "_view_module": "@jupyter-widgets/controls",
            "_view_module_version": "1.5.0",
            "_view_name": "HTMLView",
            "description": "",
            "description_tooltip": null,
            "layout": "IPY_MODEL_a995a3592f834935ab59a525529c10e8",
            "placeholder": "​",
            "style": "IPY_MODEL_6f698ba8a8a141ae87c919252be252d3",
            "value": " 93.5k/93.5k [00:00&lt;00:00, 242kB/s]"
          }
        },
        "83edc50b17c6412c9474c62e2fc45979": {
          "model_module": "@jupyter-widgets/base",
          "model_name": "LayoutModel",
          "model_module_version": "1.2.0",
          "state": {
            "_model_module": "@jupyter-widgets/base",
            "_model_module_version": "1.2.0",
            "_model_name": "LayoutModel",
            "_view_count": null,
            "_view_module": "@jupyter-widgets/base",
            "_view_module_version": "1.2.0",
            "_view_name": "LayoutView",
            "align_content": null,
            "align_items": null,
            "align_self": null,
            "border": null,
            "bottom": null,
            "display": null,
            "flex": null,
            "flex_flow": null,
            "grid_area": null,
            "grid_auto_columns": null,
            "grid_auto_flow": null,
            "grid_auto_rows": null,
            "grid_column": null,
            "grid_gap": null,
            "grid_row": null,
            "grid_template_areas": null,
            "grid_template_columns": null,
            "grid_template_rows": null,
            "height": null,
            "justify_content": null,
            "justify_items": null,
            "left": null,
            "margin": null,
            "max_height": null,
            "max_width": null,
            "min_height": null,
            "min_width": null,
            "object_fit": null,
            "object_position": null,
            "order": null,
            "overflow": null,
            "overflow_x": null,
            "overflow_y": null,
            "padding": null,
            "right": null,
            "top": null,
            "visibility": null,
            "width": null
          }
        },
        "540760db74094fb08f2621f5c415af4a": {
          "model_module": "@jupyter-widgets/base",
          "model_name": "LayoutModel",
          "model_module_version": "1.2.0",
          "state": {
            "_model_module": "@jupyter-widgets/base",
            "_model_module_version": "1.2.0",
            "_model_name": "LayoutModel",
            "_view_count": null,
            "_view_module": "@jupyter-widgets/base",
            "_view_module_version": "1.2.0",
            "_view_name": "LayoutView",
            "align_content": null,
            "align_items": null,
            "align_self": null,
            "border": null,
            "bottom": null,
            "display": null,
            "flex": null,
            "flex_flow": null,
            "grid_area": null,
            "grid_auto_columns": null,
            "grid_auto_flow": null,
            "grid_auto_rows": null,
            "grid_column": null,
            "grid_gap": null,
            "grid_row": null,
            "grid_template_areas": null,
            "grid_template_columns": null,
            "grid_template_rows": null,
            "height": null,
            "justify_content": null,
            "justify_items": null,
            "left": null,
            "margin": null,
            "max_height": null,
            "max_width": null,
            "min_height": null,
            "min_width": null,
            "object_fit": null,
            "object_position": null,
            "order": null,
            "overflow": null,
            "overflow_x": null,
            "overflow_y": null,
            "padding": null,
            "right": null,
            "top": null,
            "visibility": null,
            "width": null
          }
        },
        "09b41b949233413d894db79fdd5341ec": {
          "model_module": "@jupyter-widgets/controls",
          "model_name": "DescriptionStyleModel",
          "model_module_version": "1.5.0",
          "state": {
            "_model_module": "@jupyter-widgets/controls",
            "_model_module_version": "1.5.0",
            "_model_name": "DescriptionStyleModel",
            "_view_count": null,
            "_view_module": "@jupyter-widgets/base",
            "_view_module_version": "1.2.0",
            "_view_name": "StyleView",
            "description_width": ""
          }
        },
        "9e7ba59d846c4ff4a4cf39deea077de5": {
          "model_module": "@jupyter-widgets/base",
          "model_name": "LayoutModel",
          "model_module_version": "1.2.0",
          "state": {
            "_model_module": "@jupyter-widgets/base",
            "_model_module_version": "1.2.0",
            "_model_name": "LayoutModel",
            "_view_count": null,
            "_view_module": "@jupyter-widgets/base",
            "_view_module_version": "1.2.0",
            "_view_name": "LayoutView",
            "align_content": null,
            "align_items": null,
            "align_self": null,
            "border": null,
            "bottom": null,
            "display": null,
            "flex": null,
            "flex_flow": null,
            "grid_area": null,
            "grid_auto_columns": null,
            "grid_auto_flow": null,
            "grid_auto_rows": null,
            "grid_column": null,
            "grid_gap": null,
            "grid_row": null,
            "grid_template_areas": null,
            "grid_template_columns": null,
            "grid_template_rows": null,
            "height": null,
            "justify_content": null,
            "justify_items": null,
            "left": null,
            "margin": null,
            "max_height": null,
            "max_width": null,
            "min_height": null,
            "min_width": null,
            "object_fit": null,
            "object_position": null,
            "order": null,
            "overflow": null,
            "overflow_x": null,
            "overflow_y": null,
            "padding": null,
            "right": null,
            "top": null,
            "visibility": null,
            "width": null
          }
        },
        "9af1a8f100a949579b0af239363a47bd": {
          "model_module": "@jupyter-widgets/controls",
          "model_name": "ProgressStyleModel",
          "model_module_version": "1.5.0",
          "state": {
            "_model_module": "@jupyter-widgets/controls",
            "_model_module_version": "1.5.0",
            "_model_name": "ProgressStyleModel",
            "_view_count": null,
            "_view_module": "@jupyter-widgets/base",
            "_view_module_version": "1.2.0",
            "_view_name": "StyleView",
            "bar_color": null,
            "description_width": ""
          }
        },
        "a995a3592f834935ab59a525529c10e8": {
          "model_module": "@jupyter-widgets/base",
          "model_name": "LayoutModel",
          "model_module_version": "1.2.0",
          "state": {
            "_model_module": "@jupyter-widgets/base",
            "_model_module_version": "1.2.0",
            "_model_name": "LayoutModel",
            "_view_count": null,
            "_view_module": "@jupyter-widgets/base",
            "_view_module_version": "1.2.0",
            "_view_name": "LayoutView",
            "align_content": null,
            "align_items": null,
            "align_self": null,
            "border": null,
            "bottom": null,
            "display": null,
            "flex": null,
            "flex_flow": null,
            "grid_area": null,
            "grid_auto_columns": null,
            "grid_auto_flow": null,
            "grid_auto_rows": null,
            "grid_column": null,
            "grid_gap": null,
            "grid_row": null,
            "grid_template_areas": null,
            "grid_template_columns": null,
            "grid_template_rows": null,
            "height": null,
            "justify_content": null,
            "justify_items": null,
            "left": null,
            "margin": null,
            "max_height": null,
            "max_width": null,
            "min_height": null,
            "min_width": null,
            "object_fit": null,
            "object_position": null,
            "order": null,
            "overflow": null,
            "overflow_x": null,
            "overflow_y": null,
            "padding": null,
            "right": null,
            "top": null,
            "visibility": null,
            "width": null
          }
        },
        "6f698ba8a8a141ae87c919252be252d3": {
          "model_module": "@jupyter-widgets/controls",
          "model_name": "DescriptionStyleModel",
          "model_module_version": "1.5.0",
          "state": {
            "_model_module": "@jupyter-widgets/controls",
            "_model_module_version": "1.5.0",
            "_model_name": "DescriptionStyleModel",
            "_view_count": null,
            "_view_module": "@jupyter-widgets/base",
            "_view_module_version": "1.2.0",
            "_view_name": "StyleView",
            "description_width": ""
          }
        },
        "92f06d8c005a4b3aa3977b3964e24ea9": {
          "model_module": "@jupyter-widgets/controls",
          "model_name": "HBoxModel",
          "model_module_version": "1.5.0",
          "state": {
            "_dom_classes": [],
            "_model_module": "@jupyter-widgets/controls",
            "_model_module_version": "1.5.0",
            "_model_name": "HBoxModel",
            "_view_count": null,
            "_view_module": "@jupyter-widgets/controls",
            "_view_module_version": "1.5.0",
            "_view_name": "HBoxView",
            "box_style": "",
            "children": [
              "IPY_MODEL_418b84e2629d43579a12134ebf320e7c",
              "IPY_MODEL_78008b9b38f0441796b98f21d1db1ed4",
              "IPY_MODEL_3a0bf0f8a9b04360b65e5a70399a014e"
            ],
            "layout": "IPY_MODEL_13d43f4779d1441f9d13b28fe453511f"
          }
        },
        "418b84e2629d43579a12134ebf320e7c": {
          "model_module": "@jupyter-widgets/controls",
          "model_name": "HTMLModel",
          "model_module_version": "1.5.0",
          "state": {
            "_dom_classes": [],
            "_model_module": "@jupyter-widgets/controls",
            "_model_module_version": "1.5.0",
            "_model_name": "HTMLModel",
            "_view_count": null,
            "_view_module": "@jupyter-widgets/controls",
            "_view_module_version": "1.5.0",
            "_view_name": "HTMLView",
            "description": "",
            "description_tooltip": null,
            "layout": "IPY_MODEL_e673c33f95fc4fedbcb509c1d04f027c",
            "placeholder": "​",
            "style": "IPY_MODEL_0c2907f3208245e49848ea30367eec63",
            "value": "Downloading data: 100%"
          }
        },
        "78008b9b38f0441796b98f21d1db1ed4": {
          "model_module": "@jupyter-widgets/controls",
          "model_name": "FloatProgressModel",
          "model_module_version": "1.5.0",
          "state": {
            "_dom_classes": [],
            "_model_module": "@jupyter-widgets/controls",
            "_model_module_version": "1.5.0",
            "_model_name": "FloatProgressModel",
            "_view_count": null,
            "_view_module": "@jupyter-widgets/controls",
            "_view_module_version": "1.5.0",
            "_view_name": "ProgressView",
            "bar_style": "success",
            "description": "",
            "description_tooltip": null,
            "layout": "IPY_MODEL_b3bbbef68ec646458add54d54b5b71b5",
            "max": 1366190,
            "min": 0,
            "orientation": "horizontal",
            "style": "IPY_MODEL_0d7bac05485a44b9a1a6b083b82264a5",
            "value": 1366190
          }
        },
        "3a0bf0f8a9b04360b65e5a70399a014e": {
          "model_module": "@jupyter-widgets/controls",
          "model_name": "HTMLModel",
          "model_module_version": "1.5.0",
          "state": {
            "_dom_classes": [],
            "_model_module": "@jupyter-widgets/controls",
            "_model_module_version": "1.5.0",
            "_model_name": "HTMLModel",
            "_view_count": null,
            "_view_module": "@jupyter-widgets/controls",
            "_view_module_version": "1.5.0",
            "_view_name": "HTMLView",
            "description": "",
            "description_tooltip": null,
            "layout": "IPY_MODEL_0db3a9918b91445b954ec915a712ea36",
            "placeholder": "​",
            "style": "IPY_MODEL_8d400dab1b5446219502811cad6c316d",
            "value": " 1.37M/1.37M [00:00&lt;00:00, 2.76MB/s]"
          }
        },
        "13d43f4779d1441f9d13b28fe453511f": {
          "model_module": "@jupyter-widgets/base",
          "model_name": "LayoutModel",
          "model_module_version": "1.2.0",
          "state": {
            "_model_module": "@jupyter-widgets/base",
            "_model_module_version": "1.2.0",
            "_model_name": "LayoutModel",
            "_view_count": null,
            "_view_module": "@jupyter-widgets/base",
            "_view_module_version": "1.2.0",
            "_view_name": "LayoutView",
            "align_content": null,
            "align_items": null,
            "align_self": null,
            "border": null,
            "bottom": null,
            "display": null,
            "flex": null,
            "flex_flow": null,
            "grid_area": null,
            "grid_auto_columns": null,
            "grid_auto_flow": null,
            "grid_auto_rows": null,
            "grid_column": null,
            "grid_gap": null,
            "grid_row": null,
            "grid_template_areas": null,
            "grid_template_columns": null,
            "grid_template_rows": null,
            "height": null,
            "justify_content": null,
            "justify_items": null,
            "left": null,
            "margin": null,
            "max_height": null,
            "max_width": null,
            "min_height": null,
            "min_width": null,
            "object_fit": null,
            "object_position": null,
            "order": null,
            "overflow": null,
            "overflow_x": null,
            "overflow_y": null,
            "padding": null,
            "right": null,
            "top": null,
            "visibility": null,
            "width": null
          }
        },
        "e673c33f95fc4fedbcb509c1d04f027c": {
          "model_module": "@jupyter-widgets/base",
          "model_name": "LayoutModel",
          "model_module_version": "1.2.0",
          "state": {
            "_model_module": "@jupyter-widgets/base",
            "_model_module_version": "1.2.0",
            "_model_name": "LayoutModel",
            "_view_count": null,
            "_view_module": "@jupyter-widgets/base",
            "_view_module_version": "1.2.0",
            "_view_name": "LayoutView",
            "align_content": null,
            "align_items": null,
            "align_self": null,
            "border": null,
            "bottom": null,
            "display": null,
            "flex": null,
            "flex_flow": null,
            "grid_area": null,
            "grid_auto_columns": null,
            "grid_auto_flow": null,
            "grid_auto_rows": null,
            "grid_column": null,
            "grid_gap": null,
            "grid_row": null,
            "grid_template_areas": null,
            "grid_template_columns": null,
            "grid_template_rows": null,
            "height": null,
            "justify_content": null,
            "justify_items": null,
            "left": null,
            "margin": null,
            "max_height": null,
            "max_width": null,
            "min_height": null,
            "min_width": null,
            "object_fit": null,
            "object_position": null,
            "order": null,
            "overflow": null,
            "overflow_x": null,
            "overflow_y": null,
            "padding": null,
            "right": null,
            "top": null,
            "visibility": null,
            "width": null
          }
        },
        "0c2907f3208245e49848ea30367eec63": {
          "model_module": "@jupyter-widgets/controls",
          "model_name": "DescriptionStyleModel",
          "model_module_version": "1.5.0",
          "state": {
            "_model_module": "@jupyter-widgets/controls",
            "_model_module_version": "1.5.0",
            "_model_name": "DescriptionStyleModel",
            "_view_count": null,
            "_view_module": "@jupyter-widgets/base",
            "_view_module_version": "1.2.0",
            "_view_name": "StyleView",
            "description_width": ""
          }
        },
        "b3bbbef68ec646458add54d54b5b71b5": {
          "model_module": "@jupyter-widgets/base",
          "model_name": "LayoutModel",
          "model_module_version": "1.2.0",
          "state": {
            "_model_module": "@jupyter-widgets/base",
            "_model_module_version": "1.2.0",
            "_model_name": "LayoutModel",
            "_view_count": null,
            "_view_module": "@jupyter-widgets/base",
            "_view_module_version": "1.2.0",
            "_view_name": "LayoutView",
            "align_content": null,
            "align_items": null,
            "align_self": null,
            "border": null,
            "bottom": null,
            "display": null,
            "flex": null,
            "flex_flow": null,
            "grid_area": null,
            "grid_auto_columns": null,
            "grid_auto_flow": null,
            "grid_auto_rows": null,
            "grid_column": null,
            "grid_gap": null,
            "grid_row": null,
            "grid_template_areas": null,
            "grid_template_columns": null,
            "grid_template_rows": null,
            "height": null,
            "justify_content": null,
            "justify_items": null,
            "left": null,
            "margin": null,
            "max_height": null,
            "max_width": null,
            "min_height": null,
            "min_width": null,
            "object_fit": null,
            "object_position": null,
            "order": null,
            "overflow": null,
            "overflow_x": null,
            "overflow_y": null,
            "padding": null,
            "right": null,
            "top": null,
            "visibility": null,
            "width": null
          }
        },
        "0d7bac05485a44b9a1a6b083b82264a5": {
          "model_module": "@jupyter-widgets/controls",
          "model_name": "ProgressStyleModel",
          "model_module_version": "1.5.0",
          "state": {
            "_model_module": "@jupyter-widgets/controls",
            "_model_module_version": "1.5.0",
            "_model_name": "ProgressStyleModel",
            "_view_count": null,
            "_view_module": "@jupyter-widgets/base",
            "_view_module_version": "1.2.0",
            "_view_name": "StyleView",
            "bar_color": null,
            "description_width": ""
          }
        },
        "0db3a9918b91445b954ec915a712ea36": {
          "model_module": "@jupyter-widgets/base",
          "model_name": "LayoutModel",
          "model_module_version": "1.2.0",
          "state": {
            "_model_module": "@jupyter-widgets/base",
            "_model_module_version": "1.2.0",
            "_model_name": "LayoutModel",
            "_view_count": null,
            "_view_module": "@jupyter-widgets/base",
            "_view_module_version": "1.2.0",
            "_view_name": "LayoutView",
            "align_content": null,
            "align_items": null,
            "align_self": null,
            "border": null,
            "bottom": null,
            "display": null,
            "flex": null,
            "flex_flow": null,
            "grid_area": null,
            "grid_auto_columns": null,
            "grid_auto_flow": null,
            "grid_auto_rows": null,
            "grid_column": null,
            "grid_gap": null,
            "grid_row": null,
            "grid_template_areas": null,
            "grid_template_columns": null,
            "grid_template_rows": null,
            "height": null,
            "justify_content": null,
            "justify_items": null,
            "left": null,
            "margin": null,
            "max_height": null,
            "max_width": null,
            "min_height": null,
            "min_width": null,
            "object_fit": null,
            "object_position": null,
            "order": null,
            "overflow": null,
            "overflow_x": null,
            "overflow_y": null,
            "padding": null,
            "right": null,
            "top": null,
            "visibility": null,
            "width": null
          }
        },
        "8d400dab1b5446219502811cad6c316d": {
          "model_module": "@jupyter-widgets/controls",
          "model_name": "DescriptionStyleModel",
          "model_module_version": "1.5.0",
          "state": {
            "_model_module": "@jupyter-widgets/controls",
            "_model_module_version": "1.5.0",
            "_model_name": "DescriptionStyleModel",
            "_view_count": null,
            "_view_module": "@jupyter-widgets/base",
            "_view_module_version": "1.2.0",
            "_view_name": "StyleView",
            "description_width": ""
          }
        },
        "433aefd5bdf74380b7eecf0e5204d0cf": {
          "model_module": "@jupyter-widgets/controls",
          "model_name": "HBoxModel",
          "model_module_version": "1.5.0",
          "state": {
            "_dom_classes": [],
            "_model_module": "@jupyter-widgets/controls",
            "_model_module_version": "1.5.0",
            "_model_name": "HBoxModel",
            "_view_count": null,
            "_view_module": "@jupyter-widgets/controls",
            "_view_module_version": "1.5.0",
            "_view_name": "HBoxView",
            "box_style": "",
            "children": [
              "IPY_MODEL_805f98b3a9f343bcb6eaf139e2360d6d",
              "IPY_MODEL_f6da03c5ad9a4934a540baf0f205c603",
              "IPY_MODEL_387e544ec25641d98b7dca960a485847"
            ],
            "layout": "IPY_MODEL_37ea754b616e4523831342eea9ad9f5b"
          }
        },
        "805f98b3a9f343bcb6eaf139e2360d6d": {
          "model_module": "@jupyter-widgets/controls",
          "model_name": "HTMLModel",
          "model_module_version": "1.5.0",
          "state": {
            "_dom_classes": [],
            "_model_module": "@jupyter-widgets/controls",
            "_model_module_version": "1.5.0",
            "_model_name": "HTMLModel",
            "_view_count": null,
            "_view_module": "@jupyter-widgets/controls",
            "_view_module_version": "1.5.0",
            "_view_name": "HTMLView",
            "description": "",
            "description_tooltip": null,
            "layout": "IPY_MODEL_b53d504d9e7f4532b30da692cca60ac0",
            "placeholder": "​",
            "style": "IPY_MODEL_9f7ee10e353143a98dac3f89df4ddcd4",
            "value": "Generating train split: 100%"
          }
        },
        "f6da03c5ad9a4934a540baf0f205c603": {
          "model_module": "@jupyter-widgets/controls",
          "model_name": "FloatProgressModel",
          "model_module_version": "1.5.0",
          "state": {
            "_dom_classes": [],
            "_model_module": "@jupyter-widgets/controls",
            "_model_module_version": "1.5.0",
            "_model_name": "FloatProgressModel",
            "_view_count": null,
            "_view_module": "@jupyter-widgets/controls",
            "_view_module_version": "1.5.0",
            "_view_name": "ProgressView",
            "bar_style": "success",
            "description": "",
            "description_tooltip": null,
            "layout": "IPY_MODEL_0301f6af07154110b2c27794bd316bb3",
            "max": 985787,
            "min": 0,
            "orientation": "horizontal",
            "style": "IPY_MODEL_0a570489ed324b8fba8fc89687ba2ccf",
            "value": 985787
          }
        },
        "387e544ec25641d98b7dca960a485847": {
          "model_module": "@jupyter-widgets/controls",
          "model_name": "HTMLModel",
          "model_module_version": "1.5.0",
          "state": {
            "_dom_classes": [],
            "_model_module": "@jupyter-widgets/controls",
            "_model_module_version": "1.5.0",
            "_model_name": "HTMLModel",
            "_view_count": null,
            "_view_module": "@jupyter-widgets/controls",
            "_view_module_version": "1.5.0",
            "_view_name": "HTMLView",
            "description": "",
            "description_tooltip": null,
            "layout": "IPY_MODEL_a4eaa86d877e4c24b498c7d8b29621f6",
            "placeholder": "​",
            "style": "IPY_MODEL_2d8eb2584a8543c5a132c4fd2aa0614a",
            "value": " 985787/985787 [00:06&lt;00:00, 188853.78 examples/s]"
          }
        },
        "37ea754b616e4523831342eea9ad9f5b": {
          "model_module": "@jupyter-widgets/base",
          "model_name": "LayoutModel",
          "model_module_version": "1.2.0",
          "state": {
            "_model_module": "@jupyter-widgets/base",
            "_model_module_version": "1.2.0",
            "_model_name": "LayoutModel",
            "_view_count": null,
            "_view_module": "@jupyter-widgets/base",
            "_view_module_version": "1.2.0",
            "_view_name": "LayoutView",
            "align_content": null,
            "align_items": null,
            "align_self": null,
            "border": null,
            "bottom": null,
            "display": null,
            "flex": null,
            "flex_flow": null,
            "grid_area": null,
            "grid_auto_columns": null,
            "grid_auto_flow": null,
            "grid_auto_rows": null,
            "grid_column": null,
            "grid_gap": null,
            "grid_row": null,
            "grid_template_areas": null,
            "grid_template_columns": null,
            "grid_template_rows": null,
            "height": null,
            "justify_content": null,
            "justify_items": null,
            "left": null,
            "margin": null,
            "max_height": null,
            "max_width": null,
            "min_height": null,
            "min_width": null,
            "object_fit": null,
            "object_position": null,
            "order": null,
            "overflow": null,
            "overflow_x": null,
            "overflow_y": null,
            "padding": null,
            "right": null,
            "top": null,
            "visibility": null,
            "width": null
          }
        },
        "b53d504d9e7f4532b30da692cca60ac0": {
          "model_module": "@jupyter-widgets/base",
          "model_name": "LayoutModel",
          "model_module_version": "1.2.0",
          "state": {
            "_model_module": "@jupyter-widgets/base",
            "_model_module_version": "1.2.0",
            "_model_name": "LayoutModel",
            "_view_count": null,
            "_view_module": "@jupyter-widgets/base",
            "_view_module_version": "1.2.0",
            "_view_name": "LayoutView",
            "align_content": null,
            "align_items": null,
            "align_self": null,
            "border": null,
            "bottom": null,
            "display": null,
            "flex": null,
            "flex_flow": null,
            "grid_area": null,
            "grid_auto_columns": null,
            "grid_auto_flow": null,
            "grid_auto_rows": null,
            "grid_column": null,
            "grid_gap": null,
            "grid_row": null,
            "grid_template_areas": null,
            "grid_template_columns": null,
            "grid_template_rows": null,
            "height": null,
            "justify_content": null,
            "justify_items": null,
            "left": null,
            "margin": null,
            "max_height": null,
            "max_width": null,
            "min_height": null,
            "min_width": null,
            "object_fit": null,
            "object_position": null,
            "order": null,
            "overflow": null,
            "overflow_x": null,
            "overflow_y": null,
            "padding": null,
            "right": null,
            "top": null,
            "visibility": null,
            "width": null
          }
        },
        "9f7ee10e353143a98dac3f89df4ddcd4": {
          "model_module": "@jupyter-widgets/controls",
          "model_name": "DescriptionStyleModel",
          "model_module_version": "1.5.0",
          "state": {
            "_model_module": "@jupyter-widgets/controls",
            "_model_module_version": "1.5.0",
            "_model_name": "DescriptionStyleModel",
            "_view_count": null,
            "_view_module": "@jupyter-widgets/base",
            "_view_module_version": "1.2.0",
            "_view_name": "StyleView",
            "description_width": ""
          }
        },
        "0301f6af07154110b2c27794bd316bb3": {
          "model_module": "@jupyter-widgets/base",
          "model_name": "LayoutModel",
          "model_module_version": "1.2.0",
          "state": {
            "_model_module": "@jupyter-widgets/base",
            "_model_module_version": "1.2.0",
            "_model_name": "LayoutModel",
            "_view_count": null,
            "_view_module": "@jupyter-widgets/base",
            "_view_module_version": "1.2.0",
            "_view_name": "LayoutView",
            "align_content": null,
            "align_items": null,
            "align_self": null,
            "border": null,
            "bottom": null,
            "display": null,
            "flex": null,
            "flex_flow": null,
            "grid_area": null,
            "grid_auto_columns": null,
            "grid_auto_flow": null,
            "grid_auto_rows": null,
            "grid_column": null,
            "grid_gap": null,
            "grid_row": null,
            "grid_template_areas": null,
            "grid_template_columns": null,
            "grid_template_rows": null,
            "height": null,
            "justify_content": null,
            "justify_items": null,
            "left": null,
            "margin": null,
            "max_height": null,
            "max_width": null,
            "min_height": null,
            "min_width": null,
            "object_fit": null,
            "object_position": null,
            "order": null,
            "overflow": null,
            "overflow_x": null,
            "overflow_y": null,
            "padding": null,
            "right": null,
            "top": null,
            "visibility": null,
            "width": null
          }
        },
        "0a570489ed324b8fba8fc89687ba2ccf": {
          "model_module": "@jupyter-widgets/controls",
          "model_name": "ProgressStyleModel",
          "model_module_version": "1.5.0",
          "state": {
            "_model_module": "@jupyter-widgets/controls",
            "_model_module_version": "1.5.0",
            "_model_name": "ProgressStyleModel",
            "_view_count": null,
            "_view_module": "@jupyter-widgets/base",
            "_view_module_version": "1.2.0",
            "_view_name": "StyleView",
            "bar_color": null,
            "description_width": ""
          }
        },
        "a4eaa86d877e4c24b498c7d8b29621f6": {
          "model_module": "@jupyter-widgets/base",
          "model_name": "LayoutModel",
          "model_module_version": "1.2.0",
          "state": {
            "_model_module": "@jupyter-widgets/base",
            "_model_module_version": "1.2.0",
            "_model_name": "LayoutModel",
            "_view_count": null,
            "_view_module": "@jupyter-widgets/base",
            "_view_module_version": "1.2.0",
            "_view_name": "LayoutView",
            "align_content": null,
            "align_items": null,
            "align_self": null,
            "border": null,
            "bottom": null,
            "display": null,
            "flex": null,
            "flex_flow": null,
            "grid_area": null,
            "grid_auto_columns": null,
            "grid_auto_flow": null,
            "grid_auto_rows": null,
            "grid_column": null,
            "grid_gap": null,
            "grid_row": null,
            "grid_template_areas": null,
            "grid_template_columns": null,
            "grid_template_rows": null,
            "height": null,
            "justify_content": null,
            "justify_items": null,
            "left": null,
            "margin": null,
            "max_height": null,
            "max_width": null,
            "min_height": null,
            "min_width": null,
            "object_fit": null,
            "object_position": null,
            "order": null,
            "overflow": null,
            "overflow_x": null,
            "overflow_y": null,
            "padding": null,
            "right": null,
            "top": null,
            "visibility": null,
            "width": null
          }
        },
        "2d8eb2584a8543c5a132c4fd2aa0614a": {
          "model_module": "@jupyter-widgets/controls",
          "model_name": "DescriptionStyleModel",
          "model_module_version": "1.5.0",
          "state": {
            "_model_module": "@jupyter-widgets/controls",
            "_model_module_version": "1.5.0",
            "_model_name": "DescriptionStyleModel",
            "_view_count": null,
            "_view_module": "@jupyter-widgets/base",
            "_view_module_version": "1.2.0",
            "_view_name": "StyleView",
            "description_width": ""
          }
        },
        "cd4b6e5124d447a58f414fd7932f57e1": {
          "model_module": "@jupyter-widgets/controls",
          "model_name": "HBoxModel",
          "model_module_version": "1.5.0",
          "state": {
            "_dom_classes": [],
            "_model_module": "@jupyter-widgets/controls",
            "_model_module_version": "1.5.0",
            "_model_name": "HBoxModel",
            "_view_count": null,
            "_view_module": "@jupyter-widgets/controls",
            "_view_module_version": "1.5.0",
            "_view_name": "HBoxView",
            "box_style": "",
            "children": [
              "IPY_MODEL_7789e03bcf8f4cd8a9dd7ade1f373b7f",
              "IPY_MODEL_e4f913657b8c49b0999ff2bfda5271f1",
              "IPY_MODEL_39c0e1d8e31840f29df2826c7ec14689"
            ],
            "layout": "IPY_MODEL_25905e470cb941d886d6ab7709244eca"
          }
        },
        "7789e03bcf8f4cd8a9dd7ade1f373b7f": {
          "model_module": "@jupyter-widgets/controls",
          "model_name": "HTMLModel",
          "model_module_version": "1.5.0",
          "state": {
            "_dom_classes": [],
            "_model_module": "@jupyter-widgets/controls",
            "_model_module_version": "1.5.0",
            "_model_name": "HTMLModel",
            "_view_count": null,
            "_view_module": "@jupyter-widgets/controls",
            "_view_module_version": "1.5.0",
            "_view_name": "HTMLView",
            "description": "",
            "description_tooltip": null,
            "layout": "IPY_MODEL_122ba8e566f14bf18132df6042490ffd",
            "placeholder": "​",
            "style": "IPY_MODEL_0604d6f533a646619676f59c40967821",
            "value": "Generating test split: 100%"
          }
        },
        "e4f913657b8c49b0999ff2bfda5271f1": {
          "model_module": "@jupyter-widgets/controls",
          "model_name": "FloatProgressModel",
          "model_module_version": "1.5.0",
          "state": {
            "_dom_classes": [],
            "_model_module": "@jupyter-widgets/controls",
            "_model_module_version": "1.5.0",
            "_model_name": "FloatProgressModel",
            "_view_count": null,
            "_view_module": "@jupyter-widgets/controls",
            "_view_module_version": "1.5.0",
            "_view_name": "ProgressView",
            "bar_style": "success",
            "description": "",
            "description_tooltip": null,
            "layout": "IPY_MODEL_7565341b0ff0438ab3e040ec6fd08750",
            "max": 867,
            "min": 0,
            "orientation": "horizontal",
            "style": "IPY_MODEL_4785f0d439604fafb255d6a4087e6455",
            "value": 867
          }
        },
        "39c0e1d8e31840f29df2826c7ec14689": {
          "model_module": "@jupyter-widgets/controls",
          "model_name": "HTMLModel",
          "model_module_version": "1.5.0",
          "state": {
            "_dom_classes": [],
            "_model_module": "@jupyter-widgets/controls",
            "_model_module_version": "1.5.0",
            "_model_name": "HTMLModel",
            "_view_count": null,
            "_view_module": "@jupyter-widgets/controls",
            "_view_module_version": "1.5.0",
            "_view_name": "HTMLView",
            "description": "",
            "description_tooltip": null,
            "layout": "IPY_MODEL_c0548c1845794ab49b46e3f4decb1084",
            "placeholder": "​",
            "style": "IPY_MODEL_e92c9457f25b41d29ed6812809952d23",
            "value": " 867/867 [00:00&lt;00:00, 13327.65 examples/s]"
          }
        },
        "25905e470cb941d886d6ab7709244eca": {
          "model_module": "@jupyter-widgets/base",
          "model_name": "LayoutModel",
          "model_module_version": "1.2.0",
          "state": {
            "_model_module": "@jupyter-widgets/base",
            "_model_module_version": "1.2.0",
            "_model_name": "LayoutModel",
            "_view_count": null,
            "_view_module": "@jupyter-widgets/base",
            "_view_module_version": "1.2.0",
            "_view_name": "LayoutView",
            "align_content": null,
            "align_items": null,
            "align_self": null,
            "border": null,
            "bottom": null,
            "display": null,
            "flex": null,
            "flex_flow": null,
            "grid_area": null,
            "grid_auto_columns": null,
            "grid_auto_flow": null,
            "grid_auto_rows": null,
            "grid_column": null,
            "grid_gap": null,
            "grid_row": null,
            "grid_template_areas": null,
            "grid_template_columns": null,
            "grid_template_rows": null,
            "height": null,
            "justify_content": null,
            "justify_items": null,
            "left": null,
            "margin": null,
            "max_height": null,
            "max_width": null,
            "min_height": null,
            "min_width": null,
            "object_fit": null,
            "object_position": null,
            "order": null,
            "overflow": null,
            "overflow_x": null,
            "overflow_y": null,
            "padding": null,
            "right": null,
            "top": null,
            "visibility": null,
            "width": null
          }
        },
        "122ba8e566f14bf18132df6042490ffd": {
          "model_module": "@jupyter-widgets/base",
          "model_name": "LayoutModel",
          "model_module_version": "1.2.0",
          "state": {
            "_model_module": "@jupyter-widgets/base",
            "_model_module_version": "1.2.0",
            "_model_name": "LayoutModel",
            "_view_count": null,
            "_view_module": "@jupyter-widgets/base",
            "_view_module_version": "1.2.0",
            "_view_name": "LayoutView",
            "align_content": null,
            "align_items": null,
            "align_self": null,
            "border": null,
            "bottom": null,
            "display": null,
            "flex": null,
            "flex_flow": null,
            "grid_area": null,
            "grid_auto_columns": null,
            "grid_auto_flow": null,
            "grid_auto_rows": null,
            "grid_column": null,
            "grid_gap": null,
            "grid_row": null,
            "grid_template_areas": null,
            "grid_template_columns": null,
            "grid_template_rows": null,
            "height": null,
            "justify_content": null,
            "justify_items": null,
            "left": null,
            "margin": null,
            "max_height": null,
            "max_width": null,
            "min_height": null,
            "min_width": null,
            "object_fit": null,
            "object_position": null,
            "order": null,
            "overflow": null,
            "overflow_x": null,
            "overflow_y": null,
            "padding": null,
            "right": null,
            "top": null,
            "visibility": null,
            "width": null
          }
        },
        "0604d6f533a646619676f59c40967821": {
          "model_module": "@jupyter-widgets/controls",
          "model_name": "DescriptionStyleModel",
          "model_module_version": "1.5.0",
          "state": {
            "_model_module": "@jupyter-widgets/controls",
            "_model_module_version": "1.5.0",
            "_model_name": "DescriptionStyleModel",
            "_view_count": null,
            "_view_module": "@jupyter-widgets/base",
            "_view_module_version": "1.2.0",
            "_view_name": "StyleView",
            "description_width": ""
          }
        },
        "7565341b0ff0438ab3e040ec6fd08750": {
          "model_module": "@jupyter-widgets/base",
          "model_name": "LayoutModel",
          "model_module_version": "1.2.0",
          "state": {
            "_model_module": "@jupyter-widgets/base",
            "_model_module_version": "1.2.0",
            "_model_name": "LayoutModel",
            "_view_count": null,
            "_view_module": "@jupyter-widgets/base",
            "_view_module_version": "1.2.0",
            "_view_name": "LayoutView",
            "align_content": null,
            "align_items": null,
            "align_self": null,
            "border": null,
            "bottom": null,
            "display": null,
            "flex": null,
            "flex_flow": null,
            "grid_area": null,
            "grid_auto_columns": null,
            "grid_auto_flow": null,
            "grid_auto_rows": null,
            "grid_column": null,
            "grid_gap": null,
            "grid_row": null,
            "grid_template_areas": null,
            "grid_template_columns": null,
            "grid_template_rows": null,
            "height": null,
            "justify_content": null,
            "justify_items": null,
            "left": null,
            "margin": null,
            "max_height": null,
            "max_width": null,
            "min_height": null,
            "min_width": null,
            "object_fit": null,
            "object_position": null,
            "order": null,
            "overflow": null,
            "overflow_x": null,
            "overflow_y": null,
            "padding": null,
            "right": null,
            "top": null,
            "visibility": null,
            "width": null
          }
        },
        "4785f0d439604fafb255d6a4087e6455": {
          "model_module": "@jupyter-widgets/controls",
          "model_name": "ProgressStyleModel",
          "model_module_version": "1.5.0",
          "state": {
            "_model_module": "@jupyter-widgets/controls",
            "_model_module_version": "1.5.0",
            "_model_name": "ProgressStyleModel",
            "_view_count": null,
            "_view_module": "@jupyter-widgets/base",
            "_view_module_version": "1.2.0",
            "_view_name": "StyleView",
            "bar_color": null,
            "description_width": ""
          }
        },
        "c0548c1845794ab49b46e3f4decb1084": {
          "model_module": "@jupyter-widgets/base",
          "model_name": "LayoutModel",
          "model_module_version": "1.2.0",
          "state": {
            "_model_module": "@jupyter-widgets/base",
            "_model_module_version": "1.2.0",
            "_model_name": "LayoutModel",
            "_view_count": null,
            "_view_module": "@jupyter-widgets/base",
            "_view_module_version": "1.2.0",
            "_view_name": "LayoutView",
            "align_content": null,
            "align_items": null,
            "align_self": null,
            "border": null,
            "bottom": null,
            "display": null,
            "flex": null,
            "flex_flow": null,
            "grid_area": null,
            "grid_auto_columns": null,
            "grid_auto_flow": null,
            "grid_auto_rows": null,
            "grid_column": null,
            "grid_gap": null,
            "grid_row": null,
            "grid_template_areas": null,
            "grid_template_columns": null,
            "grid_template_rows": null,
            "height": null,
            "justify_content": null,
            "justify_items": null,
            "left": null,
            "margin": null,
            "max_height": null,
            "max_width": null,
            "min_height": null,
            "min_width": null,
            "object_fit": null,
            "object_position": null,
            "order": null,
            "overflow": null,
            "overflow_x": null,
            "overflow_y": null,
            "padding": null,
            "right": null,
            "top": null,
            "visibility": null,
            "width": null
          }
        },
        "e92c9457f25b41d29ed6812809952d23": {
          "model_module": "@jupyter-widgets/controls",
          "model_name": "DescriptionStyleModel",
          "model_module_version": "1.5.0",
          "state": {
            "_model_module": "@jupyter-widgets/controls",
            "_model_module_version": "1.5.0",
            "_model_name": "DescriptionStyleModel",
            "_view_count": null,
            "_view_module": "@jupyter-widgets/base",
            "_view_module_version": "1.2.0",
            "_view_name": "StyleView",
            "description_width": ""
          }
        },
        "55c4cc85035b43938de62994ec87f529": {
          "model_module": "@jupyter-widgets/controls",
          "model_name": "HBoxModel",
          "model_module_version": "1.5.0",
          "state": {
            "_dom_classes": [],
            "_model_module": "@jupyter-widgets/controls",
            "_model_module_version": "1.5.0",
            "_model_name": "HBoxModel",
            "_view_count": null,
            "_view_module": "@jupyter-widgets/controls",
            "_view_module_version": "1.5.0",
            "_view_name": "HBoxView",
            "box_style": "",
            "children": [
              "IPY_MODEL_c8b99a46d1364f659fd0625adf41211a",
              "IPY_MODEL_6484a38ef486423e8c43f9bc7df38d27",
              "IPY_MODEL_a20e7f81dbeb41628f4a0fc1c24e1da4"
            ],
            "layout": "IPY_MODEL_4740bf0076654d259ffd7dbd7823fb06"
          }
        },
        "c8b99a46d1364f659fd0625adf41211a": {
          "model_module": "@jupyter-widgets/controls",
          "model_name": "HTMLModel",
          "model_module_version": "1.5.0",
          "state": {
            "_dom_classes": [],
            "_model_module": "@jupyter-widgets/controls",
            "_model_module_version": "1.5.0",
            "_model_name": "HTMLModel",
            "_view_count": null,
            "_view_module": "@jupyter-widgets/controls",
            "_view_module_version": "1.5.0",
            "_view_name": "HTMLView",
            "description": "",
            "description_tooltip": null,
            "layout": "IPY_MODEL_e807b90f408c4e38a530876198ea8876",
            "placeholder": "​",
            "style": "IPY_MODEL_a5fadf90b6864801b50a33a433e63203",
            "value": "Generating validation split: 100%"
          }
        },
        "6484a38ef486423e8c43f9bc7df38d27": {
          "model_module": "@jupyter-widgets/controls",
          "model_name": "FloatProgressModel",
          "model_module_version": "1.5.0",
          "state": {
            "_dom_classes": [],
            "_model_module": "@jupyter-widgets/controls",
            "_model_module_version": "1.5.0",
            "_model_name": "FloatProgressModel",
            "_view_count": null,
            "_view_module": "@jupyter-widgets/controls",
            "_view_module_version": "1.5.0",
            "_view_name": "ProgressView",
            "bar_style": "success",
            "description": "",
            "description_tooltip": null,
            "layout": "IPY_MODEL_f8d65d8c71b446b6b47968e76136f3fb",
            "max": 13460,
            "min": 0,
            "orientation": "horizontal",
            "style": "IPY_MODEL_7e6c65e219034a7cb8bdbb5a80455858",
            "value": 13460
          }
        },
        "a20e7f81dbeb41628f4a0fc1c24e1da4": {
          "model_module": "@jupyter-widgets/controls",
          "model_name": "HTMLModel",
          "model_module_version": "1.5.0",
          "state": {
            "_dom_classes": [],
            "_model_module": "@jupyter-widgets/controls",
            "_model_module_version": "1.5.0",
            "_model_name": "HTMLModel",
            "_view_count": null,
            "_view_module": "@jupyter-widgets/controls",
            "_view_module_version": "1.5.0",
            "_view_name": "HTMLView",
            "description": "",
            "description_tooltip": null,
            "layout": "IPY_MODEL_bae807a5cc6049a482d09d335a6bcab9",
            "placeholder": "​",
            "style": "IPY_MODEL_d2ae70228c3f4d458edc0ec88887c6f2",
            "value": " 13460/13460 [00:00&lt;00:00, 43961.86 examples/s]"
          }
        },
        "4740bf0076654d259ffd7dbd7823fb06": {
          "model_module": "@jupyter-widgets/base",
          "model_name": "LayoutModel",
          "model_module_version": "1.2.0",
          "state": {
            "_model_module": "@jupyter-widgets/base",
            "_model_module_version": "1.2.0",
            "_model_name": "LayoutModel",
            "_view_count": null,
            "_view_module": "@jupyter-widgets/base",
            "_view_module_version": "1.2.0",
            "_view_name": "LayoutView",
            "align_content": null,
            "align_items": null,
            "align_self": null,
            "border": null,
            "bottom": null,
            "display": null,
            "flex": null,
            "flex_flow": null,
            "grid_area": null,
            "grid_auto_columns": null,
            "grid_auto_flow": null,
            "grid_auto_rows": null,
            "grid_column": null,
            "grid_gap": null,
            "grid_row": null,
            "grid_template_areas": null,
            "grid_template_columns": null,
            "grid_template_rows": null,
            "height": null,
            "justify_content": null,
            "justify_items": null,
            "left": null,
            "margin": null,
            "max_height": null,
            "max_width": null,
            "min_height": null,
            "min_width": null,
            "object_fit": null,
            "object_position": null,
            "order": null,
            "overflow": null,
            "overflow_x": null,
            "overflow_y": null,
            "padding": null,
            "right": null,
            "top": null,
            "visibility": null,
            "width": null
          }
        },
        "e807b90f408c4e38a530876198ea8876": {
          "model_module": "@jupyter-widgets/base",
          "model_name": "LayoutModel",
          "model_module_version": "1.2.0",
          "state": {
            "_model_module": "@jupyter-widgets/base",
            "_model_module_version": "1.2.0",
            "_model_name": "LayoutModel",
            "_view_count": null,
            "_view_module": "@jupyter-widgets/base",
            "_view_module_version": "1.2.0",
            "_view_name": "LayoutView",
            "align_content": null,
            "align_items": null,
            "align_self": null,
            "border": null,
            "bottom": null,
            "display": null,
            "flex": null,
            "flex_flow": null,
            "grid_area": null,
            "grid_auto_columns": null,
            "grid_auto_flow": null,
            "grid_auto_rows": null,
            "grid_column": null,
            "grid_gap": null,
            "grid_row": null,
            "grid_template_areas": null,
            "grid_template_columns": null,
            "grid_template_rows": null,
            "height": null,
            "justify_content": null,
            "justify_items": null,
            "left": null,
            "margin": null,
            "max_height": null,
            "max_width": null,
            "min_height": null,
            "min_width": null,
            "object_fit": null,
            "object_position": null,
            "order": null,
            "overflow": null,
            "overflow_x": null,
            "overflow_y": null,
            "padding": null,
            "right": null,
            "top": null,
            "visibility": null,
            "width": null
          }
        },
        "a5fadf90b6864801b50a33a433e63203": {
          "model_module": "@jupyter-widgets/controls",
          "model_name": "DescriptionStyleModel",
          "model_module_version": "1.5.0",
          "state": {
            "_model_module": "@jupyter-widgets/controls",
            "_model_module_version": "1.5.0",
            "_model_name": "DescriptionStyleModel",
            "_view_count": null,
            "_view_module": "@jupyter-widgets/base",
            "_view_module_version": "1.2.0",
            "_view_name": "StyleView",
            "description_width": ""
          }
        },
        "f8d65d8c71b446b6b47968e76136f3fb": {
          "model_module": "@jupyter-widgets/base",
          "model_name": "LayoutModel",
          "model_module_version": "1.2.0",
          "state": {
            "_model_module": "@jupyter-widgets/base",
            "_model_module_version": "1.2.0",
            "_model_name": "LayoutModel",
            "_view_count": null,
            "_view_module": "@jupyter-widgets/base",
            "_view_module_version": "1.2.0",
            "_view_name": "LayoutView",
            "align_content": null,
            "align_items": null,
            "align_self": null,
            "border": null,
            "bottom": null,
            "display": null,
            "flex": null,
            "flex_flow": null,
            "grid_area": null,
            "grid_auto_columns": null,
            "grid_auto_flow": null,
            "grid_auto_rows": null,
            "grid_column": null,
            "grid_gap": null,
            "grid_row": null,
            "grid_template_areas": null,
            "grid_template_columns": null,
            "grid_template_rows": null,
            "height": null,
            "justify_content": null,
            "justify_items": null,
            "left": null,
            "margin": null,
            "max_height": null,
            "max_width": null,
            "min_height": null,
            "min_width": null,
            "object_fit": null,
            "object_position": null,
            "order": null,
            "overflow": null,
            "overflow_x": null,
            "overflow_y": null,
            "padding": null,
            "right": null,
            "top": null,
            "visibility": null,
            "width": null
          }
        },
        "7e6c65e219034a7cb8bdbb5a80455858": {
          "model_module": "@jupyter-widgets/controls",
          "model_name": "ProgressStyleModel",
          "model_module_version": "1.5.0",
          "state": {
            "_model_module": "@jupyter-widgets/controls",
            "_model_module_version": "1.5.0",
            "_model_name": "ProgressStyleModel",
            "_view_count": null,
            "_view_module": "@jupyter-widgets/base",
            "_view_module_version": "1.2.0",
            "_view_name": "StyleView",
            "bar_color": null,
            "description_width": ""
          }
        },
        "bae807a5cc6049a482d09d335a6bcab9": {
          "model_module": "@jupyter-widgets/base",
          "model_name": "LayoutModel",
          "model_module_version": "1.2.0",
          "state": {
            "_model_module": "@jupyter-widgets/base",
            "_model_module_version": "1.2.0",
            "_model_name": "LayoutModel",
            "_view_count": null,
            "_view_module": "@jupyter-widgets/base",
            "_view_module_version": "1.2.0",
            "_view_name": "LayoutView",
            "align_content": null,
            "align_items": null,
            "align_self": null,
            "border": null,
            "bottom": null,
            "display": null,
            "flex": null,
            "flex_flow": null,
            "grid_area": null,
            "grid_auto_columns": null,
            "grid_auto_flow": null,
            "grid_auto_rows": null,
            "grid_column": null,
            "grid_gap": null,
            "grid_row": null,
            "grid_template_areas": null,
            "grid_template_columns": null,
            "grid_template_rows": null,
            "height": null,
            "justify_content": null,
            "justify_items": null,
            "left": null,
            "margin": null,
            "max_height": null,
            "max_width": null,
            "min_height": null,
            "min_width": null,
            "object_fit": null,
            "object_position": null,
            "order": null,
            "overflow": null,
            "overflow_x": null,
            "overflow_y": null,
            "padding": null,
            "right": null,
            "top": null,
            "visibility": null,
            "width": null
          }
        },
        "d2ae70228c3f4d458edc0ec88887c6f2": {
          "model_module": "@jupyter-widgets/controls",
          "model_name": "DescriptionStyleModel",
          "model_module_version": "1.5.0",
          "state": {
            "_model_module": "@jupyter-widgets/controls",
            "_model_module_version": "1.5.0",
            "_model_name": "DescriptionStyleModel",
            "_view_count": null,
            "_view_module": "@jupyter-widgets/base",
            "_view_module_version": "1.2.0",
            "_view_name": "StyleView",
            "description_width": ""
          }
        }
      }
    }
  },
  "nbformat": 4,
  "nbformat_minor": 0
}