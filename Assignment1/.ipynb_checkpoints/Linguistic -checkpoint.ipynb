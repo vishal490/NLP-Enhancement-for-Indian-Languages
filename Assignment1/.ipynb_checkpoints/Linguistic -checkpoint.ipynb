{
 "cells": [
  {
   "cell_type": "markdown",
   "id": "a2b9b131-4841-4e3c-81e9-4bb4cff6b815",
   "metadata": {},
   "source": [
    "## If you are not using google colab then skip this cell"
   ]
  },
  {
   "cell_type": "code",
   "execution_count": 21,
   "id": "mEqCA3KEDex2",
   "metadata": {
    "colab": {
     "base_uri": "https://localhost:8080/"
    },
    "id": "mEqCA3KEDex2",
    "outputId": "c87baf9a-c8fb-461e-824e-47689c39f1ee"
   },
   "outputs": [
    {
     "name": "stdout",
     "output_type": "stream",
     "text": [
      "Drive already mounted at /content/drive; to attempt to forcibly remount, call drive.mount(\"/content/drive\", force_remount=True).\n"
     ]
    }
   ],
   "source": [
    "from google.colab import drive\n",
    "drive.mount('/content/drive')\n"
   ]
  },
  {
   "cell_type": "markdown",
   "id": "eb02b6fa-50db-4fd5-8114-7cc8b9797775",
   "metadata": {
    "id": "eb02b6fa-50db-4fd5-8114-7cc8b9797775"
   },
   "source": [
    "# Answer 1: Unicode correction"
   ]
  },
  {
   "cell_type": "code",
   "execution_count": 22,
   "id": "ad9f96fe-03b2-4285-b0eb-2d4582bf3acd",
   "metadata": {
    "colab": {
     "base_uri": "https://localhost:8080/"
    },
    "id": "ad9f96fe-03b2-4285-b0eb-2d4582bf3acd",
    "outputId": "47be00ab-4814-4e24-fca7-dbe0af844423"
   },
   "outputs": [
    {
     "name": "stdout",
     "output_type": "stream",
     "text": [
      "['ऐ', 'स्', 'ई', 'स्', 'थ्', 'इ', 'त्', 'इ', 'म्', 'ए', 'अं', 'ए', 'क्', 'अ', 'न्', 'य्', 'आ', 'य्', 'अ', 'प्', 'ऊ', 'र्', 'ण्', 'अ', 'स्', 'अ', 'र्', 'अ', 'क्', 'आ', 'र्', 'अ', 'स्', 'आ', 'र्', 'व्', 'अ', 'ज्', 'अ', 'न्', 'इ', 'क्', 'अ', 'व्', 'इ', 'त्', 'त्', 'अ', 'क्', 'आ', 'इ', 'स्', 'अ', 'त्', 'अ', 'र्', 'अ', 'ह् ', 'अ', 'इ', 'स्', 'त्', 'ए', 'म्', 'आ', 'ल्', 'अ', 'क्', 'अ', 'र्', 'अ', 'त्', 'ई', 'ह् ', 'ऐ', 'क्', 'इ', 'स्', 'अं', 'स्', 'आ', 'ध्', 'अ', 'न्', 'ओ', 'अं', 'क्', 'आ', 'आ', 'व्', 'अं', 'ट्', 'अ', 'न्', 'अ']\n"
     ]
    }
   ],
   "source": [
    "# Mapping all consonant characters to their halant form\n",
    "hindi_consonants_with_halant = {\n",
    "    'क': 'क्', 'ख': 'ख्', 'ग': 'ग्', 'घ': 'घ्', 'ङ': 'ङ्',\n",
    "    'च': 'च्', 'छ': 'छ्', 'ज': 'ज्', 'झ': 'झ्', 'ञ': 'ञ्',\n",
    "    'ट': 'ट्', 'ठ': 'ठ्', 'ड': 'ड्', 'ढ': 'ढ्', 'ण': 'ण्',\n",
    "    'त': 'त्', 'थ': 'थ्', 'द': 'द्', 'ध': 'ध्', 'न': 'न्',\n",
    "    'प': 'प्', 'फ': 'फ्', 'ब': 'ब्', 'भ': 'भ्', 'म': 'म्',\n",
    "    'य': 'य्', 'र': 'र्', 'ल': 'ल्', 'ळ': 'ळ्', 'व': 'व्',\n",
    "    'श': 'श्', 'ष': 'ष्', 'स': 'स्', 'ह': 'ह् ','क़': 'क़्',\n",
    "    'ख़': 'ख़्', 'ग़': 'ग़्', 'ज़': 'ज़्', 'ड़': 'ड़्', 'ढ़': 'ढ़्',\n",
    "    'फ़': 'फ़्', 'य़': 'य़्', ' ':True\n",
    "}\n",
    "\n",
    "\n",
    "# Mapping maatras to their corresponding vowels\n",
    "map_to_vowel = {\n",
    "    'अ': 'अ', 'आ': 'आ', 'इ': 'इ', 'ई': 'ई', 'उ': 'उ',\n",
    "    'ऊ': 'ऊ', 'ऋ': 'ऋ', 'ॠ': 'ॠ', 'ऍ': 'ऍ', 'ऎ': 'ऎ',\n",
    "    'ए': 'ए', 'ऐ': 'ऐ', 'ऑ': 'ऑ', 'ऒ': 'ऒ', 'ओ': 'ओ',\n",
    "    'औ': 'औ','ा': 'आ', 'ि': 'इ', 'ी': 'ई', 'ु': 'उ', 'ू': 'ऊ',\n",
    "    'ृ': 'ऋ', 'ॄ': 'ॠ', 'ॅ': 'ऍ', 'ॆ': 'ऎ', 'े': 'ए',\n",
    "    'ै': 'ऐ', 'ॉ': 'ऑ', 'ॊ': 'ऒ', 'ो': 'ओ', 'ौ': 'औ','ं':'अं','ः':'अः','ँ':'अं','ृ':'र्'\n",
    "}\n",
    "\n",
    "# Defining speacial symbols\n",
    "special_symbols = ['।', '?', ',', ':', ';', '-', '—', '–', '\"', \"'\", '(', ')', '[', ']']\n",
    "\n",
    "\n",
    "# Function to for unicide correctoin\n",
    "def transform(sentence):\n",
    "    sentence_char = []\n",
    "    \n",
    "    for i in range(0,len(sentence)):\n",
    "        char = sentence[i]\n",
    "        next_char = False\n",
    "\n",
    "        # if char is space then move to next symbol\n",
    "        if char == ' ' :\n",
    "            continue\n",
    "\n",
    "        # next_char is variable to check if word is ending with full consonant(without matras) or not\n",
    "        if i<(len(sentence)-1):\n",
    "            if (sentence[i+1] in special_symbols and sentence[i+1] not in map_to_vowel) or sentence[i+1] in hindi_consonants_with_halant:\n",
    "                next_char = True\n",
    "\n",
    "\n",
    "        if char in hindi_consonants_with_halant:\n",
    "            if i+1 >= len(sentence):\n",
    "                next_char = True\n",
    "            sentence_char.append(hindi_consonants_with_halant.get(char))\n",
    "            if next_char:\n",
    "                sentence_char.append('अ')\n",
    "\n",
    "        elif char in map_to_vowel:\n",
    "            sentence_char.append(map_to_vowel.get(char))\n",
    "            \n",
    "    return sentence_char\n",
    "print(transform(\" ऐसी स्थिति में एक न्यायपूर्ण सरकार, सार्वजनिक वित्त का इस तरह इस्तेमाल करती है कि संसाधनों   का आवंटन \"))\n"
   ]
  },
  {
   "cell_type": "markdown",
   "id": "b01c7566-0481-46a9-8644-8723476cab1f",
   "metadata": {
    "id": "b01c7566-0481-46a9-8644-8723476cab1f"
   },
   "source": [
    "# Answer 2:Finding characters and syllables"
   ]
  },
  {
   "cell_type": "code",
   "execution_count": 9,
   "id": "Sp6EqND_wuKi",
   "metadata": {
    "id": "Sp6EqND_wuKi"
   },
   "outputs": [],
   "source": [
    "import pandas as pd\n",
    "\n",
    "# Function to read data file and create a dataframe \n",
    "def read_file(path):\n",
    "    # Read the text file into a list of lines and remove '\\n' from each line\n",
    "    with open(path, \"r\",encoding = \"UTF8\") as file:\n",
    "        lines = [line.rstrip(\"\\n\") for line in file.readlines()]\n",
    "\n",
    "    # Create a DataFrame from the list of lines\n",
    "    df = pd.DataFrame(lines, columns=[\"Text\"])\n",
    "    return df\n"
   ]
  },
  {
   "cell_type": "code",
   "execution_count": 12,
   "id": "XMbMd_cUw54N",
   "metadata": {
    "id": "XMbMd_cUw54N"
   },
   "outputs": [
    {
     "data": {
      "text/html": [
       "<div>\n",
       "<style scoped>\n",
       "    .dataframe tbody tr th:only-of-type {\n",
       "        vertical-align: middle;\n",
       "    }\n",
       "\n",
       "    .dataframe tbody tr th {\n",
       "        vertical-align: top;\n",
       "    }\n",
       "\n",
       "    .dataframe thead th {\n",
       "        text-align: right;\n",
       "    }\n",
       "</style>\n",
       "<table border=\"1\" class=\"dataframe\">\n",
       "  <thead>\n",
       "    <tr style=\"text-align: right;\">\n",
       "      <th></th>\n",
       "      <th>Text</th>\n",
       "    </tr>\n",
       "  </thead>\n",
       "  <tbody>\n",
       "    <tr>\n",
       "      <th>0</th>\n",
       "      <td>आवेदन करने की आखिरी तारीख 31 जनवरी, 2020 है।</td>\n",
       "    </tr>\n",
       "    <tr>\n",
       "      <th>1</th>\n",
       "      <td>इतनी दुआ कर दो हमारे लिए कि जितना प्यार दुनिया...</td>\n",
       "    </tr>\n",
       "    <tr>\n",
       "      <th>2</th>\n",
       "      <td>मोदी सरकार के पहले कार्यकाल में भी तीन तलाक को...</td>\n",
       "    </tr>\n",
       "    <tr>\n",
       "      <th>3</th>\n",
       "      <td>भाजपा के दिवंगत नेता प्रमोद महाजन की बेटी पूनम...</td>\n",
       "    </tr>\n",
       "    <tr>\n",
       "      <th>4</th>\n",
       "      <td>ऐसी स्थिति में एक न्यायपूर्ण सरकार सार्वजनिक व...</td>\n",
       "    </tr>\n",
       "  </tbody>\n",
       "</table>\n",
       "</div>"
      ],
      "text/plain": [
       "                                                Text\n",
       "0       आवेदन करने की आखिरी तारीख 31 जनवरी, 2020 है।\n",
       "1  इतनी दुआ कर दो हमारे लिए कि जितना प्यार दुनिया...\n",
       "2  मोदी सरकार के पहले कार्यकाल में भी तीन तलाक को...\n",
       "3  भाजपा के दिवंगत नेता प्रमोद महाजन की बेटी पूनम...\n",
       "4  ऐसी स्थिति में एक न्यायपूर्ण सरकार सार्वजनिक व..."
      ]
     },
     "execution_count": 12,
     "metadata": {},
     "output_type": "execute_result"
    }
   ],
   "source": [
    "# reading data corpus of hindi\n",
    "data = read_file(\"./data/hi_100.txt\")\n",
    "data.head()"
   ]
  },
  {
   "cell_type": "markdown",
   "id": "c365281c-b7b9-4555-8d1f-295b3eabd483",
   "metadata": {
    "id": "c365281c-b7b9-4555-8d1f-295b3eabd483"
   },
   "source": [
    "### Let's define some useful functions "
   ]
  },
  {
   "cell_type": "code",
   "execution_count": 25,
   "id": "a723b631-05a7-4cea-b9cd-dac98561fff6",
   "metadata": {
    "id": "a723b631-05a7-4cea-b9cd-dac98561fff6"
   },
   "outputs": [],
   "source": [
    "# Function to sort dictionary based on values\n",
    "def sort_all(name):\n",
    "    return dict(sorted(name.items(),key = lambda item:item[1],reverse=True))\n"
   ]
  },
  {
   "cell_type": "code",
   "execution_count": 26,
   "id": "b0360bc4-343d-4a60-90b7-afa4bf36cf96",
   "metadata": {
    "id": "b0360bc4-343d-4a60-90b7-afa4bf36cf96"
   },
   "outputs": [],
   "source": [
    "# Function to generate csv files , (result parameter)  is a dictionary of dataframes\n",
    "def generate_files(result,prefix=\"\"):\n",
    "    filenames = {}\n",
    "    for key, value in result.items():\n",
    "        df = pd.DataFrame(value.items(), columns=['item', 'frequency'])\n",
    "        filename = f\"{prefix}_{key}.csv\"\n",
    "        df.to_csv(filename, index=False)\n",
    "        filenames[key] = filename\n",
    "    return filenames"
   ]
  },
  {
   "cell_type": "code",
   "execution_count": 27,
   "id": "I2R00RrYGsWi",
   "metadata": {
    "id": "I2R00RrYGsWi"
   },
   "outputs": [],
   "source": [
    "# Function to process the words/tokens\n",
    "def process_tokens(tokens):\n",
    "  # Defining 4 empty dictionaries\n",
    "  uni_character_dict = {}\n",
    "  bi_character_dict = {}\n",
    "  uni_syllables_dict = {}\n",
    "  bi_syllables_dict = {}\n",
    "  # iterarting on each token/words of list of token/words\n",
    "  for word in tokens:\n",
    "            # processing each the token/word\n",
    "            character_list = transform(word)\n",
    "            # print(character_list)\n",
    "            uni_syll = \"\"\n",
    "            bi_syll  = \"\"\n",
    "            bi_char=\"\"\n",
    "            counter = 0\n",
    "            char_flag = 0\n",
    "            # iterating character list\n",
    "            for char in character_list:\n",
    "                \n",
    "                # Forming character count\n",
    "                char_flag += 1\n",
    "                bi_char += char\n",
    "                if char in uni_character_dict:\n",
    "                    uni_character_dict[char] += 1\n",
    "                else:\n",
    "                    uni_character_dict[char] = 1\n",
    "\n",
    "\n",
    "                if char_flag%2==0 :\n",
    "                    if bi_char in bi_character_dict:\n",
    "                        bi_character_dict[bi_char] += 1\n",
    "\n",
    "                    else:\n",
    "                        bi_character_dict[bi_char] = 1\n",
    "                    bi_char=\"\"\n",
    "                    char_flag = 0\n",
    "\n",
    "                # forming syllables count\n",
    "                uni_syll += char\n",
    "                bi_syll +=  char\n",
    "                if char in map_to_vowel:\n",
    "                    if uni_syll in uni_syllables_dict:\n",
    "                        uni_syllables_dict[uni_syll] += 1\n",
    "\n",
    "                    else:\n",
    "                        uni_syllables_dict[uni_syll] = 1\n",
    "                    counter += 1\n",
    "                    uni_syll=\"\"\n",
    "                    if counter == 2:\n",
    "                        if bi_syll in bi_syllables_dict:\n",
    "                            bi_syllables_dict[bi_syll] += 1\n",
    "\n",
    "                            bi_syll = \"\"\n",
    "                        else:\n",
    "                            bi_syllables_dict[bi_syll] = 1\n",
    "                        counter = 0\n",
    "                        bi_syll = \"\"\n",
    "  return {\n",
    "        \"uni_character\": uni_character_dict,\n",
    "        \"bi_character\": bi_character_dict,\n",
    "        \"uni_syllables\": uni_syllables_dict,\n",
    "        \"bi_syllables\": bi_syllables_dict\n",
    "    }"
   ]
  },
  {
   "cell_type": "code",
   "execution_count": 28,
   "id": "CAncpT2CHiMf",
   "metadata": {
    "id": "CAncpT2CHiMf"
   },
   "outputs": [],
   "source": [
    "# Function to process the sentences from whole corpus\n",
    "def process_corpus(corpus):\n",
    "    result = {\n",
    "        \"uni_character\": {},\n",
    "        \"bi_character\": {},\n",
    "        \"uni_syllables\": {},\n",
    "        \"bi_syllables\": {}\n",
    "    }\n",
    "\n",
    "    for sentence in corpus:\n",
    "        words = sentence.split(\" \")\n",
    "        words_result = process_tokens(words)\n",
    "        for key, value in words_result.items():\n",
    "            for k, v in value.items():\n",
    "                if k in result[key]:\n",
    "                    result[key][k] += v  # Add frequencies to existing keys\n",
    "                else:\n",
    "                    result[key][k] = v   # Initialize if key does not exist\n",
    "    for key in result:\n",
    "        result[key] = sort_all(result[key])\n",
    "    return result\n"
   ]
  },
  {
   "cell_type": "code",
   "execution_count": 7,
   "id": "ennFLcO0JPKm",
   "metadata": {
    "id": "ennFLcO0JPKm"
   },
   "outputs": [],
   "source": [
    "result = process_corpus(data[\"Text\"])\n"
   ]
  },
  {
   "cell_type": "code",
   "execution_count": 9,
   "id": "t3dimPHyHt7j",
   "metadata": {
    "colab": {
     "base_uri": "https://localhost:8080/"
    },
    "id": "t3dimPHyHt7j",
    "outputId": "6a2f0097-da61-465f-e371-125728e5a0a7"
   },
   "outputs": [
    {
     "data": {
      "text/plain": [
       "{'uni_character': '_uni_character.csv',\n",
       " 'bi_character': '_bi_character.csv',\n",
       " 'uni_syllables': '_uni_syllables.csv',\n",
       " 'bi_syllables': '_bi_syllables.csv'}"
      ]
     },
     "execution_count": 9,
     "metadata": {},
     "output_type": "execute_result"
    }
   ],
   "source": [
    "generate_files(result)"
   ]
  },
  {
   "cell_type": "code",
   "execution_count": 10,
   "id": "c2fdd58e-b82d-4644-9a6b-cbddf354c6c4",
   "metadata": {
    "id": "c2fdd58e-b82d-4644-9a6b-cbddf354c6c4"
   },
   "outputs": [],
   "source": [
    "\n",
    "# Answer 4"
   ]
  },
  {
   "cell_type": "code",
   "execution_count": 33,
   "id": "1NF40xVruAUy",
   "metadata": {
    "id": "1NF40xVruAUy"
   },
   "outputs": [],
   "source": [
    "from collections import Counter\n",
    "import sentencepiece as spm\n",
    "\n",
    "def tokenization_step(tokenizer, maxlen, model_name,data = data):\n",
    "    tokens = []\n",
    "    token_counts = Counter()  # Counter to keep track of token frequencies\n",
    "\n",
    "    if model_name == 'IndicBERT':\n",
    "        for sentence in data[\"Text\"]:\n",
    "            sentence_tokens = tokenizer.tokenize(sentence)\n",
    "            tokens += sentence_tokens\n",
    "            token_counts.update(sentence_tokens)\n",
    "    elif model_name == 'mBERT':\n",
    "        for sentence in data[\"Text\"]:\n",
    "            sentence_tokens = tokenizer.convert_ids_to_tokens(tokenizer.encode(sentence, truncation=True))\n",
    "            tokens += sentence_tokens\n",
    "            token_counts.update(sentence_tokens)\n",
    "\n",
    "    return tokens, token_counts\n",
    "\n",
    "\n",
    "def Unigram_and_BPE_tokenization(model_vocab,data =data):\n",
    "      all_tokens = []\n",
    "      # Load trained Hindi Unigram model\n",
    "      hindi_model = f\"{model_vocab}.model\"\n",
    "\n",
    "      hindi_tokenizer = spm.SentencePieceProcessor(model_file=hindi_model)\n",
    "\n",
    "\n",
    "      # Initialize Counter for token frequencies\n",
    "      token_counts = Counter()\n",
    "\n",
    "      # Tokenize each sentence in the corpus and update token frequencies\n",
    "      for sentence in data[\"Text\"]:\n",
    "          tokens = hindi_tokenizer.encode_as_pieces(sentence)\n",
    "          all_tokens += tokens\n",
    "          token_counts.update(tokens)\n",
    "      return all_tokens,token_counts\n",
    "\n",
    "\n",
    "def whitespace_tokenizer(data=data):\n",
    "    # List to store all tokens\n",
    "    all_tokens = []\n",
    "\n",
    "    # Iterate through each sentence in the group\n",
    "    for sentence in data[\"Text\"]:\n",
    "        # Tokenize the sentence based on white spaces\n",
    "        tokens = sentence.strip().split()\n",
    "        # Add the tokens to the list of all tokens\n",
    "        all_tokens.extend(tokens)\n",
    "\n",
    "    # Count the frequency of each token\n",
    "    token_freq = Counter(all_tokens)\n",
    "\n",
    "    return all_tokens,token_freq"
   ]
  },
  {
   "cell_type": "code",
   "execution_count": 16,
   "id": "IIXOeV9ln61q",
   "metadata": {
    "id": "IIXOeV9ln61q"
   },
   "outputs": [],
   "source": [
    "# Loading IndicBERT model\n",
    "from transformers import AutoModel,AutoTokenizer\n",
    "# model = AutoModel.from_pretrained(\"ai4bharat/indic-bert\")"
   ]
  },
  {
   "cell_type": "code",
   "execution_count": 31,
   "id": "euJ41yQ5oCtU",
   "metadata": {
    "colab": {
     "base_uri": "https://localhost:8080/",
     "height": 81,
     "referenced_widgets": [
      "a8160c1596ce4d73bf2d46868f71aeae",
      "1e764f07298a4ca3ae0464c6826370d2",
      "9b828cb7454345589a99bb43c5ea2f8c",
      "f4a41a33dc5c4813b958bba004ca2566",
      "fa5d96e35a2b4f03ac73ad4de273d3a3",
      "69501c90e60e4066a4a599f69a237311",
      "063c8094343b4dfa906e2b4bb6812915",
      "c8fe8e3396f34edabf7597cca66088dd",
      "237dd2b7df8247e991bb448e61c98e16",
      "00691d80a0534d96a2b3a758f06c468a",
      "ea01a2a7836c43bd9119ad8bb052668a",
      "301c7cb8821d46f1ba857e4d7bb39be4",
      "f3939ae9f38640c9817300dd542ed94d",
      "a149c5f814194f328379a9506e3284a0",
      "e1a5a843c9114c8bbd59c84d9e8c698c",
      "28667b8b571342acab0aeeae3d5bbdb5",
      "fca72bd9d12244f383138f2f90113b63",
      "e09d6e0780704603906521cd9ccb8a2e",
      "9248c179265b45cdbbf08fd92eaa4a9b",
      "a07a0d0bc0d34ebe9d1a1730010d0185",
      "65e24d0503994f8893c8adde322969a0",
      "db420eea2d474427abce15b033fd5f85"
     ]
    },
    "id": "euJ41yQ5oCtU",
    "outputId": "050bf54d-25c7-4027-ec83-359ce141963d"
   },
   "outputs": [
    {
     "data": {
      "application/vnd.jupyter.widget-view+json": {
       "model_id": "a8160c1596ce4d73bf2d46868f71aeae",
       "version_major": 2,
       "version_minor": 0
      },
      "text/plain": [
       "config.json:   0%|          | 0.00/507 [00:00<?, ?B/s]"
      ]
     },
     "metadata": {},
     "output_type": "display_data"
    },
    {
     "data": {
      "application/vnd.jupyter.widget-view+json": {
       "model_id": "301c7cb8821d46f1ba857e4d7bb39be4",
       "version_major": 2,
       "version_minor": 0
      },
      "text/plain": [
       "spiece.model:   0%|          | 0.00/5.65M [00:00<?, ?B/s]"
      ]
     },
     "metadata": {},
     "output_type": "display_data"
    }
   ],
   "source": [
    "Indic_tokenizer = AutoTokenizer.from_pretrained('ai4bharat/indic-bert', keep_accents=True)"
   ]
  },
  {
   "cell_type": "code",
   "execution_count": 14,
   "id": "bHkpez7Pr5M_",
   "metadata": {
    "id": "bHkpez7Pr5M_"
   },
   "outputs": [],
   "source": [
    "IndicBERT_token_1000,IndicBERT_token_1000_count =  tokenization_step(Indic_tokenizer,1000,'IndicBERT')\n",
    "IndicBERT_token_2000,IndicBERT_token_2000_count =  tokenization_step(Indic_tokenizer,2000,'IndicBERT')\n"
   ]
  },
  {
   "cell_type": "code",
   "execution_count": 30,
   "id": "focRJD_zsnPG",
   "metadata": {
    "id": "focRJD_zsnPG"
   },
   "outputs": [],
   "source": [
    "# Loading mBERT model\n",
    "from transformers import BertTokenizer, BertModel\n",
    "mBERT_tokenizer = BertTokenizer.from_pretrained('bert-base-multilingual-cased')\n",
    "# model = BertModel.from_pretrained(\"bert-base-multilingual-cased\")\n",
    "\n"
   ]
  },
  {
   "cell_type": "code",
   "execution_count": 16,
   "id": "7SZYWZBLx102",
   "metadata": {
    "id": "7SZYWZBLx102"
   },
   "outputs": [],
   "source": [
    "mBERT_token_1000,mBERT_token_1000_count = tokenization_step(mBERT_tokenizer,1000,'mBERT')\n",
    "mBERT_token_2000,mBERT_token_2000_count = tokenization_step(mBERT_tokenizer,2000,'mBERT')\n",
    "result_token_count = {\n",
    "    \"mBERT_token_mxln_1000_count\":dict(mBERT_token_1000_count),\n",
    "    \"mBERT_token_mxln_2000_count\":dict(mBERT_token_2000_count),\n",
    "    \"IndicBERT_maxln_token_1000_count\":dict(IndicBERT_token_1000_count),\n",
    "    \"IndicBERT_maxln_token_2000_count\":dict(IndicBERT_token_2000_count)\n",
    "\n",
    "\n",
    "}"
   ]
  },
  {
   "cell_type": "code",
   "execution_count": 17,
   "id": "tjOKZaaJx_4A",
   "metadata": {
    "colab": {
     "base_uri": "https://localhost:8080/"
    },
    "id": "tjOKZaaJx_4A",
    "outputId": "3d185e06-19ff-44da-baa5-ab3519f9491b"
   },
   "outputs": [
    {
     "data": {
      "text/plain": [
       "dict_keys(['uni_character', 'bi_character', 'uni_syllables', 'bi_syllables'])"
      ]
     },
     "execution_count": 17,
     "metadata": {},
     "output_type": "execute_result"
    }
   ],
   "source": [
    "indiBERT_1000 = process_tokens(IndicBERT_token_1000)\n",
    "indiBERT_2000 = process_tokens(IndicBERT_token_2000)\n",
    "mBERT_1000 = process_tokens(mBERT_token_1000)\n",
    "mBERT_2000 = process_tokens(mBERT_token_2000)\n",
    "indiBERT_1000.keys()\n"
   ]
  },
  {
   "cell_type": "code",
   "execution_count": 19,
   "id": "IRtnNuaHL-NP",
   "metadata": {
    "colab": {
     "base_uri": "https://localhost:8080/"
    },
    "id": "IRtnNuaHL-NP",
    "outputId": "2bfbeece-e04b-4966-b21f-faf1b5c30a73"
   },
   "outputs": [
    {
     "data": {
      "text/plain": [
       "{'mBERT_token_mxln_1000_count': '_mBERT_token_mxln_1000_count.csv',\n",
       " 'mBERT_token_mxln_2000_count': '_mBERT_token_mxln_2000_count.csv',\n",
       " 'IndicBERT_maxln_token_1000_count': '_IndicBERT_maxln_token_1000_count.csv',\n",
       " 'IndicBERT_maxln_token_2000_count': '_IndicBERT_maxln_token_2000_count.csv'}"
      ]
     },
     "execution_count": 19,
     "metadata": {},
     "output_type": "execute_result"
    }
   ],
   "source": [
    "# File generation for IndicBERET and mBERT\n",
    "generate_files(indiBERT_1000,\"indiBERT_mxln_1000\")\n",
    "generate_files(indiBERT_2000,\"indiBERT_mxln_2000\")\n",
    "generate_files(mBERT_1000,\"mBERT_mxln_1000\")\n",
    "generate_files(mBERT_2000,\"mBERT_mxln_2000\")\n",
    "generate_files(result_token_count)"
   ]
  },
  {
   "cell_type": "code",
   "execution_count": 18,
   "id": "7pyNu2PnUULq",
   "metadata": {
    "id": "7pyNu2PnUULq"
   },
   "outputs": [],
   "source": [
    "import sentencepiece as spm\n",
    "\n",
    "# Train Unigram model vocab size = 1000\n",
    "spm.SentencePieceTrainer.train('--input=/content/drive/MyDrive/hi_100.txt --model_prefix=unigram_model_1000_vocab --vocab_size=1000 --model_type=unigram')\n",
    "\n",
    "# Train Unigram model vocab size = 2000\n",
    "spm.SentencePieceTrainer.train('--input=/content/drive/MyDrive/hi_100.txt --model_prefix=unigram_model_2000_vocab --vocab_size=2000 --model_type=unigram')"
   ]
  },
  {
   "cell_type": "code",
   "execution_count": 20,
   "id": "n_dwDwxl8ipk",
   "metadata": {
    "id": "n_dwDwxl8ipk"
   },
   "outputs": [],
   "source": [
    "\n",
    "# Train SentencePiece tokenizer with BPE\n",
    "spm.SentencePieceTrainer.train(input=\"/content/drive/MyDrive/hi_100.txt\", model_prefix=\"BPE_model_1000_vocab\", vocab_size=1000, model_type='bpe')\n",
    "spm.SentencePieceTrainer.train(input=\"/content/drive/MyDrive/hi_100.txt\", model_prefix=\"BPE_model_2000_vocab\", vocab_size=2000, model_type='bpe')\n"
   ]
  },
  {
   "cell_type": "code",
   "execution_count": 21,
   "id": "3_CY8vE_zvZI",
   "metadata": {
    "id": "3_CY8vE_zvZI"
   },
   "outputs": [],
   "source": [
    "\n",
    "unigram_vocab_1000_token, unigram_vocab_1000_token_freq  = Unigram_and_BPE_tokenization(\"unigram_model_1000_vocab\")\n",
    "unigram_vocab_2000_token, unigram_vocab_2000_token_freq  = Unigram_and_BPE_tokenization(\"unigram_model_2000_vocab\")\n",
    "\n",
    "BPE_vocab_1000_token, BPE_vocab_1000_token_freq  = Unigram_and_BPE_tokenization(\"BPE_model_1000_vocab\")\n",
    "BPE_vocab_2000_token, BPE_vocab_2000_token_freq  = Unigram_and_BPE_tokenization(\"BPE_model_2000_vocab\")"
   ]
  },
  {
   "cell_type": "code",
   "execution_count": 22,
   "id": "5GEqKlecEshE",
   "metadata": {
    "id": "5GEqKlecEshE"
   },
   "outputs": [],
   "source": [
    "unigram_vocab_1000 = process_tokens(unigram_vocab_1000_token)\n",
    "unigram_vocab_2000 = process_tokens(unigram_vocab_2000_token)\n",
    "BPE_vocab_1000 = process_tokens(BPE_vocab_1000_token)\n",
    "BPE_vocab_2000 = process_tokens(BPE_vocab_2000_token)"
   ]
  },
  {
   "cell_type": "code",
   "execution_count": 23,
   "id": "tZRd-VNTC-cX",
   "metadata": {
    "id": "tZRd-VNTC-cX"
   },
   "outputs": [],
   "source": [
    "result_BPE_uni_token_count = {\n",
    "    \"unigram_vocab_1000_token_freq\":dict(unigram_vocab_1000_token_freq),\n",
    "    \"unigram_vocab_2000_token_freq\":dict(unigram_vocab_2000_token_freq),\n",
    "    \"BPE_vocab_1000_token_freq\":dict(BPE_vocab_1000_token_freq),\n",
    "    \"BPE_vocab_2000_token_freq\":dict(BPE_vocab_2000_token_freq)\n",
    "}\n"
   ]
  },
  {
   "cell_type": "code",
   "execution_count": 24,
   "id": "D20LQL5cELR3",
   "metadata": {
    "id": "D20LQL5cELR3"
   },
   "outputs": [],
   "source": [
    "whitespace_tokenizer_token,whitespace_tokenizer_count = whitespace_tokenizer()"
   ]
  },
  {
   "cell_type": "code",
   "execution_count": 25,
   "id": "a7rhf7kkEfnV",
   "metadata": {
    "id": "a7rhf7kkEfnV"
   },
   "outputs": [],
   "source": [
    "whitespace_token = process_tokens(whitespace_tokenizer_token)"
   ]
  },
  {
   "cell_type": "code",
   "execution_count": 26,
   "id": "dIu7XOe0FzZ7",
   "metadata": {
    "id": "dIu7XOe0FzZ7"
   },
   "outputs": [],
   "source": [
    "result_whitespcase_token_count = {\n",
    "    \"whitespace_token\":dict(whitespace_tokenizer_count)\n",
    "}"
   ]
  },
  {
   "cell_type": "code",
   "execution_count": 27,
   "id": "5or_fIsi7s8W",
   "metadata": {
    "colab": {
     "base_uri": "https://localhost:8080/"
    },
    "id": "5or_fIsi7s8W",
    "outputId": "3b18b6f6-ebcf-4c93-a4d7-01c7958f512d"
   },
   "outputs": [
    {
     "data": {
      "text/plain": [
       "{'whitespace_token': '_whitespace_token.csv'}"
      ]
     },
     "execution_count": 27,
     "metadata": {},
     "output_type": "execute_result"
    }
   ],
   "source": [
    "# File generation Unigram , BPE , Whitespace Tokenizer\n",
    "\n",
    "generate_files(unigram_vocab_1000,\"unigram_vocab_1000\")\n",
    "generate_files(unigram_vocab_2000,\"unigram_vocab_2000\")\n",
    "generate_files(BPE_vocab_1000,\"BPE_vocab_1000\")\n",
    "generate_files(BPE_vocab_2000,\"BPE_vocab_2000\")\n",
    "generate_files(result_BPE_uni_token_count)\n",
    "\n",
    "generate_files(whitespace_token,\"whitespace_token\")\n",
    "generate_files(result_whitespcase_token_count)\n",
    "\n"
   ]
  },
  {
   "cell_type": "code",
   "execution_count": 28,
   "id": "r-QvwLX1yLmF",
   "metadata": {
    "id": "r-QvwLX1yLmF"
   },
   "outputs": [],
   "source": [
    "# Answer 5"
   ]
  },
  {
   "cell_type": "code",
   "execution_count": 4,
   "id": "sJEmhNZqTesG",
   "metadata": {
    "id": "sJEmhNZqTesG"
   },
   "outputs": [],
   "source": [
    "import pandas as pd\n",
    "def read_file(path):\n",
    "    # Read the text file into a list of lines and remove '\\n' from each line\n",
    "    with open(path, \"r\",encoding = \"UTF8\") as file:\n",
    "        lines = [line.rstrip(\"\\n\") for line in file.readlines()]\n",
    "\n",
    "    # Create a DataFrame from the list of lines\n",
    "    df = pd.DataFrame(lines, columns=[\"Text\"])\n",
    "    return df\n",
    "\n",
    "\n"
   ]
  },
  {
   "cell_type": "code",
   "execution_count": 47,
   "id": "VmMds5Tn3oBi",
   "metadata": {
    "id": "VmMds5Tn3oBi"
   },
   "outputs": [],
   "source": [
    "def calculate_metrics(actual, predicted):\n",
    "    # Convert lists to sets\n",
    "    actual_set = set(actual)\n",
    "    predicted_set = set(predicted)\n",
    "\n",
    "    # Calculate true positives, false positives, and false negatives\n",
    "    true_positives = len(actual_set.intersection(predicted_set))\n",
    "    false_positives = len(predicted_set.difference(actual_set))\n",
    "    false_negatives = len(actual_set.difference(predicted_set))\n",
    "\n",
    "    # Calculate precision, recall, and F1 score\n",
    "    precision = true_positives / (true_positives + false_positives) if true_positives + false_positives > 0 else 0\n",
    "    recall = true_positives / (true_positives + false_negatives) if true_positives + false_negatives > 0 else 0\n",
    "    f1 = 2 * (precision * recall) / (precision + recall) if precision + recall > 0 else 0\n",
    "\n",
    "    return precision, recall, f1\n",
    "\n",
    "\n"
   ]
  },
  {
   "cell_type": "code",
   "execution_count": 56,
   "id": "bn7BMHwwuypE",
   "metadata": {
    "colab": {
     "base_uri": "https://localhost:8080/"
    },
    "id": "bn7BMHwwuypE",
    "outputId": "e8d23b53-6b1a-4dc0-c6ce-4cf7a0d707f1"
   },
   "outputs": [
    {
     "name": "stdout",
     "output_type": "stream",
     "text": [
      "['हालांकि', 'मई 2018 में', 'एनआरसी के', 'राज्य', 'समन्वयक ने', 'सभी', 'जिलों को', 'यह नोटिस', 'भेजी कि', 'घोषित', 'विदेशियों के', 'सहोदर', 'भाई-बहनों और', 'परिवार के', 'अन्य', 'सदस्यों की', 'नागरिकता भी', 'स्थगित रखी', 'जाएगी और', 'उन्हें', 'एनआरसी में', 'तब तक', 'शामिल', 'नहीं', 'किया जाएगा', 'जब तक कि', 'ट्रिब्यूनल', 'उनके', 'बारे में', 'फैसला', 'न करे', 'निर्भया', 'कांड के', 'बाद', 'बलात्कार', 'मामलों में', 'सजा के', 'कड़े', 'प्रावधान की', 'मांग', 'उठी थी।', 'वह', 'बीजेपी के', 'सदस्य को', 'क्यों', 'टोक', 'रहे हैं?', 'इसी तरह', 'वैज्ञानिक ने', 'मेंढक की', 'दूसरी और', 'तीसरी', 'टांग भी', 'काट दी।', 'चौथी टांग', 'काअने के बाद', 'वैज्ञानिक ने', 'कहा कि', \"'फ्रागी जंप' तो\", 'मेंढक', 'बिल्\\u200dकुल भी', 'नहीं उछला', 'अध्\\u200dयक्ष महोदय', 'वैज्ञानिक ने', 'निष्\\u200dकर्ष दिया', '(', 'थोड़ा सा', 'रुककर)', 'मेंढक', 'टांग से', 'सुनता है।', 'डॉक्टरों की', 'मांग को', 'जेनुइन', 'करार', 'देते हुए', 'उनकी', 'ओर से भी', 'मुकदमे', 'दर्ज', 'करने का', 'हुक्म', 'हुआ।', 'प्रत्येक', 'विधानसभा में', 'अधिकारी', 'घूम-घूमकर', 'चुनाव में', 'पेड न्यूज़ और', 'अन्य', 'गतिविधियों पर', 'नज़र रखेंगे।', 'मोदी', 'सरकार ने', '25 और', 'अपराध जोड़कर', '47 कर', 'दिए थे।', 'दुनिया ने', 'उनकी', 'आतिशी', 'पारी की', 'सराहना की।', 'जिला', 'पुलिस', 'अधीक्षक ने', 'किया', 'सस्पेंड', '1984 में', 'भड़के', 'सिख', 'विरोधी', 'दंगा', 'मामले पर', 'कोर्ट के', 'फैसले के', 'बाद', 'राजनीति', 'गरमा', 'गई है।', 'केन्द्रीय मंत्री और', 'भाजपा', 'के नेता', 'रविशंकर प्रसाद ने', 'इस फैसले के', 'इससे पहले', 'रविवार को', 'शोपियां', 'जिले में', 'सुरक्षा', 'बलों ने', 'तलाशी', 'अभियान', 'चलाया था।', 'लाेकसभा', 'चुनाव', '2019 की', 'राजनीतिक', 'सरगर्मियों के', 'दौरान', 'रविवार को', 'राजस्थान में', 'एक', 'अजीबोंगरीब नजारा', 'देखने।', 'सलमान खान ने', 'बताया कि', 'एक बार', 'उनका', 'एक लड़की से', 'ब्रेकअप', 'हो गया था', 'और', 'वो', 'दूसरे', 'रिश्ते में', 'थे।', 'सरकार ने', 'हमें', 'अपने हाल पर', 'मरने', 'के लिए', 'छोड़', 'दिया है।', 'युवा', 'उद्यमी', 'स्टार्टअप', 'के जरिए', 'कई युवाओं को', 'रोजगार', 'प्रदान', 'कर सकते है।', 'इसके अतिरिक्त', 'पुलिस विभाग को', 'समारोह स्थल पर', 'सुरक्षा के', 'पुख्ता इंतजाम', 'सुनिश्चित करने तथा', 'भव्य परेड की', 'तैयारी', 'आरंभ करने के', 'निर्देश', 'दिए।', 'उन्होंने', 'कहा कि', 'मौजूदा', 'सरकार ने', 'पंजाब को', 'कंगाल', 'बनाकर', 'रख दिया है', 'तथा', 'सरकार', 'विकास', 'कार्यों का', 'बोझ', 'उठाने के', 'योग्य', 'नहीं है', 'जिस कारण', 'राज्य की .जनता ने', 'अकाली-भाजपा को', 'सिरे से', 'नकार', 'दिया है।', '', 'उद्घाटन', 'करने के बाद', 'सभा को', 'संबोधित', 'करते हुए', 'सीएम त्रिवेंद्र ने', 'कहा कि', 'क्षेत्र में', 'प्रस्तावित', 'पंचेश्वर बांध', 'देश', 'के लिए', 'महत्वपूर्ण है', 'लिहाज़', 'डूब', 'क्षेत्र की', 'लोगों की', 'जरूरतें', 'पूरा करना', 'राज्य सरकार', 'कर्तव्य है।', 'रिपोर्ट की', 'माने तो', 'इस पर', 'एक भारतीय', 'अधिकारी ने', 'कहा', 'सरकार', 'विदेशी', 'मोटरसाइकिलों पर', 'आयात', 'शुल्क', 'अधिक', 'लगाती है', 'क्योंकि', 'घरेलू', 'उद्योग को', 'सुरक्षा देने', 'के लिए', 'यह', 'जरूरी है।', 'सुप्रीम कोर्ट ने', 'गुरुवार को', 'आईपीसी की धारा 377 की संवैधानिक वैधता पर', 'अपना फैसला सुनाया', 'सुप्रीम कोर्ट ने', 'समलैंगिकता को', 'अपराध की श्रेणी से', 'बाहर', 'कोई घटना', 'यूँ ही', 'शेर में', 'नहीं ढलती', 'ये करोड़ों', 'लोगों', 'के साथ हुआ', 'व्यवहार है', 'जिसे', 'रफ़ी रज़ा साहब ने', 'बयान', 'किया है', 'यही वो', 'व्यवहार है', 'जिसके कारण', 'विश्व', 'भर में', 'इस्लाम का', 'प्रसार', 'हुआ है', 'आतंक एक', 'उपकरण है', 'और', 'इसका', 'प्रयोग', 'इस्लाम में', 'अरुचि', 'रखने', 'वालों को', 'डराने', 'और', 'इस्लाम की', 'धाक', 'जमाने', 'के लिये किया जाता है.', 'त्यामुळे', 'अशा भाविकांनी', 'यंदा', 'पायी चालत', 'मुर्ती विसर्जन केले.', 'भ्रष्ट', 'नेता', 'इन युवाओं को', 'कोई भी', 'नया', 'भविष्य', 'नहीं दे सकते हैं', 'इसलिए', 'उन्हें', 'संघ', 'परिवार का', 'सिपाही बनाकर', 'इस्तेमाल', 'किया जा रहा है', 'जिसके', 'बहुत', 'लाभ', 'नहीं होने वाले।', 'मार्च 10', 'इज़ाफा', 'हाथ', 'खाली हैं.', '']\n"
     ]
    }
   ],
   "source": [
    "my_sen = read_file(\"/content/drive/MyDrive/25_sentence.txt\")\n",
    "Truth_vlaues = read_file(\"/content/drive/MyDrive/TrueToken.txt\")\n",
    "# Truth_vlaues.to_list()\n",
    "Truth_value_list = Truth_vlaues['Text'].tolist()\n",
    "Truth_value_list = [token.strip() for sentence in Truth_value_list for token in sentence.split(',')]\n",
    "print(Truth_value_list)\n"
   ]
  },
  {
   "cell_type": "code",
   "execution_count": 81,
   "id": "0Np7iDUSwCvc",
   "metadata": {
    "id": "0Np7iDUSwCvc"
   },
   "outputs": [],
   "source": [
    "\n",
    "unigram_vocab_1000_token, _  = Unigram_and_BPE_tokenization(\"/content/drive/MyDrive/Q4-trained_Model/unigram_model/unigram_model_1000_vocab\",my_sen)\n",
    "unigram_vocab_2000_token, _  = Unigram_and_BPE_tokenization(\"/content/drive/MyDrive/Q4-trained_Model/unigram_model/unigram_model_1000_vocab\",my_sen)\n",
    "\n"
   ]
  },
  {
   "cell_type": "code",
   "execution_count": 82,
   "id": "n8hVi0Uqzo9a",
   "metadata": {
    "colab": {
     "base_uri": "https://localhost:8080/"
    },
    "id": "n8hVi0Uqzo9a",
    "outputId": "a5c7c358-37e9-4841-d91b-d41b2697720a"
   },
   "outputs": [
    {
     "name": "stdout",
     "output_type": "stream",
     "text": [
      "using Unigran with vocab size 1000:\n",
      "precision = 0.0\n",
      "recall = 0.0\n",
      "F-score = 0\n",
      "\n",
      "\n",
      "using Unigram with vocab size 2000:\n",
      "precision = 0.0\n",
      "recall = 0.0\n",
      "F-score = 0\n"
     ]
    }
   ],
   "source": [
    "\n",
    "p1,r1,f1 = calculate_metrics(Truth_value_list,unigram_vocab_1000_token)\n",
    "print(\"using Unigran with vocab size 1000:\")\n",
    "print(f\"precision = {p1}\\nrecall = {r1}\\nF-score = {f1}\")\n",
    "print(\"\\n\")\n",
    "p2,r2,f2 = calculate_metrics(Truth_value_list,unigram_vocab_2000_token)\n",
    "print(\"using Unigram with vocab size 2000:\")\n",
    "print(f\"precision = {p2}\\nrecall = {r2}\\nF-score = {f2}\")"
   ]
  },
  {
   "cell_type": "code",
   "execution_count": 86,
   "id": "tyRzw5jr86E_",
   "metadata": {
    "id": "tyRzw5jr86E_"
   },
   "outputs": [],
   "source": [
    "BPE_vocab_1000_token, _  = Unigram_and_BPE_tokenization(\"/content/drive/MyDrive/Q4-trained_Model/BPE_model/BPE_model_1000_vocab\",my_sen)\n",
    "BPE_vocab_2000_token, _  = Unigram_and_BPE_tokenization(\"/content/drive/MyDrive/Q4-trained_Model/BPE_model/BPE_model_2000_vocab\",my_sen)"
   ]
  },
  {
   "cell_type": "code",
   "execution_count": 84,
   "id": "NAcCq0Jw8zPQ",
   "metadata": {
    "colab": {
     "base_uri": "https://localhost:8080/"
    },
    "id": "NAcCq0Jw8zPQ",
    "outputId": "7c119188-02b4-4b6d-c39f-35f3b073aa67"
   },
   "outputs": [
    {
     "name": "stdout",
     "output_type": "stream",
     "text": [
      "using BPE with vocab size 1000:\n",
      "precision = 0.002336448598130841\n",
      "recall = 0.003367003367003367\n",
      "F-score = 0.0027586206896551726\n",
      "\n",
      "\n",
      "using BPE with vocab size 2000:\n",
      "precision = 0.0\n",
      "recall = 0.0\n",
      "F-score = 0\n"
     ]
    }
   ],
   "source": [
    "p1,r1,f1 = calculate_metrics(Truth_value_list,BPE_vocab_1000_token)\n",
    "print(\"using BPE with vocab size 1000:\")\n",
    "print(f\"precision = {p1}\\nrecall = {r1}\\nF-score = {f1}\")\n",
    "print(\"\\n\")\n",
    "p2,r2,f2 = calculate_metrics(Truth_value_list,BPE_vocab_2000_token)\n",
    "print(\"using BPE with vocab size 2000:\")\n",
    "print(f\"precision = {p2}\\nrecall = {r2}\\nF-score = {f2}\")"
   ]
  },
  {
   "cell_type": "code",
   "execution_count": 79,
   "id": "kV5X1fHe0Oev",
   "metadata": {
    "colab": {
     "base_uri": "https://localhost:8080/"
    },
    "id": "kV5X1fHe0Oev",
    "outputId": "0ed92810-b0f7-4133-cabe-d77bd4989450"
   },
   "outputs": [
    {
     "name": "stdout",
     "output_type": "stream",
     "text": [
      "using mBERT with maxlength 1000:\n",
      "precision = 0.10501193317422435\n",
      "recall = 0.14814814814814814\n",
      "F-score = 0.12290502793296089\n",
      "\n",
      "\n",
      "using mBERT with maxlength 2000:\n",
      "precision = 0.10501193317422435\n",
      "recall = 0.14814814814814814\n",
      "F-score = 0.12290502793296089\n"
     ]
    }
   ],
   "source": [
    "mBERT_token_1000,_ = tokenization_step(mBERT_tokenizer,1000,'mBERT',my_sen)\n",
    "mBERT_token_2000,_ = tokenization_step(mBERT_tokenizer,2000,'mBERT',my_sen)\n",
    "p1,r1,f1 = calculate_metrics(Truth_value_list,mBERT_token_1000)\n",
    "print(\"using mBERT with maxlength 1000:\")\n",
    "print(f\"precision = {p1}\\nrecall = {r1}\\nF-score = {f1}\")\n",
    "print(\"\\n\")\n",
    "p2,r2,f2 = calculate_metrics(Truth_value_list,mBERT_token_2000)\n",
    "print(\"using mBERT with maxlength 2000:\")\n",
    "print(f\"precision = {p2}\\nrecall = {r2}\\nF-score = {f2}\")"
   ]
  },
  {
   "cell_type": "code",
   "execution_count": 88,
   "id": "lDjeAHoD6CN8",
   "metadata": {
    "id": "lDjeAHoD6CN8"
   },
   "outputs": [],
   "source": [
    "whitespace_tokenizer_token,_ = whitespace_tokenizer(my_sen)\n"
   ]
  },
  {
   "cell_type": "code",
   "execution_count": 89,
   "id": "OOLidBEU9OiG",
   "metadata": {
    "colab": {
     "base_uri": "https://localhost:8080/"
    },
    "id": "OOLidBEU9OiG",
    "outputId": "a5ae7b1e-39fe-474e-ffae-8a382627171a"
   },
   "outputs": [
    {
     "name": "stdout",
     "output_type": "stream",
     "text": [
      "using Whitespace tokenization:\n",
      "precision = 0.35174418604651164\n",
      "recall = 0.4074074074074074\n",
      "F-score = 0.3775351014040562\n",
      "\n",
      "\n"
     ]
    }
   ],
   "source": [
    "p1,r1,f1 = calculate_metrics(Truth_value_list,whitespace_tokenizer_token)\n",
    "print(\"using Whitespace tokenization:\")\n",
    "print(f\"precision = {p1}\\nrecall = {r1}\\nF-score = {f1}\")\n",
    "print(\"\\n\")"
   ]
  },
  {
   "cell_type": "code",
   "execution_count": null,
   "id": "4wnrjeQ79aXb",
   "metadata": {
    "id": "4wnrjeQ79aXb"
   },
   "outputs": [],
   "source": []
  }
 ],
 "metadata": {
  "accelerator": "GPU",
  "colab": {
   "gpuType": "T4",
   "provenance": []
  },
  "kernelspec": {
   "display_name": "Python 3 (ipykernel)",
   "language": "python",
   "name": "python3"
  },
  "language_info": {
   "codemirror_mode": {
    "name": "ipython",
    "version": 3
   },
   "file_extension": ".py",
   "mimetype": "text/x-python",
   "name": "python",
   "nbconvert_exporter": "python",
   "pygments_lexer": "ipython3",
   "version": "3.8.17"
  },
  "widgets": {
   "application/vnd.jupyter.widget-state+json": {
    "00691d80a0534d96a2b3a758f06c468a": {
     "model_module": "@jupyter-widgets/base",
     "model_module_version": "1.2.0",
     "model_name": "LayoutModel",
     "state": {
      "_model_module": "@jupyter-widgets/base",
      "_model_module_version": "1.2.0",
      "_model_name": "LayoutModel",
      "_view_count": null,
      "_view_module": "@jupyter-widgets/base",
      "_view_module_version": "1.2.0",
      "_view_name": "LayoutView",
      "align_content": null,
      "align_items": null,
      "align_self": null,
      "border": null,
      "bottom": null,
      "display": null,
      "flex": null,
      "flex_flow": null,
      "grid_area": null,
      "grid_auto_columns": null,
      "grid_auto_flow": null,
      "grid_auto_rows": null,
      "grid_column": null,
      "grid_gap": null,
      "grid_row": null,
      "grid_template_areas": null,
      "grid_template_columns": null,
      "grid_template_rows": null,
      "height": null,
      "justify_content": null,
      "justify_items": null,
      "left": null,
      "margin": null,
      "max_height": null,
      "max_width": null,
      "min_height": null,
      "min_width": null,
      "object_fit": null,
      "object_position": null,
      "order": null,
      "overflow": null,
      "overflow_x": null,
      "overflow_y": null,
      "padding": null,
      "right": null,
      "top": null,
      "visibility": null,
      "width": null
     }
    },
    "063c8094343b4dfa906e2b4bb6812915": {
     "model_module": "@jupyter-widgets/controls",
     "model_module_version": "1.5.0",
     "model_name": "DescriptionStyleModel",
     "state": {
      "_model_module": "@jupyter-widgets/controls",
      "_model_module_version": "1.5.0",
      "_model_name": "DescriptionStyleModel",
      "_view_count": null,
      "_view_module": "@jupyter-widgets/base",
      "_view_module_version": "1.2.0",
      "_view_name": "StyleView",
      "description_width": ""
     }
    },
    "1e764f07298a4ca3ae0464c6826370d2": {
     "model_module": "@jupyter-widgets/controls",
     "model_module_version": "1.5.0",
     "model_name": "HTMLModel",
     "state": {
      "_dom_classes": [],
      "_model_module": "@jupyter-widgets/controls",
      "_model_module_version": "1.5.0",
      "_model_name": "HTMLModel",
      "_view_count": null,
      "_view_module": "@jupyter-widgets/controls",
      "_view_module_version": "1.5.0",
      "_view_name": "HTMLView",
      "description": "",
      "description_tooltip": null,
      "layout": "IPY_MODEL_69501c90e60e4066a4a599f69a237311",
      "placeholder": "​",
      "style": "IPY_MODEL_063c8094343b4dfa906e2b4bb6812915",
      "value": "config.json: 100%"
     }
    },
    "237dd2b7df8247e991bb448e61c98e16": {
     "model_module": "@jupyter-widgets/controls",
     "model_module_version": "1.5.0",
     "model_name": "ProgressStyleModel",
     "state": {
      "_model_module": "@jupyter-widgets/controls",
      "_model_module_version": "1.5.0",
      "_model_name": "ProgressStyleModel",
      "_view_count": null,
      "_view_module": "@jupyter-widgets/base",
      "_view_module_version": "1.2.0",
      "_view_name": "StyleView",
      "bar_color": null,
      "description_width": ""
     }
    },
    "28667b8b571342acab0aeeae3d5bbdb5": {
     "model_module": "@jupyter-widgets/base",
     "model_module_version": "1.2.0",
     "model_name": "LayoutModel",
     "state": {
      "_model_module": "@jupyter-widgets/base",
      "_model_module_version": "1.2.0",
      "_model_name": "LayoutModel",
      "_view_count": null,
      "_view_module": "@jupyter-widgets/base",
      "_view_module_version": "1.2.0",
      "_view_name": "LayoutView",
      "align_content": null,
      "align_items": null,
      "align_self": null,
      "border": null,
      "bottom": null,
      "display": null,
      "flex": null,
      "flex_flow": null,
      "grid_area": null,
      "grid_auto_columns": null,
      "grid_auto_flow": null,
      "grid_auto_rows": null,
      "grid_column": null,
      "grid_gap": null,
      "grid_row": null,
      "grid_template_areas": null,
      "grid_template_columns": null,
      "grid_template_rows": null,
      "height": null,
      "justify_content": null,
      "justify_items": null,
      "left": null,
      "margin": null,
      "max_height": null,
      "max_width": null,
      "min_height": null,
      "min_width": null,
      "object_fit": null,
      "object_position": null,
      "order": null,
      "overflow": null,
      "overflow_x": null,
      "overflow_y": null,
      "padding": null,
      "right": null,
      "top": null,
      "visibility": null,
      "width": null
     }
    },
    "301c7cb8821d46f1ba857e4d7bb39be4": {
     "model_module": "@jupyter-widgets/controls",
     "model_module_version": "1.5.0",
     "model_name": "HBoxModel",
     "state": {
      "_dom_classes": [],
      "_model_module": "@jupyter-widgets/controls",
      "_model_module_version": "1.5.0",
      "_model_name": "HBoxModel",
      "_view_count": null,
      "_view_module": "@jupyter-widgets/controls",
      "_view_module_version": "1.5.0",
      "_view_name": "HBoxView",
      "box_style": "",
      "children": [
       "IPY_MODEL_f3939ae9f38640c9817300dd542ed94d",
       "IPY_MODEL_a149c5f814194f328379a9506e3284a0",
       "IPY_MODEL_e1a5a843c9114c8bbd59c84d9e8c698c"
      ],
      "layout": "IPY_MODEL_28667b8b571342acab0aeeae3d5bbdb5"
     }
    },
    "65e24d0503994f8893c8adde322969a0": {
     "model_module": "@jupyter-widgets/base",
     "model_module_version": "1.2.0",
     "model_name": "LayoutModel",
     "state": {
      "_model_module": "@jupyter-widgets/base",
      "_model_module_version": "1.2.0",
      "_model_name": "LayoutModel",
      "_view_count": null,
      "_view_module": "@jupyter-widgets/base",
      "_view_module_version": "1.2.0",
      "_view_name": "LayoutView",
      "align_content": null,
      "align_items": null,
      "align_self": null,
      "border": null,
      "bottom": null,
      "display": null,
      "flex": null,
      "flex_flow": null,
      "grid_area": null,
      "grid_auto_columns": null,
      "grid_auto_flow": null,
      "grid_auto_rows": null,
      "grid_column": null,
      "grid_gap": null,
      "grid_row": null,
      "grid_template_areas": null,
      "grid_template_columns": null,
      "grid_template_rows": null,
      "height": null,
      "justify_content": null,
      "justify_items": null,
      "left": null,
      "margin": null,
      "max_height": null,
      "max_width": null,
      "min_height": null,
      "min_width": null,
      "object_fit": null,
      "object_position": null,
      "order": null,
      "overflow": null,
      "overflow_x": null,
      "overflow_y": null,
      "padding": null,
      "right": null,
      "top": null,
      "visibility": null,
      "width": null
     }
    },
    "69501c90e60e4066a4a599f69a237311": {
     "model_module": "@jupyter-widgets/base",
     "model_module_version": "1.2.0",
     "model_name": "LayoutModel",
     "state": {
      "_model_module": "@jupyter-widgets/base",
      "_model_module_version": "1.2.0",
      "_model_name": "LayoutModel",
      "_view_count": null,
      "_view_module": "@jupyter-widgets/base",
      "_view_module_version": "1.2.0",
      "_view_name": "LayoutView",
      "align_content": null,
      "align_items": null,
      "align_self": null,
      "border": null,
      "bottom": null,
      "display": null,
      "flex": null,
      "flex_flow": null,
      "grid_area": null,
      "grid_auto_columns": null,
      "grid_auto_flow": null,
      "grid_auto_rows": null,
      "grid_column": null,
      "grid_gap": null,
      "grid_row": null,
      "grid_template_areas": null,
      "grid_template_columns": null,
      "grid_template_rows": null,
      "height": null,
      "justify_content": null,
      "justify_items": null,
      "left": null,
      "margin": null,
      "max_height": null,
      "max_width": null,
      "min_height": null,
      "min_width": null,
      "object_fit": null,
      "object_position": null,
      "order": null,
      "overflow": null,
      "overflow_x": null,
      "overflow_y": null,
      "padding": null,
      "right": null,
      "top": null,
      "visibility": null,
      "width": null
     }
    },
    "9248c179265b45cdbbf08fd92eaa4a9b": {
     "model_module": "@jupyter-widgets/base",
     "model_module_version": "1.2.0",
     "model_name": "LayoutModel",
     "state": {
      "_model_module": "@jupyter-widgets/base",
      "_model_module_version": "1.2.0",
      "_model_name": "LayoutModel",
      "_view_count": null,
      "_view_module": "@jupyter-widgets/base",
      "_view_module_version": "1.2.0",
      "_view_name": "LayoutView",
      "align_content": null,
      "align_items": null,
      "align_self": null,
      "border": null,
      "bottom": null,
      "display": null,
      "flex": null,
      "flex_flow": null,
      "grid_area": null,
      "grid_auto_columns": null,
      "grid_auto_flow": null,
      "grid_auto_rows": null,
      "grid_column": null,
      "grid_gap": null,
      "grid_row": null,
      "grid_template_areas": null,
      "grid_template_columns": null,
      "grid_template_rows": null,
      "height": null,
      "justify_content": null,
      "justify_items": null,
      "left": null,
      "margin": null,
      "max_height": null,
      "max_width": null,
      "min_height": null,
      "min_width": null,
      "object_fit": null,
      "object_position": null,
      "order": null,
      "overflow": null,
      "overflow_x": null,
      "overflow_y": null,
      "padding": null,
      "right": null,
      "top": null,
      "visibility": null,
      "width": null
     }
    },
    "9b828cb7454345589a99bb43c5ea2f8c": {
     "model_module": "@jupyter-widgets/controls",
     "model_module_version": "1.5.0",
     "model_name": "FloatProgressModel",
     "state": {
      "_dom_classes": [],
      "_model_module": "@jupyter-widgets/controls",
      "_model_module_version": "1.5.0",
      "_model_name": "FloatProgressModel",
      "_view_count": null,
      "_view_module": "@jupyter-widgets/controls",
      "_view_module_version": "1.5.0",
      "_view_name": "ProgressView",
      "bar_style": "success",
      "description": "",
      "description_tooltip": null,
      "layout": "IPY_MODEL_c8fe8e3396f34edabf7597cca66088dd",
      "max": 507,
      "min": 0,
      "orientation": "horizontal",
      "style": "IPY_MODEL_237dd2b7df8247e991bb448e61c98e16",
      "value": 507
     }
    },
    "a07a0d0bc0d34ebe9d1a1730010d0185": {
     "model_module": "@jupyter-widgets/controls",
     "model_module_version": "1.5.0",
     "model_name": "ProgressStyleModel",
     "state": {
      "_model_module": "@jupyter-widgets/controls",
      "_model_module_version": "1.5.0",
      "_model_name": "ProgressStyleModel",
      "_view_count": null,
      "_view_module": "@jupyter-widgets/base",
      "_view_module_version": "1.2.0",
      "_view_name": "StyleView",
      "bar_color": null,
      "description_width": ""
     }
    },
    "a149c5f814194f328379a9506e3284a0": {
     "model_module": "@jupyter-widgets/controls",
     "model_module_version": "1.5.0",
     "model_name": "FloatProgressModel",
     "state": {
      "_dom_classes": [],
      "_model_module": "@jupyter-widgets/controls",
      "_model_module_version": "1.5.0",
      "_model_name": "FloatProgressModel",
      "_view_count": null,
      "_view_module": "@jupyter-widgets/controls",
      "_view_module_version": "1.5.0",
      "_view_name": "ProgressView",
      "bar_style": "success",
      "description": "",
      "description_tooltip": null,
      "layout": "IPY_MODEL_9248c179265b45cdbbf08fd92eaa4a9b",
      "max": 5646064,
      "min": 0,
      "orientation": "horizontal",
      "style": "IPY_MODEL_a07a0d0bc0d34ebe9d1a1730010d0185",
      "value": 5646064
     }
    },
    "a8160c1596ce4d73bf2d46868f71aeae": {
     "model_module": "@jupyter-widgets/controls",
     "model_module_version": "1.5.0",
     "model_name": "HBoxModel",
     "state": {
      "_dom_classes": [],
      "_model_module": "@jupyter-widgets/controls",
      "_model_module_version": "1.5.0",
      "_model_name": "HBoxModel",
      "_view_count": null,
      "_view_module": "@jupyter-widgets/controls",
      "_view_module_version": "1.5.0",
      "_view_name": "HBoxView",
      "box_style": "",
      "children": [
       "IPY_MODEL_1e764f07298a4ca3ae0464c6826370d2",
       "IPY_MODEL_9b828cb7454345589a99bb43c5ea2f8c",
       "IPY_MODEL_f4a41a33dc5c4813b958bba004ca2566"
      ],
      "layout": "IPY_MODEL_fa5d96e35a2b4f03ac73ad4de273d3a3"
     }
    },
    "c8fe8e3396f34edabf7597cca66088dd": {
     "model_module": "@jupyter-widgets/base",
     "model_module_version": "1.2.0",
     "model_name": "LayoutModel",
     "state": {
      "_model_module": "@jupyter-widgets/base",
      "_model_module_version": "1.2.0",
      "_model_name": "LayoutModel",
      "_view_count": null,
      "_view_module": "@jupyter-widgets/base",
      "_view_module_version": "1.2.0",
      "_view_name": "LayoutView",
      "align_content": null,
      "align_items": null,
      "align_self": null,
      "border": null,
      "bottom": null,
      "display": null,
      "flex": null,
      "flex_flow": null,
      "grid_area": null,
      "grid_auto_columns": null,
      "grid_auto_flow": null,
      "grid_auto_rows": null,
      "grid_column": null,
      "grid_gap": null,
      "grid_row": null,
      "grid_template_areas": null,
      "grid_template_columns": null,
      "grid_template_rows": null,
      "height": null,
      "justify_content": null,
      "justify_items": null,
      "left": null,
      "margin": null,
      "max_height": null,
      "max_width": null,
      "min_height": null,
      "min_width": null,
      "object_fit": null,
      "object_position": null,
      "order": null,
      "overflow": null,
      "overflow_x": null,
      "overflow_y": null,
      "padding": null,
      "right": null,
      "top": null,
      "visibility": null,
      "width": null
     }
    },
    "db420eea2d474427abce15b033fd5f85": {
     "model_module": "@jupyter-widgets/controls",
     "model_module_version": "1.5.0",
     "model_name": "DescriptionStyleModel",
     "state": {
      "_model_module": "@jupyter-widgets/controls",
      "_model_module_version": "1.5.0",
      "_model_name": "DescriptionStyleModel",
      "_view_count": null,
      "_view_module": "@jupyter-widgets/base",
      "_view_module_version": "1.2.0",
      "_view_name": "StyleView",
      "description_width": ""
     }
    },
    "e09d6e0780704603906521cd9ccb8a2e": {
     "model_module": "@jupyter-widgets/controls",
     "model_module_version": "1.5.0",
     "model_name": "DescriptionStyleModel",
     "state": {
      "_model_module": "@jupyter-widgets/controls",
      "_model_module_version": "1.5.0",
      "_model_name": "DescriptionStyleModel",
      "_view_count": null,
      "_view_module": "@jupyter-widgets/base",
      "_view_module_version": "1.2.0",
      "_view_name": "StyleView",
      "description_width": ""
     }
    },
    "e1a5a843c9114c8bbd59c84d9e8c698c": {
     "model_module": "@jupyter-widgets/controls",
     "model_module_version": "1.5.0",
     "model_name": "HTMLModel",
     "state": {
      "_dom_classes": [],
      "_model_module": "@jupyter-widgets/controls",
      "_model_module_version": "1.5.0",
      "_model_name": "HTMLModel",
      "_view_count": null,
      "_view_module": "@jupyter-widgets/controls",
      "_view_module_version": "1.5.0",
      "_view_name": "HTMLView",
      "description": "",
      "description_tooltip": null,
      "layout": "IPY_MODEL_65e24d0503994f8893c8adde322969a0",
      "placeholder": "​",
      "style": "IPY_MODEL_db420eea2d474427abce15b033fd5f85",
      "value": " 5.65M/5.65M [00:00&lt;00:00, 18.1MB/s]"
     }
    },
    "ea01a2a7836c43bd9119ad8bb052668a": {
     "model_module": "@jupyter-widgets/controls",
     "model_module_version": "1.5.0",
     "model_name": "DescriptionStyleModel",
     "state": {
      "_model_module": "@jupyter-widgets/controls",
      "_model_module_version": "1.5.0",
      "_model_name": "DescriptionStyleModel",
      "_view_count": null,
      "_view_module": "@jupyter-widgets/base",
      "_view_module_version": "1.2.0",
      "_view_name": "StyleView",
      "description_width": ""
     }
    },
    "f3939ae9f38640c9817300dd542ed94d": {
     "model_module": "@jupyter-widgets/controls",
     "model_module_version": "1.5.0",
     "model_name": "HTMLModel",
     "state": {
      "_dom_classes": [],
      "_model_module": "@jupyter-widgets/controls",
      "_model_module_version": "1.5.0",
      "_model_name": "HTMLModel",
      "_view_count": null,
      "_view_module": "@jupyter-widgets/controls",
      "_view_module_version": "1.5.0",
      "_view_name": "HTMLView",
      "description": "",
      "description_tooltip": null,
      "layout": "IPY_MODEL_fca72bd9d12244f383138f2f90113b63",
      "placeholder": "​",
      "style": "IPY_MODEL_e09d6e0780704603906521cd9ccb8a2e",
      "value": "spiece.model: 100%"
     }
    },
    "f4a41a33dc5c4813b958bba004ca2566": {
     "model_module": "@jupyter-widgets/controls",
     "model_module_version": "1.5.0",
     "model_name": "HTMLModel",
     "state": {
      "_dom_classes": [],
      "_model_module": "@jupyter-widgets/controls",
      "_model_module_version": "1.5.0",
      "_model_name": "HTMLModel",
      "_view_count": null,
      "_view_module": "@jupyter-widgets/controls",
      "_view_module_version": "1.5.0",
      "_view_name": "HTMLView",
      "description": "",
      "description_tooltip": null,
      "layout": "IPY_MODEL_00691d80a0534d96a2b3a758f06c468a",
      "placeholder": "​",
      "style": "IPY_MODEL_ea01a2a7836c43bd9119ad8bb052668a",
      "value": " 507/507 [00:00&lt;00:00, 26.9kB/s]"
     }
    },
    "fa5d96e35a2b4f03ac73ad4de273d3a3": {
     "model_module": "@jupyter-widgets/base",
     "model_module_version": "1.2.0",
     "model_name": "LayoutModel",
     "state": {
      "_model_module": "@jupyter-widgets/base",
      "_model_module_version": "1.2.0",
      "_model_name": "LayoutModel",
      "_view_count": null,
      "_view_module": "@jupyter-widgets/base",
      "_view_module_version": "1.2.0",
      "_view_name": "LayoutView",
      "align_content": null,
      "align_items": null,
      "align_self": null,
      "border": null,
      "bottom": null,
      "display": null,
      "flex": null,
      "flex_flow": null,
      "grid_area": null,
      "grid_auto_columns": null,
      "grid_auto_flow": null,
      "grid_auto_rows": null,
      "grid_column": null,
      "grid_gap": null,
      "grid_row": null,
      "grid_template_areas": null,
      "grid_template_columns": null,
      "grid_template_rows": null,
      "height": null,
      "justify_content": null,
      "justify_items": null,
      "left": null,
      "margin": null,
      "max_height": null,
      "max_width": null,
      "min_height": null,
      "min_width": null,
      "object_fit": null,
      "object_position": null,
      "order": null,
      "overflow": null,
      "overflow_x": null,
      "overflow_y": null,
      "padding": null,
      "right": null,
      "top": null,
      "visibility": null,
      "width": null
     }
    },
    "fca72bd9d12244f383138f2f90113b63": {
     "model_module": "@jupyter-widgets/base",
     "model_module_version": "1.2.0",
     "model_name": "LayoutModel",
     "state": {
      "_model_module": "@jupyter-widgets/base",
      "_model_module_version": "1.2.0",
      "_model_name": "LayoutModel",
      "_view_count": null,
      "_view_module": "@jupyter-widgets/base",
      "_view_module_version": "1.2.0",
      "_view_name": "LayoutView",
      "align_content": null,
      "align_items": null,
      "align_self": null,
      "border": null,
      "bottom": null,
      "display": null,
      "flex": null,
      "flex_flow": null,
      "grid_area": null,
      "grid_auto_columns": null,
      "grid_auto_flow": null,
      "grid_auto_rows": null,
      "grid_column": null,
      "grid_gap": null,
      "grid_row": null,
      "grid_template_areas": null,
      "grid_template_columns": null,
      "grid_template_rows": null,
      "height": null,
      "justify_content": null,
      "justify_items": null,
      "left": null,
      "margin": null,
      "max_height": null,
      "max_width": null,
      "min_height": null,
      "min_width": null,
      "object_fit": null,
      "object_position": null,
      "order": null,
      "overflow": null,
      "overflow_x": null,
      "overflow_y": null,
      "padding": null,
      "right": null,
      "top": null,
      "visibility": null,
      "width": null
     }
    }
   }
  }
 },
 "nbformat": 4,
 "nbformat_minor": 5
}
