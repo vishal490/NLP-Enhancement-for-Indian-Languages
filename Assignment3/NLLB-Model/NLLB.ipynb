{
 "cells": [
  {
   "cell_type": "raw",
   "id": "319fbbeb-b153-4730-9232-09841325214d",
   "metadata": {
    "colab": {
     "base_uri": "https://localhost:8080/"
    },
    "id": "piixM5eG3Rdw",
    "outputId": "d4950ed4-9293-4762-97cc-4632d53a9285"
   },
   "source": [
    "from google.colab import drive\n",
    "drive.mount('/content/drive')\n"
   ]
  },
  {
   "cell_type": "markdown",
   "id": "2b6ce8e1-95cf-4692-a536-0b7cd91d44db",
   "metadata": {},
   "source": [
    "## Loading data"
   ]
  },
  {
   "cell_type": "code",
   "execution_count": 129,
   "id": "de9c8ed8-25ae-4916-91d2-d85117a6afeb",
   "metadata": {
    "id": "de9c8ed8-25ae-4916-91d2-d85117a6afeb"
   },
   "outputs": [],
   "source": [
    "def load_data(path):\n",
    "    with open(path,\"r\",encoding = \"utf-8\") as file:\n",
    "        return [line.strip() for line in file]\n",
    "\n",
    "\n"
   ]
  },
  {
   "cell_type": "code",
   "execution_count": 130,
   "id": "de52b62f-ad81-477c-ac86-c3be4972f863",
   "metadata": {
    "id": "de52b62f-ad81-477c-ac86-c3be4972f863"
   },
   "outputs": [],
   "source": [
    "en_true = load_data(\"./data/test.en\")\n",
    "hi_true = load_data(\"./data/test.hi\")\n",
    "mar_true = load_data(\"./data/test.mr\")\n"
   ]
  },
  {
   "cell_type": "markdown",
   "id": "54f8db7a-0f8a-464d-bad2-249dc05ca8b4",
   "metadata": {},
   "source": [
    "## selecting random sentences"
   ]
  },
  {
   "cell_type": "code",
   "execution_count": 131,
   "id": "vOveXjNB76nZ",
   "metadata": {
    "id": "vOveXjNB76nZ"
   },
   "outputs": [],
   "source": [
    "import random\n",
    "random.seed(27)\n",
    "sample_indices = random.sample(range(len(hi_true)), 1000)\n",
    "def random_sentences(language):\n",
    "    random_sentences = [language[i] for i in sample_indices]\n",
    "    return random_sentences\n"
   ]
  },
  {
   "cell_type": "code",
   "execution_count": 132,
   "id": "nY_YIqlI79mR",
   "metadata": {
    "id": "nY_YIqlI79mR"
   },
   "outputs": [],
   "source": [
    "eng_1k_sentences = random_sentences(en_true)\n",
    "hi_1k_sentences =  random_sentences(hi_true)\n",
    "mar_1k_sentences = random_sentences(mar_true)\n"
   ]
  },
  {
   "cell_type": "code",
   "execution_count": 115,
   "id": "Qut_5aVPXhLw",
   "metadata": {
    "id": "Qut_5aVPXhLw"
   },
   "outputs": [],
   "source": [
    "# eng_1k_sentences"
   ]
  },
  {
   "cell_type": "markdown",
   "id": "I2pTDNRA3Jkg",
   "metadata": {
    "id": "I2pTDNRA3Jkg"
   },
   "source": [
    "# Translation using NLLB"
   ]
  },
  {
   "cell_type": "code",
   "execution_count": 116,
   "id": "KJ7ZX8SUZ_nX",
   "metadata": {
    "id": "KJ7ZX8SUZ_nX"
   },
   "outputs": [],
   "source": [
    "# Use a pipeline as a high-level helper\n",
    "from transformers import AutoModelForSeq2SeqLM, AutoTokenizer\n"
   ]
  },
  {
   "cell_type": "code",
   "execution_count": 117,
   "id": "41Nefho1bCfP",
   "metadata": {
    "colab": {
     "base_uri": "https://localhost:8080/"
    },
    "id": "41Nefho1bCfP",
    "outputId": "e37d62e4-3327-4b2b-d875-64b5423016f6"
   },
   "outputs": [],
   "source": [
    "model = AutoModelForSeq2SeqLM.from_pretrained(\"facebook/nllb-200-distilled-600M\")\n",
    "def NLLB(source,target,sentences):\n",
    "    tokenizer = AutoTokenizer.from_pretrained(\"facebook/nllb-200-distilled-600M\",src=source,)\n",
    "\n",
    "    inputs = tokenizer(sentences, return_tensors=\"pt\",padding = \"longest\")\n",
    "\n",
    "    translated_tokens = model.generate(\n",
    "        **inputs, forced_bos_token_id=tokenizer.lang_code_to_id[target], max_length=30\n",
    "    )\n",
    "    return tokenizer.batch_decode(translated_tokens, skip_special_tokens=True)"
   ]
  },
  {
   "cell_type": "markdown",
   "id": "vUIO4ehlB9MZ",
   "metadata": {
    "id": "vUIO4ehlB9MZ"
   },
   "source": [
    "### (1) Hindi to English"
   ]
  },
  {
   "cell_type": "code",
   "execution_count": 18,
   "id": "_MypBAHS9zdN",
   "metadata": {
    "colab": {
     "base_uri": "https://localhost:8080/"
    },
    "id": "_MypBAHS9zdN",
    "outputId": "3e852c74-cc89-41ee-84e4-d7c8640b2c33"
   },
   "outputs": [
    {
     "data": {
      "text/plain": [
       "1000"
      ]
     },
     "execution_count": 18,
     "metadata": {},
     "output_type": "execute_result"
    }
   ],
   "source": [
    "len(hi_1k_sentences)"
   ]
  },
  {
   "cell_type": "code",
   "execution_count": 128,
   "id": "WA2f2aSgAEoI",
   "metadata": {
    "id": "WA2f2aSgAEoI"
   },
   "outputs": [],
   "source": [
    "translated_sentence_hindi_to_eng = []\n",
    "for i in range(0,2):\n",
    "    hi_true_50 = hi_1k_sentences[i*50:(i+1)*50]\n",
    "    output = NLLB(\"hin_Deva\",\"eng_Latn\",hi_true_50)\n",
    "    translated_sentence_hindi_to_eng.extend(output)\n"
   ]
  },
  {
   "cell_type": "code",
   "execution_count": null,
   "id": "zj-zrhmn1esr",
   "metadata": {
    "colab": {
     "base_uri": "https://localhost:8080/"
    },
    "id": "zj-zrhmn1esr",
    "outputId": "962e5910-1c7c-46ef-9ba0-32ae1a0e5d55"
   },
   "outputs": [],
   "source": [
    "len(translated_sentence_hindi_to_eng)"
   ]
  },
  {
   "cell_type": "code",
   "execution_count": null,
   "id": "9d106fb7-8040-4fd7-b603-93aba79fc581",
   "metadata": {},
   "outputs": [],
   "source": [
    "translated_sentence_hindi_to_eng"
   ]
  },
  {
   "cell_type": "code",
   "execution_count": 12,
   "id": "kG8wu1N236N_",
   "metadata": {
    "id": "kG8wu1N236N_"
   },
   "outputs": [],
   "source": [
    "with open('/content/drive/My Drive/NLLB_hi_to_en.txt', 'w') as file:\n",
    "    file.write(str(translated_sentence_hindi_to_eng))"
   ]
  },
  {
   "cell_type": "markdown",
   "id": "6P-sPXkGCCke",
   "metadata": {
    "id": "6P-sPXkGCCke"
   },
   "source": [
    "### (2) English to Hindi"
   ]
  },
  {
   "cell_type": "code",
   "execution_count": 13,
   "id": "DvMqKPyf2NkW",
   "metadata": {
    "id": "DvMqKPyf2NkW"
   },
   "outputs": [],
   "source": [
    "translated_sentence_eng_to_hindi = []\n",
    "for i in range(0,20):\n",
    "    en_true_50 = eng_1k_sentences[i*50:(i+1)*50]\n",
    "    output = NLLB(\"eng_Latn\",\"hin_Deva\",en_true_50)\n",
    "    translated_sentence_eng_to_hindi.extend(output)\n"
   ]
  },
  {
   "cell_type": "code",
   "execution_count": 14,
   "id": "BmfAZfe--6jk",
   "metadata": {
    "colab": {
     "base_uri": "https://localhost:8080/"
    },
    "id": "BmfAZfe--6jk",
    "outputId": "d136a985-de36-45b3-c3f5-21ebdc541092"
   },
   "outputs": [
    {
     "data": {
      "text/plain": [
       "1000"
      ]
     },
     "execution_count": 14,
     "metadata": {},
     "output_type": "execute_result"
    }
   ],
   "source": [
    "len(translated_sentence_eng_to_hindi)"
   ]
  },
  {
   "cell_type": "code",
   "execution_count": 15,
   "id": "vUIgQAPe4ELX",
   "metadata": {
    "id": "vUIgQAPe4ELX"
   },
   "outputs": [],
   "source": [
    "with open('/content/drive/My Drive/NLLB_en_to_hi.txt', 'w') as file:\n",
    "    file.write(str(translated_sentence_eng_to_hindi))"
   ]
  },
  {
   "cell_type": "markdown",
   "id": "qKzocvC9CGo7",
   "metadata": {
    "id": "qKzocvC9CGo7"
   },
   "source": [
    "### (3) Hindi to Marathi"
   ]
  },
  {
   "cell_type": "code",
   "execution_count": 16,
   "id": "t4xxjMiNBAFe",
   "metadata": {
    "id": "t4xxjMiNBAFe"
   },
   "outputs": [],
   "source": [
    "translated_sentence_hin_to_mar = []\n",
    "for i in range(0,20):\n",
    "    hi_true_50 = hi_1k_sentences[i*50:(i+1)*50]\n",
    "    output = NLLB(\"hin_Deva\",\"mar_Deva\",hi_true_50)\n",
    "    translated_sentence_hin_to_mar.extend(output)\n"
   ]
  },
  {
   "cell_type": "code",
   "execution_count": 17,
   "id": "zc0ajv2_Kmho",
   "metadata": {
    "colab": {
     "base_uri": "https://localhost:8080/"
    },
    "id": "zc0ajv2_Kmho",
    "outputId": "5a58fa51-0c11-4951-b6e8-d2939d601285"
   },
   "outputs": [
    {
     "data": {
      "text/plain": [
       "1000"
      ]
     },
     "execution_count": 17,
     "metadata": {},
     "output_type": "execute_result"
    }
   ],
   "source": [
    "len(translated_sentence_hin_to_mar)"
   ]
  },
  {
   "cell_type": "code",
   "execution_count": 18,
   "id": "LlNfqFcLC3KH",
   "metadata": {
    "id": "LlNfqFcLC3KH"
   },
   "outputs": [],
   "source": [
    "with open('/content/drive/My Drive/NLLB_hi_to_mar.txt', 'w') as file:\n",
    "    file.write(str(translated_sentence_hin_to_mar))"
   ]
  },
  {
   "cell_type": "markdown",
   "id": "gJy3pEbNCjPL",
   "metadata": {
    "id": "gJy3pEbNCjPL"
   },
   "source": [
    "### (4) Marathi to Hindi"
   ]
  },
  {
   "cell_type": "code",
   "execution_count": 20,
   "id": "WiENKBbSP_dI",
   "metadata": {
    "id": "WiENKBbSP_dI"
   },
   "outputs": [],
   "source": [
    "translated_sentence_mar_to_hindi = []\n",
    "for i in range(0,20):\n",
    "    mar_true_50 = mar_1k_sentences[i*50:(i+1)*50]\n",
    "    output = NLLB(\"mar_Deva\",\"hin_Deva\",mar_true_50)\n",
    "    translated_sentence_mar_to_hindi.extend(output)\n"
   ]
  },
  {
   "cell_type": "code",
   "execution_count": 21,
   "id": "M_aF1d8hKepn",
   "metadata": {
    "colab": {
     "base_uri": "https://localhost:8080/"
    },
    "id": "M_aF1d8hKepn",
    "outputId": "301e9858-ac15-4305-fe2e-3eb3703134cf"
   },
   "outputs": [
    {
     "data": {
      "text/plain": [
       "1000"
      ]
     },
     "execution_count": 21,
     "metadata": {},
     "output_type": "execute_result"
    }
   ],
   "source": [
    "len(translated_sentence_mar_to_hindi)"
   ]
  },
  {
   "cell_type": "code",
   "execution_count": 22,
   "id": "OocKOWvbCviP",
   "metadata": {
    "id": "OocKOWvbCviP"
   },
   "outputs": [],
   "source": [
    "with open('/content/drive/My Drive/NLLB_mar_to_hi.txt', 'w') as file:\n",
    "    file.write(str(translated_sentence_mar_to_hindi))"
   ]
  },
  {
   "cell_type": "markdown",
   "id": "a02734b0-e4c8-4c3c-9ca8-10f4f7e3e4cc",
   "metadata": {},
   "source": [
    "## loading translated data"
   ]
  },
  {
   "cell_type": "code",
   "execution_count": 133,
   "id": "2f54f783-a1bc-40f6-b6ef-8279cdd69a0a",
   "metadata": {},
   "outputs": [],
   "source": [
    "import ast\n",
    "def load_translated_data(path):\n",
    "    with open(path, 'r', encoding='utf-8') as file:\n",
    "    # Read the content of the file\n",
    "        content = file.read()\n",
    "        # Parse the string representation of the list\n",
    "        sentences_list = ast.literal_eval(content)\n",
    "    return sentences_list"
   ]
  },
  {
   "cell_type": "code",
   "execution_count": 134,
   "id": "d1249bf2-9639-427e-b016-c59bab44d076",
   "metadata": {},
   "outputs": [],
   "source": [
    "translated_sentence_eng_to_hindi = load_translated_data(\"./Translation/english_to_hindi.txt\")\n",
    "translated_sentence_hindi_to_eng = load_translated_data(\"./Translation/hindi_to_english.txt\")\n",
    "translated_sentence_hin_to_mar = load_translated_data(\"./Translation/hindi_to_marathi.txt\")\n",
    "translated_sentence_mar_to_hindi = load_translated_data(\"./Translation/marathi_to_hindi.txt\")"
   ]
  },
  {
   "cell_type": "markdown",
   "id": "SpZtYMaO_Nmu",
   "metadata": {
    "id": "SpZtYMaO_Nmu"
   },
   "source": [
    "## BLEU Scores"
   ]
  },
  {
   "cell_type": "code",
   "execution_count": 135,
   "id": "75aaeac8-2188-4910-9b3b-ca2eac2d3960",
   "metadata": {},
   "outputs": [],
   "source": [
    "# !pip install nltk"
   ]
  },
  {
   "cell_type": "code",
   "execution_count": 136,
   "id": "790f1b4d-de05-4491-81a9-c27496ccba80",
   "metadata": {},
   "outputs": [],
   "source": [
    "from nltk.translate.bleu_score import corpus_bleu,sentence_bleu,SmoothingFunction\n",
    "import string"
   ]
  },
  {
   "cell_type": "markdown",
   "id": "f711e1d3-26b8-475c-98ce-d06e4e094894",
   "metadata": {},
   "source": [
    "## corpus Level bleu score"
   ]
  },
  {
   "cell_type": "code",
   "execution_count": 137,
   "id": "SYkpoorG-0jn",
   "metadata": {
    "id": "SYkpoorG-0jn"
   },
   "outputs": [],
   "source": [
    "\n",
    "def corpus_level_bleu_score(original,translated):\n",
    "      bleuScore=corpus_bleu([[ref] for ref in original], translated)\n",
    "      return bleuScore\n"
   ]
  },
  {
   "cell_type": "code",
   "execution_count": 138,
   "id": "tjX_lX2__J-3",
   "metadata": {
    "id": "tjX_lX2__J-3"
   },
   "outputs": [
    {
     "name": "stdout",
     "output_type": "stream",
     "text": [
      "Corpus Level bleu score:\n",
      "English to hindi: 0.623305403326375\n",
      "Hindi to English: 0.6752860907113375\n",
      "Hindi to Marathi: 0.5501861354870586\n",
      "Marathi to Hindi: 0.5505502649480352\n"
     ]
    }
   ],
   "source": [
    "eng_to_hindi_blue = corpus_level_bleu_score(hi_1k_sentences,translated_sentence_eng_to_hindi)\n",
    "hindi_to_eng_blue = corpus_level_bleu_score(eng_1k_sentences,translated_sentence_hindi_to_eng)\n",
    "hindi_to_mar_blue = corpus_level_bleu_score(mar_1k_sentences,translated_sentence_hin_to_mar)\n",
    "mar_to_hindi_blue = corpus_level_bleu_score(hi_1k_sentences,translated_sentence_mar_to_hindi)\n",
    "\n",
    "print(f\"Corpus Level bleu score:\\nEnglish to hindi: {eng_to_hindi_blue}\\nHindi to English: {hindi_to_eng_blue}\\nHindi to Marathi: {hindi_to_mar_blue}\\nMarathi to Hindi: {mar_to_hindi_blue}\")"
   ]
  },
  {
   "cell_type": "markdown",
   "id": "1ad91bbe-be83-4bbf-b6c4-0688a3e21990",
   "metadata": {},
   "source": [
    "## Sentence lavel bleu score"
   ]
  },
  {
   "cell_type": "code",
   "execution_count": 139,
   "id": "dc5248c8-7a26-4815-bed8-61fa0c7843e5",
   "metadata": {},
   "outputs": [],
   "source": [
    "def clean_sentence(sentence):\n",
    "    # Convert to lowercase\n",
    "    cleaned_sentence = sentence.lower()\n",
    "    \n",
    "    # Remove punctuation\n",
    "    cleaned_sentence = cleaned_sentence.translate(str.maketrans('', '', string.punctuation))\n",
    "    \n",
    "    # Remove extra whitespace\n",
    "    cleaned_sentence = ' '.join(cleaned_sentence.split())\n",
    "    \n",
    "    return cleaned_sentence"
   ]
  },
  {
   "cell_type": "code",
   "execution_count": 140,
   "id": "28adc6f2-e7f4-49b5-9a2a-da9930f13357",
   "metadata": {},
   "outputs": [],
   "source": [
    "def sentence_level_bleu_score(original, translation):\n",
    "    bleu_scores = []\n",
    "    smoothing_function = SmoothingFunction()\n",
    "    for original_sentence, translation_sentence in zip(original, translation):\n",
    "        original_sentence = clean_sentence(original_sentence)\n",
    "        translation_sentence = clean_sentence(translation_sentence)\n",
    "        original_tokens = original_sentence.split()\n",
    "        translation_tokens = translation_sentence.split()\n",
    "\n",
    "        # Calculate BLEU score\n",
    "        bleu_score = sentence_bleu([original_tokens], translation_tokens,smoothing_function=smoothing_function.method2)\n",
    "        bleu_scores.append(bleu_score)\n",
    "    \n",
    "    # Calculate average BLEU score\n",
    "    overall_bleu_score = sum(bleu_scores) / len(bleu_scores)\n",
    "    return overall_bleu_score\n",
    "\n",
    "\n"
   ]
  },
  {
   "cell_type": "code",
   "execution_count": 141,
   "id": "0eb35386-4386-48a2-a1f8-08fa82f3a6c3",
   "metadata": {},
   "outputs": [
    {
     "name": "stdout",
     "output_type": "stream",
     "text": [
      "Sentence level bleu Scores:\n",
      "English to hindi: 0.3109705562655547\n",
      "Hindi to English: 0.37704726819361367\n",
      "Hindi to Marathi: 0.2006750070607821\n",
      "Marathi to Hindi: 0.2313678622705313\n"
     ]
    }
   ],
   "source": [
    "eng_to_hindi_blue = sentence_level_bleu_score(hi_1k_sentences,translated_sentence_eng_to_hindi)\n",
    "hindi_to_eng_blue = sentence_level_bleu_score(eng_1k_sentences,translated_sentence_hindi_to_eng)\n",
    "hindi_to_mar_blue = sentence_level_bleu_score(mar_1k_sentences,translated_sentence_hin_to_mar)\n",
    "mar_to_hindi_blue = sentence_level_bleu_score(hi_1k_sentences,translated_sentence_mar_to_hindi)\n",
    "\n",
    "print(f\"Sentence level bleu Scores:\\nEnglish to hindi: {eng_to_hindi_blue}\\nHindi to English: {hindi_to_eng_blue}\\nHindi to Marathi: {hindi_to_mar_blue}\\nMarathi to Hindi: {mar_to_hindi_blue}\")"
   ]
  },
  {
   "cell_type": "markdown",
   "id": "WLCrWVsu_aqb",
   "metadata": {
    "id": "WLCrWVsu_aqb"
   },
   "source": [
    "## Rouge Score"
   ]
  },
  {
   "cell_type": "code",
   "execution_count": 142,
   "id": "f53485e4-3879-45e3-b8b3-3a42a96f0a93",
   "metadata": {},
   "outputs": [],
   "source": [
    "# !pip install rouge"
   ]
  },
  {
   "cell_type": "code",
   "execution_count": 143,
   "id": "m-S9VFyc_MaO",
   "metadata": {
    "id": "m-S9VFyc_MaO"
   },
   "outputs": [],
   "source": [
    "from rouge import Rouge\n",
    "def calculate_rouge_scores(original, translated):\n",
    "    rouge = Rouge()\n",
    "    scores = rouge.get_scores(translated, original, avg=True)\n",
    "    return scores"
   ]
  },
  {
   "cell_type": "markdown",
   "id": "y8aoHs2WAYQd",
   "metadata": {
    "id": "y8aoHs2WAYQd"
   },
   "source": [
    "#### English to Hindi Translation"
   ]
  },
  {
   "cell_type": "code",
   "execution_count": 144,
   "id": "8vp6-E2uAYB1",
   "metadata": {
    "id": "8vp6-E2uAYB1"
   },
   "outputs": [
    {
     "name": "stdout",
     "output_type": "stream",
     "text": [
      "ROUGE Score English to Hindi:\n",
      "ROUGE_1: {'r': 0.5628643812289592, 'p': 0.6035171125800287, 'f': 0.5777951832073754}\n",
      "ROUGE_2: {'r': 0.33137017849860567, 'p': 0.35671377851206043, 'f': 0.34069722186098916}\n",
      "ROUGE_L: {'r': 0.525031141586268, 'p': 0.5630904909956712, 'f': 0.5390959827056208}\n"
     ]
    }
   ],
   "source": [
    "rouge_eng_to_hin=calculate_rouge_scores(hi_1k_sentences,translated_sentence_eng_to_hindi)\n",
    "print(\"ROUGE Score English to Hindi:\")\n",
    "print(\"ROUGE_1:\",rouge_eng_to_hin['rouge-1'])\n",
    "print(\"ROUGE_2:\",rouge_eng_to_hin['rouge-2'])\n",
    "print(\"ROUGE_L:\",rouge_eng_to_hin['rouge-l'])"
   ]
  },
  {
   "cell_type": "markdown",
   "id": "iiZyCrPaAigr",
   "metadata": {
    "id": "iiZyCrPaAigr"
   },
   "source": [
    "#### Hindi to English Translation"
   ]
  },
  {
   "cell_type": "code",
   "execution_count": 145,
   "id": "CagNlLtaAiXm",
   "metadata": {
    "id": "CagNlLtaAiXm"
   },
   "outputs": [
    {
     "name": "stdout",
     "output_type": "stream",
     "text": [
      "ROUGE Score Hindi to English:\n",
      "ROUGE_1: {'r': 0.6066762392449336, 'p': 0.6210699012524098, 'f': 0.6089889156702791}\n",
      "ROUGE_2: {'r': 0.38571847623571365, 'p': 0.3905454996543592, 'f': 0.3847888482389781}\n",
      "ROUGE_L: {'r': 0.5768846028422651, 'p': 0.5901536129561941, 'f': 0.5789018084610669}\n"
     ]
    }
   ],
   "source": [
    "rouge_hin_to_eng=calculate_rouge_scores(eng_1k_sentences,translated_sentence_hindi_to_eng)\n",
    "print(\"ROUGE Score Hindi to English:\")\n",
    "print(\"ROUGE_1:\",rouge_hin_to_eng['rouge-1'])\n",
    "print(\"ROUGE_2:\",rouge_hin_to_eng['rouge-2'])\n",
    "print(\"ROUGE_L:\",rouge_hin_to_eng['rouge-l'])"
   ]
  },
  {
   "cell_type": "markdown",
   "id": "UNjBbCmOBByI",
   "metadata": {
    "id": "UNjBbCmOBByI"
   },
   "source": [
    "#### Hindi to Marathi Translation\n",
    "\n",
    "\n"
   ]
  },
  {
   "cell_type": "code",
   "execution_count": 146,
   "id": "T-ORz48kBBu3",
   "metadata": {
    "id": "T-ORz48kBBu3"
   },
   "outputs": [
    {
     "name": "stdout",
     "output_type": "stream",
     "text": [
      "ROUGE Score Hindi to Marathi:\n",
      "ROUGE_1: {'r': 0.37816880654578217, 'p': 0.4053010590974208, 'f': 0.3872151192054459}\n",
      "ROUGE_2: {'r': 0.16338782702974608, 'p': 0.1749336662434575, 'f': 0.16716151408499125}\n",
      "ROUGE_L: {'r': 0.35351643890904333, 'p': 0.37860253430350144, 'f': 0.3618957693048932}\n"
     ]
    }
   ],
   "source": [
    "rouge_hin_to_mar=calculate_rouge_scores(mar_1k_sentences,translated_sentence_hin_to_mar)\n",
    "print(\"ROUGE Score Hindi to Marathi:\")\n",
    "print(\"ROUGE_1:\",rouge_hin_to_mar['rouge-1'])\n",
    "print(\"ROUGE_2:\",rouge_hin_to_mar['rouge-2'])\n",
    "print(\"ROUGE_L:\",rouge_hin_to_mar['rouge-l'])"
   ]
  },
  {
   "cell_type": "markdown",
   "id": "SWvxJ5gjA4nl",
   "metadata": {
    "id": "SWvxJ5gjA4nl"
   },
   "source": [
    "#### Marathi to Hindi Translation"
   ]
  },
  {
   "cell_type": "code",
   "execution_count": 147,
   "id": "9D2F8ou7A4ec",
   "metadata": {
    "id": "9D2F8ou7A4ec"
   },
   "outputs": [
    {
     "name": "stdout",
     "output_type": "stream",
     "text": [
      "ROUGE Score Marathi to Hindi:\n",
      "ROUGE_1: {'r': 0.4708997023939873, 'p': 0.5108553496493046, 'f': 0.485097041203127}\n",
      "ROUGE_2: {'r': 0.23502861995567412, 'p': 0.2545893446362097, 'f': 0.24188603513129844}\n",
      "ROUGE_L: {'r': 0.43606401473640055, 'p': 0.473325077250901, 'f': 0.4494431068532833}\n"
     ]
    }
   ],
   "source": [
    "rouge_mar_to_hin=calculate_rouge_scores(hi_1k_sentences,translated_sentence_mar_to_hindi)\n",
    "print(\"ROUGE Score Marathi to Hindi:\")\n",
    "print(\"ROUGE_1:\",rouge_mar_to_hin['rouge-1'])\n",
    "print(\"ROUGE_2:\",rouge_mar_to_hin['rouge-2'])\n",
    "print(\"ROUGE_L:\",rouge_mar_to_hin['rouge-l'])"
   ]
  },
  {
   "cell_type": "markdown",
   "id": "hMR33MP8CgLF",
   "metadata": {
    "id": "hMR33MP8CgLF"
   },
   "source": [
    "#                                                  END"
   ]
  }
 ],
 "metadata": {
  "accelerator": "GPU",
  "colab": {
   "gpuType": "T4",
   "provenance": []
  },
  "kernelspec": {
   "display_name": "Python 3 (ipykernel)",
   "language": "python",
   "name": "python3"
  },
  "language_info": {
   "codemirror_mode": {
    "name": "ipython",
    "version": 3
   },
   "file_extension": ".py",
   "mimetype": "text/x-python",
   "name": "python",
   "nbconvert_exporter": "python",
   "pygments_lexer": "ipython3",
   "version": "3.8.17"
  }
 },
 "nbformat": 4,
 "nbformat_minor": 5
}
