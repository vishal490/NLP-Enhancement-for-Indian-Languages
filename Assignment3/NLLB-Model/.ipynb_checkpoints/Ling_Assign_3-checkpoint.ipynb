{
  "cells": [
    {
      "cell_type": "code",
      "source": [
        "from google.colab import drive\n",
        "drive.mount('/content/drive')\n"
      ],
      "metadata": {
        "colab": {
          "base_uri": "https://localhost:8080/"
        },
        "id": "piixM5eG3Rdw",
        "outputId": "6af9a444-7d00-49d8-a678-14f772445ae2"
      },
      "id": "piixM5eG3Rdw",
      "execution_count": null,
      "outputs": [
        {
          "output_type": "stream",
          "name": "stdout",
          "text": [
            "Drive already mounted at /content/drive; to attempt to forcibly remount, call drive.mount(\"/content/drive\", force_remount=True).\n"
          ]
        }
      ]
    },
    {
      "cell_type": "code",
      "execution_count": null,
      "id": "de9c8ed8-25ae-4916-91d2-d85117a6afeb",
      "metadata": {
        "id": "de9c8ed8-25ae-4916-91d2-d85117a6afeb"
      },
      "outputs": [],
      "source": [
        "def load_data(path):\n",
        "    with open(path,\"r\",encoding = \"utf-8\") as file:\n",
        "        return [line.strip() for line in file]\n",
        "\n",
        "\n"
      ]
    },
    {
      "cell_type": "code",
      "execution_count": null,
      "id": "de52b62f-ad81-477c-ac86-c3be4972f863",
      "metadata": {
        "id": "de52b62f-ad81-477c-ac86-c3be4972f863"
      },
      "outputs": [],
      "source": [
        "en_true = load_data(\"/content/drive/MyDrive/wat2021-devtest/test.en\")\n",
        "hi_true = load_data(\"/content/drive/MyDrive/wat2021-devtest/test.hi\")\n",
        "mar_true = load_data(\"/content/drive/MyDrive/wat2021-devtest/test.mr\")\n"
      ]
    },
    {
      "cell_type": "code",
      "execution_count": null,
      "id": "4a60f4ae-d658-43eb-8c3b-186b15aaa8cf",
      "metadata": {
        "id": "4a60f4ae-d658-43eb-8c3b-186b15aaa8cf",
        "colab": {
          "base_uri": "https://localhost:8080/"
        },
        "outputId": "48ad9fea-e497-4007-c3f1-50e197d93d48"
      },
      "outputs": [
        {
          "output_type": "execute_result",
          "data": {
            "text/plain": [
              "list"
            ]
          },
          "metadata": {},
          "execution_count": 50
        }
      ],
      "source": [
        "len(hi_true),len(en_true)\n",
        "type(hi_true)"
      ]
    },
    {
      "cell_type": "markdown",
      "source": [
        "# Translation using NLLB"
      ],
      "metadata": {
        "id": "I2pTDNRA3Jkg"
      },
      "id": "I2pTDNRA3Jkg"
    },
    {
      "cell_type": "code",
      "execution_count": null,
      "id": "KJ7ZX8SUZ_nX",
      "metadata": {
        "id": "KJ7ZX8SUZ_nX"
      },
      "outputs": [],
      "source": [
        "# Use a pipeline as a high-level helper\n",
        "from transformers import AutoModelForSeq2SeqLM, AutoTokenizer\n"
      ]
    },
    {
      "cell_type": "code",
      "execution_count": null,
      "id": "41Nefho1bCfP",
      "metadata": {
        "id": "41Nefho1bCfP"
      },
      "outputs": [],
      "source": [
        "model = AutoModelForSeq2SeqLM.from_pretrained(\"facebook/nllb-200-distilled-600M\")\n",
        "def NLLB(source,target,sentences):\n",
        "    tokenizer = AutoTokenizer.from_pretrained(\"facebook/nllb-200-distilled-600M\",src=source,)\n",
        "\n",
        "    inputs = tokenizer(sentences, return_tensors=\"pt\",padding = \"longest\")\n",
        "\n",
        "    translated_tokens = model.generate(\n",
        "        **inputs, forced_bos_token_id=tokenizer.lang_code_to_id[target], max_length=30\n",
        "    )\n",
        "    return tokenizer.batch_decode(translated_tokens, skip_special_tokens=True)"
      ]
    },
    {
      "cell_type": "markdown",
      "source": [
        "### Hindi to English"
      ],
      "metadata": {
        "id": "vUIO4ehlB9MZ"
      },
      "id": "vUIO4ehlB9MZ"
    },
    {
      "cell_type": "code",
      "source": [
        "translated_sentence_hindi_to_eng = []\n",
        "for i in range(0,20):\n",
        "    hi_true_50 = hi_true[i*50:(i+1)*50]\n",
        "    output = NLLB(\"hin_Deva\",\"eng_Latn\",hi_true_50)\n",
        "    translated_sentence_hindi_to_eng.extend(output)\n"
      ],
      "metadata": {
        "id": "WA2f2aSgAEoI"
      },
      "id": "WA2f2aSgAEoI",
      "execution_count": null,
      "outputs": []
    },
    {
      "cell_type": "code",
      "source": [
        "len(translated_sentence_hindi_to_eng)"
      ],
      "metadata": {
        "colab": {
          "base_uri": "https://localhost:8080/"
        },
        "id": "zj-zrhmn1esr",
        "outputId": "a24b9f88-f457-4b5f-8e39-4d56a7b3083b"
      },
      "id": "zj-zrhmn1esr",
      "execution_count": null,
      "outputs": [
        {
          "output_type": "execute_result",
          "data": {
            "text/plain": [
              "1000"
            ]
          },
          "metadata": {},
          "execution_count": 54
        }
      ]
    },
    {
      "cell_type": "code",
      "source": [
        "with open('/content/drive/My Drive/NLLB_hi_to_en.txt', 'w') as file:\n",
        "    file.write(str(translated_sentence_hindi_to_eng))"
      ],
      "metadata": {
        "id": "kG8wu1N236N_"
      },
      "id": "kG8wu1N236N_",
      "execution_count": null,
      "outputs": []
    },
    {
      "cell_type": "markdown",
      "source": [
        "### English to Hindi"
      ],
      "metadata": {
        "id": "6P-sPXkGCCke"
      },
      "id": "6P-sPXkGCCke"
    },
    {
      "cell_type": "code",
      "source": [
        "translated_sentence_eng_to_hindi = []\n",
        "for i in range(0,20):\n",
        "    en_true_50 = en_true[i*50:(i+1)*50]\n",
        "    output = NLLB(\"eng_Latn\",\"hin_Deva\",en_true_50)\n",
        "    translated_sentence_eng_to_hindi.extend(output)\n"
      ],
      "metadata": {
        "id": "DvMqKPyf2NkW"
      },
      "id": "DvMqKPyf2NkW",
      "execution_count": null,
      "outputs": []
    },
    {
      "cell_type": "code",
      "source": [
        "len(translated_sentence_eng_to_hindi)"
      ],
      "metadata": {
        "colab": {
          "base_uri": "https://localhost:8080/"
        },
        "id": "BmfAZfe--6jk",
        "outputId": "a40b6bbc-b098-449f-e1d1-dae43ddc864c"
      },
      "id": "BmfAZfe--6jk",
      "execution_count": null,
      "outputs": [
        {
          "output_type": "execute_result",
          "data": {
            "text/plain": [
              "1000"
            ]
          },
          "metadata": {},
          "execution_count": 58
        }
      ]
    },
    {
      "cell_type": "code",
      "source": [
        "with open('/content/drive/My Drive/NLLB_en_to_hi.txt', 'w') as file:\n",
        "    file.write(str(translated_sentence_eng_to_hindi))"
      ],
      "metadata": {
        "id": "vUIgQAPe4ELX"
      },
      "id": "vUIgQAPe4ELX",
      "execution_count": null,
      "outputs": []
    },
    {
      "cell_type": "markdown",
      "source": [
        "### Hindi to Marathi"
      ],
      "metadata": {
        "id": "qKzocvC9CGo7"
      },
      "id": "qKzocvC9CGo7"
    },
    {
      "cell_type": "code",
      "source": [
        "translated_sentence_hin_to_mar = []\n",
        "for i in range(0,20):\n",
        "    hi_true_50 = hi_true[i*50:(i+1)*50]\n",
        "    output = NLLB(\"hin_Deva\",\"mar_Deva\",hi_true_50)\n",
        "    translated_sentence_hin_to_mar.extend(output)\n"
      ],
      "metadata": {
        "id": "t4xxjMiNBAFe"
      },
      "id": "t4xxjMiNBAFe",
      "execution_count": null,
      "outputs": []
    },
    {
      "cell_type": "code",
      "source": [
        "len(translated_sentence_hin_to_mar)"
      ],
      "metadata": {
        "colab": {
          "base_uri": "https://localhost:8080/"
        },
        "id": "zc0ajv2_Kmho",
        "outputId": "4a46abfc-d8a0-485a-e467-eb1321e84c99"
      },
      "id": "zc0ajv2_Kmho",
      "execution_count": null,
      "outputs": [
        {
          "output_type": "execute_result",
          "data": {
            "text/plain": [
              "1000"
            ]
          },
          "metadata": {},
          "execution_count": 71
        }
      ]
    },
    {
      "cell_type": "code",
      "source": [
        "with open('/content/drive/My Drive/NLLB_hi_to_mar.txt', 'w') as file:\n",
        "    file.write(str(translated_sentence_hin_to_mar))"
      ],
      "metadata": {
        "id": "LlNfqFcLC3KH"
      },
      "id": "LlNfqFcLC3KH",
      "execution_count": null,
      "outputs": []
    },
    {
      "cell_type": "markdown",
      "source": [
        "### Marathi to Hindi"
      ],
      "metadata": {
        "id": "gJy3pEbNCjPL"
      },
      "id": "gJy3pEbNCjPL"
    },
    {
      "cell_type": "code",
      "source": [
        "translated_sentence_mar_to_hindi = []\n",
        "for i in range(0,20):\n",
        "    mar_true_50 = mar_true[i*50:(i+1)*50]\n",
        "    output = NLLB(\"mar_Deva\",\"hin_Deva\",hi_true_50)\n",
        "    translated_sentence_mar_to_hindi.extend(output)\n"
      ],
      "metadata": {
        "id": "n31cYIx1Clgl"
      },
      "id": "n31cYIx1Clgl",
      "execution_count": null,
      "outputs": []
    },
    {
      "cell_type": "code",
      "source": [
        "len(translated_sentence_mar_to_hindi)"
      ],
      "metadata": {
        "colab": {
          "base_uri": "https://localhost:8080/"
        },
        "id": "M_aF1d8hKepn",
        "outputId": "6960ae72-b1b6-4dd2-da8f-12c92e2571c8"
      },
      "id": "M_aF1d8hKepn",
      "execution_count": null,
      "outputs": [
        {
          "output_type": "execute_result",
          "data": {
            "text/plain": [
              "1000"
            ]
          },
          "metadata": {},
          "execution_count": 70
        }
      ]
    },
    {
      "cell_type": "code",
      "source": [
        "with open('/content/drive/My Drive/NLLB_mar_to_hi.txt', 'w') as file:\n",
        "    file.write(str(translated_sentence_mar_to_hindi))"
      ],
      "metadata": {
        "id": "OocKOWvbCviP"
      },
      "id": "OocKOWvbCviP",
      "execution_count": null,
      "outputs": []
    }
  ],
  "metadata": {
    "accelerator": "GPU",
    "colab": {
      "gpuType": "T4",
      "provenance": []
    },
    "kernelspec": {
      "display_name": "Python 3",
      "name": "python3"
    },
    "language_info": {
      "codemirror_mode": {
        "name": "ipython",
        "version": 3
      },
      "file_extension": ".py",
      "mimetype": "text/x-python",
      "name": "python",
      "nbconvert_exporter": "python",
      "pygments_lexer": "ipython3",
      "version": "3.8.17"
    }
  },
  "nbformat": 4,
  "nbformat_minor": 5
}