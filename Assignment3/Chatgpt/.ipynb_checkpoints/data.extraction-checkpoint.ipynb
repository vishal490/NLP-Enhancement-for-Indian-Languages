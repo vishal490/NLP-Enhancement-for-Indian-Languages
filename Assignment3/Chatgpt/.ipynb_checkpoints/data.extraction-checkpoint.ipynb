{
 "cells": [
  {
   "cell_type": "code",
   "execution_count": 29,
   "metadata": {},
   "outputs": [],
   "source": [
    "def load_data(path):\n",
    "    with open(path,\"r\",encoding = \"utf-8\") as file:\n",
    "        return [line.strip() for line in file]\n",
    "\n",
    "\n"
   ]
  },
  {
   "cell_type": "code",
   "execution_count": 30,
   "metadata": {},
   "outputs": [],
   "source": [
    "en_true = load_data(\"./data/test.en\")\n",
    "hi_true = load_data(\"./data/test.hi\")\n",
    "mar_true = load_data(\"./data/test.mr\")\n"
   ]
  },
  {
   "cell_type": "code",
   "execution_count": 31,
   "metadata": {},
   "outputs": [],
   "source": [
    "import random\n",
    "random.seed(27)\n",
    "sample_indices = random.sample(range(len(hi_true)),50)\n",
    "def random_sentences(language):\n",
    "    random_sentences = [language[i] for i in sample_indices]\n",
    "    return random_sentences\n"
   ]
  },
  {
   "cell_type": "code",
   "execution_count": 32,
   "metadata": {},
   "outputs": [],
   "source": [
    "eng_50_sentences = random_sentences(en_true)\n",
    "hi_50_sentences =  random_sentences(hi_true)\n",
    "mar_50_sentences = random_sentences(mar_true)\n"
   ]
  },
  {
   "cell_type": "code",
   "execution_count": 51,
   "metadata": {},
   "outputs": [
    {
     "data": {
      "text/plain": [
       "['मात्र आजही जगातील एक अब्जपेक्षा जास्त लोकांना वीज उपलब्ध नाही.',\n",
       " 'ब्रिक्स आणि आयटीयूसह विविध मंचावर परस्पर सहकार्य आणि समन्वय कायम राखण्यासाठी दोनही देशांनी कटीबद्धता दर्शवली.',\n",
       " 'येथील मुली, आज आपले व आपल्या कुटुंबातल्या लोकांच्या कपड्यांबरोबर, साधे कपडे आणि सणासमारंभात घालण्यायोग्य कपडे शिवत आहेत.',\n",
       " 'पंतप्रधानांच्या कल्पनेतून साकारलेले हे अभियान सोशल मिडियावर एका विशेष चित्रफितीच्या माध्यमाद्वारे आपल्या शूर सैन्यदलाच्या जवानांना संदेश पाठविण्याचे आवाहन नागरिकांना करण्यात आले आहे.',\n",
       " 'ज्ञानाच्या शक्तीवर त्यांचा विश्वास होता.',\n",
       " 'योगामुळे शरीर निरोगी राहते आणि सुदृढही!',\n",
       " '140 किलो मीटर पेक्षा जास्त लांबीच्या पाच नवीन मेट्रो रेल प्रकल्पांना मंजुरी देण्यात आली आहे.',\n",
       " 'त्यांच्या कार्यकाळातच देशाचा अर्थसंकल्प सभागृहामध्ये मांडण्याची वेळ बदलण्यात आली.',\n",
       " 'आज परदेशी गुंतवणूकदार, भारतात विक्रमी गुंतवणूक करत आहेत.',\n",
       " 'पंतप्रधान आबे यांनी दिलेले प्रोत्साहन आणि वैयक्तिक पातळीवरील समर्थनासाठी मी त्यांचा विशेष आभारी आहे.']"
      ]
     },
     "execution_count": 51,
     "metadata": {},
     "output_type": "execute_result"
    }
   ],
   "source": [
    "mar_50_sentences[30:40] #ye nahi hua hai"
   ]
  },
  {
   "cell_type": "code",
   "execution_count": 47,
   "metadata": {},
   "outputs": [],
   "source": [
    "# en_true = load_data(\"./data/test.en\")\n",
    "eng_to_hi_translated = load_data(\"chatgpt_eng_to_hindi.txt\")\n",
    "hindi_to_eng_translates = load_data(\"chatgpt_hindi_to_eng.txt\")\n"
   ]
  },
  {
   "cell_type": "markdown",
   "metadata": {},
   "source": []
  },
  {
   "cell_type": "code",
   "execution_count": 48,
   "metadata": {},
   "outputs": [
    {
     "data": {
      "text/plain": [
       "50"
      ]
     },
     "execution_count": 48,
     "metadata": {},
     "output_type": "execute_result"
    }
   ],
   "source": [
    "len(hindi_to_eng_translates)"
   ]
  },
  {
   "cell_type": "code",
   "execution_count": null,
   "metadata": {},
   "outputs": [],
   "source": []
  }
 ],
 "metadata": {
  "kernelspec": {
   "display_name": "Python 3",
   "language": "python",
   "name": "python3"
  },
  "language_info": {
   "codemirror_mode": {
    "name": "ipython",
    "version": 3
   },
   "file_extension": ".py",
   "mimetype": "text/x-python",
   "name": "python",
   "nbconvert_exporter": "python",
   "pygments_lexer": "ipython3",
   "version": "3.12.1"
  }
 },
 "nbformat": 4,
 "nbformat_minor": 2
}
