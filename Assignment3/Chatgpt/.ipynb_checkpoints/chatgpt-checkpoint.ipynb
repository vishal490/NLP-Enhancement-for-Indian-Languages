{
 "cells": [
  {
   "cell_type": "markdown",
   "metadata": {},
   "source": [
    "# Loading data function"
   ]
  },
  {
   "cell_type": "code",
   "execution_count": 33,
   "metadata": {},
   "outputs": [],
   "source": [
    "def load_data(path):\n",
    "    with open(path,\"r\",encoding = \"utf-8\") as file:\n",
    "        return [line.strip() for line in file.readlines()]\n",
    "\n",
    "\n",
    "\n"
   ]
  },
  {
   "cell_type": "markdown",
   "metadata": {},
   "source": [
    "## Loading original 50 sentence"
   ]
  },
  {
   "cell_type": "code",
   "execution_count": 34,
   "metadata": {},
   "outputs": [],
   "source": [
    "en_true = load_data(\"./data/test.en\")\n",
    "hi_true = load_data(\"./data/test.hi\")\n",
    "mar_true = load_data(\"./data/test.mr\")"
   ]
  },
  {
   "cell_type": "code",
   "execution_count": 35,
   "metadata": {},
   "outputs": [],
   "source": [
    "import random\n",
    "random.seed(27)\n",
    "sample_indices = random.sample(range(len(hi_true)),50)\n",
    "def random_sentences(language):\n",
    "    random_sentences = [language[i] for i in sample_indices]\n",
    "    return random_sentences\n"
   ]
  },
  {
   "cell_type": "code",
   "execution_count": 36,
   "metadata": {},
   "outputs": [],
   "source": [
    "eng_50_sentences = random_sentences(en_true)\n",
    "hi_50_sentences =  random_sentences(hi_true)\n",
    "mar_50_sentences = random_sentences(mar_true)\n"
   ]
  },
  {
   "cell_type": "code",
   "execution_count": 37,
   "metadata": {},
   "outputs": [
    {
     "name": "stdout",
     "output_type": "stream",
     "text": [
      "50\n",
      "50\n",
      "50\n"
     ]
    }
   ],
   "source": [
    "print(len(eng_50_sentences))\n",
    "print(len(hi_50_sentences))\n",
    "print(len(mar_50_sentences))"
   ]
  },
  {
   "cell_type": "markdown",
   "metadata": {},
   "source": [
    "## Loading chatgpt Translated sentence"
   ]
  },
  {
   "cell_type": "code",
   "execution_count": 38,
   "metadata": {},
   "outputs": [],
   "source": [
    "eng_to_hindi = load_data(\"./Translation/chatgpt_eng_to_hindi.txt\")\n",
    "hindi_to_eng = load_data(\"./Translation/chatgpt_hindi_to_eng.txt\")\n",
    "hindi_to_mar = load_data(\"./Translation/chatgpt_hindi_to_mar.txt\")\n",
    "mar_to_hindi = load_data(\"./Translation/chatgpt_mar_to_hindi.txt\")\n"
   ]
  },
  {
   "cell_type": "code",
   "execution_count": 39,
   "metadata": {},
   "outputs": [
    {
     "name": "stdout",
     "output_type": "stream",
     "text": [
      "50\n",
      "50\n",
      "50\n",
      "50\n"
     ]
    }
   ],
   "source": [
    "print(len(eng_to_hindi))\n",
    "print(len(hindi_to_eng))\n",
    "print(len(hindi_to_mar))\n",
    "print(len(mar_to_hindi))"
   ]
  },
  {
   "cell_type": "markdown",
   "metadata": {},
   "source": []
  },
  {
   "cell_type": "markdown",
   "metadata": {},
   "source": [
    "# Blue Scores"
   ]
  },
  {
   "cell_type": "code",
   "execution_count": 40,
   "metadata": {},
   "outputs": [],
   "source": [
    "from nltk.translate.bleu_score import corpus_bleu, sentence_bleu,SmoothingFunction\n",
    "import string"
   ]
  },
  {
   "cell_type": "markdown",
   "metadata": {},
   "source": [
    "### Corpus-level BLEU Score"
   ]
  },
  {
   "cell_type": "code",
   "execution_count": 41,
   "metadata": {},
   "outputs": [],
   "source": [
    "from nltk.translate.bleu_score import corpus_bleu, sentence_bleu\n",
    "\n",
    "def corpus_level_bleu_score(original,translated):\n",
    "      bleuScore =corpus_bleu([[ref] for ref in original], translated)\n",
    "      return bleuScore\n"
   ]
  },
  {
   "cell_type": "code",
   "execution_count": 42,
   "metadata": {},
   "outputs": [
    {
     "name": "stdout",
     "output_type": "stream",
     "text": [
      "corpus_level_bleu_score:\n",
      "English to hindi: 0.5571403063814033\n",
      "Hindi to English: 0.6759954593557138\n",
      "Hindi to Marathi: 0.45905760771010506\n",
      "Marathi to Hindi: 0.5002641419433387\n"
     ]
    }
   ],
   "source": [
    "eng_to_hindi_blue = corpus_level_bleu_score(hi_50_sentences,eng_to_hindi)\n",
    "hindi_to_eng_blue = corpus_level_bleu_score(eng_50_sentences,hindi_to_eng)\n",
    "hindi_to_mar_blue = corpus_level_bleu_score(mar_50_sentences,hindi_to_mar)\n",
    "mar_to_hindi_blue = corpus_level_bleu_score(hi_50_sentences,mar_to_hindi)\n",
    "\n",
    "print(f\"corpus_level_bleu_score:\\nEnglish to hindi: {eng_to_hindi_blue}\\nHindi to English: {hindi_to_eng_blue}\\nHindi to Marathi: {hindi_to_mar_blue}\\nMarathi to Hindi: {mar_to_hindi_blue}\")"
   ]
  },
  {
   "cell_type": "markdown",
   "metadata": {},
   "source": [
    "### Sentence-level BLEU Score"
   ]
  },
  {
   "cell_type": "code",
   "execution_count": 43,
   "metadata": {},
   "outputs": [],
   "source": [
    "def clean_sentence(sentence):\n",
    "    # Convert to lowercase\n",
    "    cleaned_sentence = sentence.lower()\n",
    "    \n",
    "    # Remove punctuation\n",
    "    cleaned_sentence = cleaned_sentence.translate(str.maketrans('', '', string.punctuation))\n",
    "    \n",
    "    # Remove extra whitespace\n",
    "    cleaned_sentence = ' '.join(cleaned_sentence.split())\n",
    "    \n",
    "    return cleaned_sentence"
   ]
  },
  {
   "cell_type": "code",
   "execution_count": 44,
   "metadata": {},
   "outputs": [],
   "source": [
    "def sentence_level_bleu_score(original, translation):\n",
    "    bleu_scores = []\n",
    "    smoothing_function = SmoothingFunction()\n",
    "    for original_sentence, translation_sentence in zip(original, translation):\n",
    "        original_sentence = clean_sentence(original_sentence)\n",
    "        translation_sentence = clean_sentence(translation_sentence)\n",
    "        original_tokens = original_sentence.split()\n",
    "        translation_tokens = translation_sentence.split()\n",
    "\n",
    "        # Calculate BLEU score\n",
    "        bleu_score = sentence_bleu([original_tokens], translation_tokens,smoothing_function=smoothing_function.method2)\n",
    "        bleu_scores.append(bleu_score)\n",
    "    \n",
    "    # Calculate average BLEU score\n",
    "    overall_bleu_score = sum(bleu_scores) / len(bleu_scores)\n",
    "    return overall_bleu_score\n",
    "\n",
    "\n"
   ]
  },
  {
   "cell_type": "code",
   "execution_count": 45,
   "metadata": {},
   "outputs": [
    {
     "name": "stdout",
     "output_type": "stream",
     "text": [
      "sentence_level_bleu_score:\n",
      "English to hindi: 0.2352689404776619\n",
      "Hindi to English: 0.38535910617991326\n",
      "Hindi to Marathi: 0.12364932614313781\n",
      "Marathi to Hindi: 0.1891186551083842\n"
     ]
    }
   ],
   "source": [
    "eng_to_hindi_blue = sentence_level_bleu_score(hi_50_sentences,eng_to_hindi)\n",
    "hindi_to_eng_blue = sentence_level_bleu_score(eng_50_sentences,hindi_to_eng)\n",
    "hindi_to_mar_blue = sentence_level_bleu_score(mar_50_sentences,hindi_to_mar)\n",
    "mar_to_hindi_blue = sentence_level_bleu_score(hi_50_sentences,mar_to_hindi)\n",
    "\n",
    "print(f\"sentence_level_bleu_score:\\nEnglish to hindi: {eng_to_hindi_blue}\\nHindi to English: {hindi_to_eng_blue}\\nHindi to Marathi: {hindi_to_mar_blue}\\nMarathi to Hindi: {mar_to_hindi_blue}\")"
   ]
  },
  {
   "cell_type": "markdown",
   "metadata": {},
   "source": [
    "# Rouge Scores"
   ]
  },
  {
   "cell_type": "code",
   "execution_count": 46,
   "metadata": {},
   "outputs": [],
   "source": [
    "from rouge import Rouge\n",
    "def calculate_rouge_scores(original, translated):\n",
    "    rouge = Rouge()\n",
    "    scores = rouge.get_scores(translated, original, avg=True)\n",
    "    return scores"
   ]
  },
  {
   "cell_type": "markdown",
   "metadata": {},
   "source": [
    "### English to Hindi"
   ]
  },
  {
   "cell_type": "code",
   "execution_count": 47,
   "metadata": {},
   "outputs": [
    {
     "name": "stdout",
     "output_type": "stream",
     "text": [
      "ROUGE Score English to Hindi:\n",
      "ROUGE_1: {'r': 0.46664925471651636, 'p': 0.4774867543499078, 'f': 0.46892200167874676}\n",
      "ROUGE_2: {'r': 0.24435760851261928, 'p': 0.24962376462546743, 'f': 0.24512652237922683}\n",
      "ROUGE_L: {'r': 0.4375362768992974, 'p': 0.44736179396291303, 'f': 0.43952126948726256}\n"
     ]
    }
   ],
   "source": [
    "rouge_eng_to_hin=calculate_rouge_scores(hi_50_sentences,eng_to_hindi)\n",
    "print(\"ROUGE Score English to Hindi:\")\n",
    "print(\"ROUGE_1:\",rouge_eng_to_hin['rouge-1'])\n",
    "print(\"ROUGE_2:\",rouge_eng_to_hin['rouge-2'])\n",
    "print(\"ROUGE_L:\",rouge_eng_to_hin['rouge-l'])"
   ]
  },
  {
   "cell_type": "markdown",
   "metadata": {},
   "source": [
    "### Hindi to English"
   ]
  },
  {
   "cell_type": "code",
   "execution_count": 48,
   "metadata": {},
   "outputs": [
    {
     "name": "stdout",
     "output_type": "stream",
     "text": [
      "ROUGE Score Hindi to English:\n",
      "ROUGE_1: {'r': 0.6002958094238213, 'p': 0.6003428024658658, 'f': 0.5956924723219316}\n",
      "ROUGE_2: {'r': 0.39434417148039436, 'p': 0.39918128346056053, 'f': 0.3940595129073588}\n",
      "ROUGE_L: {'r': 0.5684085799477443, 'p': 0.5680184328640194, 'f': 0.5640323267855879}\n"
     ]
    }
   ],
   "source": [
    "rouge_hin_to_eng=calculate_rouge_scores(eng_50_sentences,hindi_to_eng)\n",
    "print(\"ROUGE Score Hindi to English:\")\n",
    "print(\"ROUGE_1:\",rouge_hin_to_eng['rouge-1'])\n",
    "print(\"ROUGE_2:\",rouge_hin_to_eng['rouge-2'])\n",
    "print(\"ROUGE_L:\",rouge_hin_to_eng['rouge-l'])"
   ]
  },
  {
   "cell_type": "markdown",
   "metadata": {},
   "source": [
    "### Marathi to Hindi"
   ]
  },
  {
   "cell_type": "code",
   "execution_count": 49,
   "metadata": {},
   "outputs": [
    {
     "name": "stdout",
     "output_type": "stream",
     "text": [
      "ROUGE Score Marathi to Hindi:\n",
      "ROUGE_1: {'r': 0.41943437009311885, 'p': 0.4392298157108293, 'f': 0.42421859247999805}\n",
      "ROUGE_2: {'r': 0.1937645936409801, 'p': 0.2035800031168385, 'f': 0.19628101822124502}\n",
      "ROUGE_L: {'r': 0.3820058452399461, 'p': 0.40064674680548956, 'f': 0.387004991954881}\n"
     ]
    }
   ],
   "source": [
    "rouge_mar_to_hin=calculate_rouge_scores(hi_50_sentences,mar_to_hindi)\n",
    "print(\"ROUGE Score Marathi to Hindi:\")\n",
    "print(\"ROUGE_1:\",rouge_mar_to_hin['rouge-1'])\n",
    "print(\"ROUGE_2:\",rouge_mar_to_hin['rouge-2'])\n",
    "print(\"ROUGE_L:\",rouge_mar_to_hin['rouge-l'])"
   ]
  },
  {
   "cell_type": "markdown",
   "metadata": {},
   "source": [
    "### Hindi to Marathi"
   ]
  },
  {
   "cell_type": "code",
   "execution_count": 50,
   "metadata": {},
   "outputs": [
    {
     "name": "stdout",
     "output_type": "stream",
     "text": [
      "ROUGE Score Hindi to Marathi:\n",
      "ROUGE_1: {'r': 0.24206635048817712, 'p': 0.23586376875045598, 'f': 0.23574168046239743}\n",
      "ROUGE_2: {'r': 0.06298102714279186, 'p': 0.06418563364739835, 'f': 0.0630364994229708}\n",
      "ROUGE_L: {'r': 0.23265553177472684, 'p': 0.22696298738527837, 'f': 0.22669029762240825}\n"
     ]
    }
   ],
   "source": [
    "rouge_hin_to_mar=calculate_rouge_scores(mar_50_sentences,hindi_to_mar)\n",
    "print(\"ROUGE Score Hindi to Marathi:\")\n",
    "print(\"ROUGE_1:\",rouge_hin_to_mar['rouge-1'])\n",
    "print(\"ROUGE_2:\",rouge_hin_to_mar['rouge-2'])\n",
    "print(\"ROUGE_L:\",rouge_hin_to_mar['rouge-l'])"
   ]
  }
 ],
 "metadata": {
  "kernelspec": {
   "display_name": "Python 3 (ipykernel)",
   "language": "python",
   "name": "python3"
  },
  "language_info": {
   "codemirror_mode": {
    "name": "ipython",
    "version": 3
   },
   "file_extension": ".py",
   "mimetype": "text/x-python",
   "name": "python",
   "nbconvert_exporter": "python",
   "pygments_lexer": "ipython3",
   "version": "3.8.17"
  }
 },
 "nbformat": 4,
 "nbformat_minor": 4
}
